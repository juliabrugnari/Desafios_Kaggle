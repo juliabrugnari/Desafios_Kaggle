{
 "cells": [
  {
   "cell_type": "code",
   "execution_count": 1,
   "id": "e07a8b69",
   "metadata": {
    "_cell_guid": "b1076dfc-b9ad-4769-8c92-a6c4dae69d19",
    "_uuid": "8f2839f25d086af736a60e9eeb907d3b93b6e0e5",
    "execution": {
     "iopub.execute_input": "2022-06-09T20:29:34.789007Z",
     "iopub.status.busy": "2022-06-09T20:29:34.788234Z",
     "iopub.status.idle": "2022-06-09T20:29:34.800931Z",
     "shell.execute_reply": "2022-06-09T20:29:34.800116Z"
    },
    "papermill": {
     "duration": 0.040029,
     "end_time": "2022-06-09T20:29:34.803999",
     "exception": false,
     "start_time": "2022-06-09T20:29:34.763970",
     "status": "completed"
    },
    "tags": []
   },
   "outputs": [
    {
     "name": "stdout",
     "output_type": "stream",
     "text": [
      "/kaggle/input/1-desafio-cd-fatec-ourinhos/sample_submission.csv\n",
      "/kaggle/input/1-desafio-cd-fatec-ourinhos/pipeline.png\n",
      "/kaggle/input/1-desafio-cd-fatec-ourinhos/stat_descriptions.csv\n",
      "/kaggle/input/1-desafio-cd-fatec-ourinhos/train.csv\n",
      "/kaggle/input/1-desafio-cd-fatec-ourinhos/test.csv\n"
     ]
    }
   ],
   "source": [
    "import os\n",
    "for dirname, _, filenames in os.walk('/kaggle/input'):\n",
    "    for filename in filenames:\n",
    "        print(os.path.join(dirname, filename))"
   ]
  },
  {
   "cell_type": "code",
   "execution_count": 2,
   "id": "75e1ec25",
   "metadata": {
    "execution": {
     "iopub.execute_input": "2022-06-09T20:29:34.848029Z",
     "iopub.status.busy": "2022-06-09T20:29:34.847361Z",
     "iopub.status.idle": "2022-06-09T20:29:36.216257Z",
     "shell.execute_reply": "2022-06-09T20:29:36.215236Z"
    },
    "papermill": {
     "duration": 1.39311,
     "end_time": "2022-06-09T20:29:36.218845",
     "exception": false,
     "start_time": "2022-06-09T20:29:34.825735",
     "status": "completed"
    },
    "tags": []
   },
   "outputs": [],
   "source": [
    "import numpy as np\n",
    "import pandas as pd\n",
    "\n",
    "import matplotlib.pyplot as plt\n",
    "import seaborn as sns\n",
    "from sklearn.preprocessing import OrdinalEncoder"
   ]
  },
  {
   "cell_type": "code",
   "execution_count": 3,
   "id": "caa40834",
   "metadata": {
    "execution": {
     "iopub.execute_input": "2022-06-09T20:29:36.265905Z",
     "iopub.status.busy": "2022-06-09T20:29:36.265242Z",
     "iopub.status.idle": "2022-06-09T20:29:36.359665Z",
     "shell.execute_reply": "2022-06-09T20:29:36.358910Z"
    },
    "papermill": {
     "duration": 0.11949,
     "end_time": "2022-06-09T20:29:36.361978",
     "exception": false,
     "start_time": "2022-06-09T20:29:36.242488",
     "status": "completed"
    },
    "tags": []
   },
   "outputs": [
    {
     "data": {
      "text/html": [
       "<div>\n",
       "<style scoped>\n",
       "    .dataframe tbody tr th:only-of-type {\n",
       "        vertical-align: middle;\n",
       "    }\n",
       "\n",
       "    .dataframe tbody tr th {\n",
       "        vertical-align: top;\n",
       "    }\n",
       "\n",
       "    .dataframe thead th {\n",
       "        text-align: right;\n",
       "    }\n",
       "</style>\n",
       "<table border=\"1\" class=\"dataframe\">\n",
       "  <thead>\n",
       "    <tr style=\"text-align: right;\">\n",
       "      <th></th>\n",
       "      <th>gs_id</th>\n",
       "      <th>gs_year</th>\n",
       "      <th>gs_team</th>\n",
       "      <th>gs_opp</th>\n",
       "      <th>gs_week_number</th>\n",
       "      <th>gs_game_day_of_week</th>\n",
       "      <th>gs_game_date</th>\n",
       "      <th>gs_game_time</th>\n",
       "      <th>gs_game_location</th>\n",
       "      <th>gs_week_num</th>\n",
       "      <th>...</th>\n",
       "      <th>ats_red_zone_scores</th>\n",
       "      <th>ats_red_zone_pct</th>\n",
       "      <th>ats_drives</th>\n",
       "      <th>ats_play_count_tip</th>\n",
       "      <th>ats_plays_per_drive</th>\n",
       "      <th>ats_yds_per_drive</th>\n",
       "      <th>ats_start_avg</th>\n",
       "      <th>ats_time_avg</th>\n",
       "      <th>ats_points_avg</th>\n",
       "      <th>winorlose</th>\n",
       "    </tr>\n",
       "  </thead>\n",
       "  <tbody>\n",
       "    <tr>\n",
       "      <th>0</th>\n",
       "      <td>682</td>\n",
       "      <td>2013</td>\n",
       "      <td>Indianapolis Colts</td>\n",
       "      <td>New England Patriots</td>\n",
       "      <td>19</td>\n",
       "      <td>Sat</td>\n",
       "      <td>January 11</td>\n",
       "      <td>8:15PM ET</td>\n",
       "      <td>home</td>\n",
       "      <td>Division</td>\n",
       "      <td>...</td>\n",
       "      <td>36.0</td>\n",
       "      <td>55.4%</td>\n",
       "      <td>201.0</td>\n",
       "      <td>1179.0</td>\n",
       "      <td>5.9</td>\n",
       "      <td>30.6</td>\n",
       "      <td>Own 30.0</td>\n",
       "      <td>2:25</td>\n",
       "      <td>2.10</td>\n",
       "      <td>L</td>\n",
       "    </tr>\n",
       "    <tr>\n",
       "      <th>1</th>\n",
       "      <td>867</td>\n",
       "      <td>2013</td>\n",
       "      <td>San Diego Chargers</td>\n",
       "      <td>Cincinnati Bengals</td>\n",
       "      <td>18</td>\n",
       "      <td>Sun</td>\n",
       "      <td>January 5</td>\n",
       "      <td>1:06PM ET</td>\n",
       "      <td>home</td>\n",
       "      <td>Wild Card</td>\n",
       "      <td>...</td>\n",
       "      <td>34.0</td>\n",
       "      <td>73.9%</td>\n",
       "      <td>201.0</td>\n",
       "      <td>1119.0</td>\n",
       "      <td>5.6</td>\n",
       "      <td>29.2</td>\n",
       "      <td>Own 26.9</td>\n",
       "      <td>2:37</td>\n",
       "      <td>1.91</td>\n",
       "      <td>W</td>\n",
       "    </tr>\n",
       "    <tr>\n",
       "      <th>2</th>\n",
       "      <td>1120</td>\n",
       "      <td>2013</td>\n",
       "      <td>San Francisco 49ers</td>\n",
       "      <td>Carolina Panthers</td>\n",
       "      <td>19</td>\n",
       "      <td>Sun</td>\n",
       "      <td>January 12</td>\n",
       "      <td>1:05PM ET</td>\n",
       "      <td>home</td>\n",
       "      <td>Division</td>\n",
       "      <td>...</td>\n",
       "      <td>29.0</td>\n",
       "      <td>58.0%</td>\n",
       "      <td>170.0</td>\n",
       "      <td>1026.0</td>\n",
       "      <td>6.0</td>\n",
       "      <td>29.8</td>\n",
       "      <td>Own 29.4</td>\n",
       "      <td>3:00</td>\n",
       "      <td>1.99</td>\n",
       "      <td>W</td>\n",
       "    </tr>\n",
       "    <tr>\n",
       "      <th>3</th>\n",
       "      <td>738</td>\n",
       "      <td>2013</td>\n",
       "      <td>New England Patriots</td>\n",
       "      <td>Denver Broncos</td>\n",
       "      <td>19</td>\n",
       "      <td>Sun</td>\n",
       "      <td>January 19</td>\n",
       "      <td>3:06PM ET</td>\n",
       "      <td>home</td>\n",
       "      <td>Conf. Champ.</td>\n",
       "      <td>...</td>\n",
       "      <td>51.0</td>\n",
       "      <td>76.1%</td>\n",
       "      <td>202.0</td>\n",
       "      <td>1182.0</td>\n",
       "      <td>5.9</td>\n",
       "      <td>36.2</td>\n",
       "      <td>Own 28.3</td>\n",
       "      <td>2:25</td>\n",
       "      <td>2.83</td>\n",
       "      <td>L</td>\n",
       "    </tr>\n",
       "    <tr>\n",
       "      <th>4</th>\n",
       "      <td>868</td>\n",
       "      <td>2013</td>\n",
       "      <td>San Diego Chargers</td>\n",
       "      <td>Denver Broncos</td>\n",
       "      <td>19</td>\n",
       "      <td>Sun</td>\n",
       "      <td>January 12</td>\n",
       "      <td>4:40PM ET</td>\n",
       "      <td>home</td>\n",
       "      <td>Division</td>\n",
       "      <td>...</td>\n",
       "      <td>51.0</td>\n",
       "      <td>76.1%</td>\n",
       "      <td>202.0</td>\n",
       "      <td>1182.0</td>\n",
       "      <td>5.9</td>\n",
       "      <td>36.2</td>\n",
       "      <td>Own 28.3</td>\n",
       "      <td>2:25</td>\n",
       "      <td>2.83</td>\n",
       "      <td>L</td>\n",
       "    </tr>\n",
       "  </tbody>\n",
       "</table>\n",
       "<p>5 rows × 263 columns</p>\n",
       "</div>"
      ],
      "text/plain": [
       "   gs_id  gs_year               gs_team                gs_opp  gs_week_number  \\\n",
       "0    682     2013    Indianapolis Colts  New England Patriots              19   \n",
       "1    867     2013    San Diego Chargers    Cincinnati Bengals              18   \n",
       "2   1120     2013   San Francisco 49ers     Carolina Panthers              19   \n",
       "3    738     2013  New England Patriots        Denver Broncos              19   \n",
       "4    868     2013    San Diego Chargers        Denver Broncos              19   \n",
       "\n",
       "  gs_game_day_of_week gs_game_date gs_game_time gs_game_location  \\\n",
       "0                 Sat   January 11    8:15PM ET             home   \n",
       "1                 Sun    January 5    1:06PM ET             home   \n",
       "2                 Sun   January 12    1:05PM ET             home   \n",
       "3                 Sun   January 19    3:06PM ET             home   \n",
       "4                 Sun   January 12    4:40PM ET             home   \n",
       "\n",
       "    gs_week_num  ...  ats_red_zone_scores  ats_red_zone_pct  ats_drives  \\\n",
       "0      Division  ...                 36.0             55.4%       201.0   \n",
       "1     Wild Card  ...                 34.0             73.9%       201.0   \n",
       "2      Division  ...                 29.0             58.0%       170.0   \n",
       "3  Conf. Champ.  ...                 51.0             76.1%       202.0   \n",
       "4      Division  ...                 51.0             76.1%       202.0   \n",
       "\n",
       "   ats_play_count_tip  ats_plays_per_drive  ats_yds_per_drive  ats_start_avg  \\\n",
       "0              1179.0                  5.9               30.6       Own 30.0   \n",
       "1              1119.0                  5.6               29.2       Own 26.9   \n",
       "2              1026.0                  6.0               29.8       Own 29.4   \n",
       "3              1182.0                  5.9               36.2       Own 28.3   \n",
       "4              1182.0                  5.9               36.2       Own 28.3   \n",
       "\n",
       "   ats_time_avg  ats_points_avg  winorlose  \n",
       "0          2:25            2.10          L  \n",
       "1          2:37            1.91          W  \n",
       "2          3:00            1.99          W  \n",
       "3          2:25            2.83          L  \n",
       "4          2:25            2.83          L  \n",
       "\n",
       "[5 rows x 263 columns]"
      ]
     },
     "execution_count": 3,
     "metadata": {},
     "output_type": "execute_result"
    }
   ],
   "source": [
    "df_train = pd.read_csv(\"../input/1-desafio-cd-fatec-ourinhos/train.csv\", sep=\";\")\n",
    "df_train.head()"
   ]
  },
  {
   "cell_type": "code",
   "execution_count": 4,
   "id": "bb83f0f5",
   "metadata": {
    "execution": {
     "iopub.execute_input": "2022-06-09T20:29:36.406092Z",
     "iopub.status.busy": "2022-06-09T20:29:36.405622Z",
     "iopub.status.idle": "2022-06-09T20:29:36.440966Z",
     "shell.execute_reply": "2022-06-09T20:29:36.439697Z"
    },
    "papermill": {
     "duration": 0.060217,
     "end_time": "2022-06-09T20:29:36.443297",
     "exception": false,
     "start_time": "2022-06-09T20:29:36.383080",
     "status": "completed"
    },
    "tags": []
   },
   "outputs": [
    {
     "data": {
      "text/html": [
       "<div>\n",
       "<style scoped>\n",
       "    .dataframe tbody tr th:only-of-type {\n",
       "        vertical-align: middle;\n",
       "    }\n",
       "\n",
       "    .dataframe tbody tr th {\n",
       "        vertical-align: top;\n",
       "    }\n",
       "\n",
       "    .dataframe thead th {\n",
       "        text-align: right;\n",
       "    }\n",
       "</style>\n",
       "<table border=\"1\" class=\"dataframe\">\n",
       "  <thead>\n",
       "    <tr style=\"text-align: right;\">\n",
       "      <th></th>\n",
       "      <th>gs_id</th>\n",
       "      <th>gs_year</th>\n",
       "      <th>gs_team</th>\n",
       "      <th>gs_opp</th>\n",
       "      <th>gs_week_number</th>\n",
       "      <th>gs_game_day_of_week</th>\n",
       "      <th>gs_game_date</th>\n",
       "      <th>gs_game_time</th>\n",
       "      <th>gs_game_location</th>\n",
       "      <th>gs_week_num</th>\n",
       "      <th>...</th>\n",
       "      <th>ats_red_zone_scores</th>\n",
       "      <th>ats_red_zone_pct</th>\n",
       "      <th>ats_drives</th>\n",
       "      <th>ats_play_count_tip</th>\n",
       "      <th>ats_plays_per_drive</th>\n",
       "      <th>ats_yds_per_drive</th>\n",
       "      <th>ats_start_avg</th>\n",
       "      <th>ats_time_avg</th>\n",
       "      <th>ats_points_avg</th>\n",
       "      <th>winorlose</th>\n",
       "    </tr>\n",
       "  </thead>\n",
       "  <tbody>\n",
       "    <tr>\n",
       "      <th>0</th>\n",
       "      <td>682</td>\n",
       "      <td>2013</td>\n",
       "      <td>Indianapolis Colts</td>\n",
       "      <td>New England Patriots</td>\n",
       "      <td>19</td>\n",
       "      <td>Sat</td>\n",
       "      <td>January 11</td>\n",
       "      <td>8:15PM ET</td>\n",
       "      <td>home</td>\n",
       "      <td>Division</td>\n",
       "      <td>...</td>\n",
       "      <td>36.0</td>\n",
       "      <td>55.4%</td>\n",
       "      <td>201.0</td>\n",
       "      <td>1179.0</td>\n",
       "      <td>5.9</td>\n",
       "      <td>30.6</td>\n",
       "      <td>Own 30.0</td>\n",
       "      <td>2:25</td>\n",
       "      <td>2.10</td>\n",
       "      <td>L</td>\n",
       "    </tr>\n",
       "    <tr>\n",
       "      <th>1</th>\n",
       "      <td>867</td>\n",
       "      <td>2013</td>\n",
       "      <td>San Diego Chargers</td>\n",
       "      <td>Cincinnati Bengals</td>\n",
       "      <td>18</td>\n",
       "      <td>Sun</td>\n",
       "      <td>January 5</td>\n",
       "      <td>1:06PM ET</td>\n",
       "      <td>home</td>\n",
       "      <td>Wild Card</td>\n",
       "      <td>...</td>\n",
       "      <td>34.0</td>\n",
       "      <td>73.9%</td>\n",
       "      <td>201.0</td>\n",
       "      <td>1119.0</td>\n",
       "      <td>5.6</td>\n",
       "      <td>29.2</td>\n",
       "      <td>Own 26.9</td>\n",
       "      <td>2:37</td>\n",
       "      <td>1.91</td>\n",
       "      <td>W</td>\n",
       "    </tr>\n",
       "    <tr>\n",
       "      <th>2</th>\n",
       "      <td>1120</td>\n",
       "      <td>2013</td>\n",
       "      <td>San Francisco 49ers</td>\n",
       "      <td>Carolina Panthers</td>\n",
       "      <td>19</td>\n",
       "      <td>Sun</td>\n",
       "      <td>January 12</td>\n",
       "      <td>1:05PM ET</td>\n",
       "      <td>home</td>\n",
       "      <td>Division</td>\n",
       "      <td>...</td>\n",
       "      <td>29.0</td>\n",
       "      <td>58.0%</td>\n",
       "      <td>170.0</td>\n",
       "      <td>1026.0</td>\n",
       "      <td>6.0</td>\n",
       "      <td>29.8</td>\n",
       "      <td>Own 29.4</td>\n",
       "      <td>3:00</td>\n",
       "      <td>1.99</td>\n",
       "      <td>W</td>\n",
       "    </tr>\n",
       "    <tr>\n",
       "      <th>3</th>\n",
       "      <td>738</td>\n",
       "      <td>2013</td>\n",
       "      <td>New England Patriots</td>\n",
       "      <td>Denver Broncos</td>\n",
       "      <td>19</td>\n",
       "      <td>Sun</td>\n",
       "      <td>January 19</td>\n",
       "      <td>3:06PM ET</td>\n",
       "      <td>home</td>\n",
       "      <td>Conf. Champ.</td>\n",
       "      <td>...</td>\n",
       "      <td>51.0</td>\n",
       "      <td>76.1%</td>\n",
       "      <td>202.0</td>\n",
       "      <td>1182.0</td>\n",
       "      <td>5.9</td>\n",
       "      <td>36.2</td>\n",
       "      <td>Own 28.3</td>\n",
       "      <td>2:25</td>\n",
       "      <td>2.83</td>\n",
       "      <td>L</td>\n",
       "    </tr>\n",
       "    <tr>\n",
       "      <th>4</th>\n",
       "      <td>868</td>\n",
       "      <td>2013</td>\n",
       "      <td>San Diego Chargers</td>\n",
       "      <td>Denver Broncos</td>\n",
       "      <td>19</td>\n",
       "      <td>Sun</td>\n",
       "      <td>January 12</td>\n",
       "      <td>4:40PM ET</td>\n",
       "      <td>home</td>\n",
       "      <td>Division</td>\n",
       "      <td>...</td>\n",
       "      <td>51.0</td>\n",
       "      <td>76.1%</td>\n",
       "      <td>202.0</td>\n",
       "      <td>1182.0</td>\n",
       "      <td>5.9</td>\n",
       "      <td>36.2</td>\n",
       "      <td>Own 28.3</td>\n",
       "      <td>2:25</td>\n",
       "      <td>2.83</td>\n",
       "      <td>L</td>\n",
       "    </tr>\n",
       "  </tbody>\n",
       "</table>\n",
       "<p>5 rows × 263 columns</p>\n",
       "</div>"
      ],
      "text/plain": [
       "   gs_id  gs_year               gs_team                gs_opp  gs_week_number  \\\n",
       "0    682     2013    Indianapolis Colts  New England Patriots              19   \n",
       "1    867     2013    San Diego Chargers    Cincinnati Bengals              18   \n",
       "2   1120     2013   San Francisco 49ers     Carolina Panthers              19   \n",
       "3    738     2013  New England Patriots        Denver Broncos              19   \n",
       "4    868     2013    San Diego Chargers        Denver Broncos              19   \n",
       "\n",
       "  gs_game_day_of_week gs_game_date gs_game_time gs_game_location  \\\n",
       "0                 Sat   January 11    8:15PM ET             home   \n",
       "1                 Sun    January 5    1:06PM ET             home   \n",
       "2                 Sun   January 12    1:05PM ET             home   \n",
       "3                 Sun   January 19    3:06PM ET             home   \n",
       "4                 Sun   January 12    4:40PM ET             home   \n",
       "\n",
       "    gs_week_num  ...  ats_red_zone_scores  ats_red_zone_pct  ats_drives  \\\n",
       "0      Division  ...                 36.0             55.4%       201.0   \n",
       "1     Wild Card  ...                 34.0             73.9%       201.0   \n",
       "2      Division  ...                 29.0             58.0%       170.0   \n",
       "3  Conf. Champ.  ...                 51.0             76.1%       202.0   \n",
       "4      Division  ...                 51.0             76.1%       202.0   \n",
       "\n",
       "   ats_play_count_tip  ats_plays_per_drive  ats_yds_per_drive  ats_start_avg  \\\n",
       "0              1179.0                  5.9               30.6       Own 30.0   \n",
       "1              1119.0                  5.6               29.2       Own 26.9   \n",
       "2              1026.0                  6.0               29.8       Own 29.4   \n",
       "3              1182.0                  5.9               36.2       Own 28.3   \n",
       "4              1182.0                  5.9               36.2       Own 28.3   \n",
       "\n",
       "   ats_time_avg  ats_points_avg  winorlose  \n",
       "0          2:25            2.10          L  \n",
       "1          2:37            1.91          W  \n",
       "2          3:00            1.99          W  \n",
       "3          2:25            2.83          L  \n",
       "4          2:25            2.83          L  \n",
       "\n",
       "[5 rows x 263 columns]"
      ]
     },
     "execution_count": 4,
     "metadata": {},
     "output_type": "execute_result"
    }
   ],
   "source": [
    "# retirando os espaços dos nomes das colunas\n",
    "Coluna_name=[]\n",
    "for i in df_train:\n",
    "    Coluna_name.append(i.strip()) \n",
    "df_train.columns = Coluna_name \n",
    "\n",
    "df_train.head()"
   ]
  },
  {
   "cell_type": "code",
   "execution_count": 5,
   "id": "8efff447",
   "metadata": {
    "execution": {
     "iopub.execute_input": "2022-06-09T20:29:36.490029Z",
     "iopub.status.busy": "2022-06-09T20:29:36.489303Z",
     "iopub.status.idle": "2022-06-09T20:29:36.495905Z",
     "shell.execute_reply": "2022-06-09T20:29:36.494949Z"
    },
    "papermill": {
     "duration": 0.032897,
     "end_time": "2022-06-09T20:29:36.498400",
     "exception": false,
     "start_time": "2022-06-09T20:29:36.465503",
     "status": "completed"
    },
    "tags": []
   },
   "outputs": [
    {
     "data": {
      "text/plain": [
       "(526, 263)"
      ]
     },
     "execution_count": 5,
     "metadata": {},
     "output_type": "execute_result"
    }
   ],
   "source": [
    "# verificando a quantidade de linha e coluna\n",
    "df_train.shape"
   ]
  },
  {
   "cell_type": "code",
   "execution_count": 6,
   "id": "7e0a9c58",
   "metadata": {
    "execution": {
     "iopub.execute_input": "2022-06-09T20:29:36.546234Z",
     "iopub.status.busy": "2022-06-09T20:29:36.545113Z",
     "iopub.status.idle": "2022-06-09T20:29:36.551832Z",
     "shell.execute_reply": "2022-06-09T20:29:36.551128Z"
    },
    "papermill": {
     "duration": 0.031747,
     "end_time": "2022-06-09T20:29:36.553945",
     "exception": false,
     "start_time": "2022-06-09T20:29:36.522198",
     "status": "completed"
    },
    "tags": []
   },
   "outputs": [
    {
     "data": {
      "text/plain": [
       "Index(['gs_id', 'gs_year', 'gs_team', 'gs_opp', 'gs_week_number',\n",
       "       'gs_game_day_of_week', 'gs_game_date', 'gs_game_time',\n",
       "       'gs_game_location', 'gs_week_num',\n",
       "       ...\n",
       "       'ats_red_zone_scores', 'ats_red_zone_pct', 'ats_drives',\n",
       "       'ats_play_count_tip', 'ats_plays_per_drive', 'ats_yds_per_drive',\n",
       "       'ats_start_avg', 'ats_time_avg', 'ats_points_avg', 'winorlose'],\n",
       "      dtype='object', length=263)"
      ]
     },
     "execution_count": 6,
     "metadata": {},
     "output_type": "execute_result"
    }
   ],
   "source": [
    "# colunas\n",
    "df_train.columns"
   ]
  },
  {
   "cell_type": "code",
   "execution_count": 7,
   "id": "125592ab",
   "metadata": {
    "execution": {
     "iopub.execute_input": "2022-06-09T20:29:36.600328Z",
     "iopub.status.busy": "2022-06-09T20:29:36.599430Z",
     "iopub.status.idle": "2022-06-09T20:29:36.613852Z",
     "shell.execute_reply": "2022-06-09T20:29:36.613069Z"
    },
    "papermill": {
     "duration": 0.040317,
     "end_time": "2022-06-09T20:29:36.616089",
     "exception": false,
     "start_time": "2022-06-09T20:29:36.575772",
     "status": "completed"
    },
    "tags": []
   },
   "outputs": [
    {
     "data": {
      "text/plain": [
       "gs_id                  0\n",
       "gs_year                0\n",
       "gs_team                0\n",
       "gs_opp                 0\n",
       "gs_week_number         0\n",
       "                    ... \n",
       "ats_yds_per_drive    286\n",
       "ats_start_avg        286\n",
       "ats_time_avg         286\n",
       "ats_points_avg       286\n",
       "winorlose              0\n",
       "Length: 263, dtype: int64"
      ]
     },
     "execution_count": 7,
     "metadata": {},
     "output_type": "execute_result"
    }
   ],
   "source": [
    "df_train.isnull().sum()"
   ]
  },
  {
   "cell_type": "code",
   "execution_count": 8,
   "id": "b7caa5e8",
   "metadata": {
    "execution": {
     "iopub.execute_input": "2022-06-09T20:29:36.666607Z",
     "iopub.status.busy": "2022-06-09T20:29:36.665942Z",
     "iopub.status.idle": "2022-06-09T20:29:36.709920Z",
     "shell.execute_reply": "2022-06-09T20:29:36.708833Z"
    },
    "papermill": {
     "duration": 0.073417,
     "end_time": "2022-06-09T20:29:36.712561",
     "exception": false,
     "start_time": "2022-06-09T20:29:36.639144",
     "status": "completed"
    },
    "tags": []
   },
   "outputs": [
    {
     "name": "stdout",
     "output_type": "stream",
     "text": [
      "<class 'pandas.core.frame.DataFrame'>\n",
      "RangeIndex: 526 entries, 0 to 525\n",
      "Columns: 263 entries, gs_id to winorlose\n",
      "dtypes: float64(128), int64(111), object(24)\n",
      "memory usage: 1.1+ MB\n"
     ]
    }
   ],
   "source": [
    "# tipo dos dados\n",
    "df_train.info()"
   ]
  },
  {
   "cell_type": "code",
   "execution_count": 9,
   "id": "b500a74a",
   "metadata": {
    "execution": {
     "iopub.execute_input": "2022-06-09T20:29:36.762703Z",
     "iopub.status.busy": "2022-06-09T20:29:36.761703Z",
     "iopub.status.idle": "2022-06-09T20:29:36.797116Z",
     "shell.execute_reply": "2022-06-09T20:29:36.795943Z"
    },
    "papermill": {
     "duration": 0.066291,
     "end_time": "2022-06-09T20:29:36.802135",
     "exception": false,
     "start_time": "2022-06-09T20:29:36.735844",
     "status": "completed"
    },
    "tags": []
   },
   "outputs": [
    {
     "name": "stderr",
     "output_type": "stream",
     "text": [
      "/opt/conda/lib/python3.7/site-packages/ipykernel_launcher.py:1: DeprecationWarning: `np.object` is a deprecated alias for the builtin `object`. To silence this warning, use `object` by itself. Doing this will not modify any behavior and is safe. \n",
      "Deprecated in NumPy 1.20; for more details and guidance: https://numpy.org/devdocs/release/1.20.0-notes.html#deprecations\n",
      "  \"\"\"Entry point for launching an IPython kernel.\n"
     ]
    },
    {
     "data": {
      "text/html": [
       "<div>\n",
       "<style scoped>\n",
       "    .dataframe tbody tr th:only-of-type {\n",
       "        vertical-align: middle;\n",
       "    }\n",
       "\n",
       "    .dataframe tbody tr th {\n",
       "        vertical-align: top;\n",
       "    }\n",
       "\n",
       "    .dataframe thead th {\n",
       "        text-align: right;\n",
       "    }\n",
       "</style>\n",
       "<table border=\"1\" class=\"dataframe\">\n",
       "  <thead>\n",
       "    <tr style=\"text-align: right;\">\n",
       "      <th></th>\n",
       "      <th>gs_team</th>\n",
       "      <th>gs_opp</th>\n",
       "      <th>gs_game_day_of_week</th>\n",
       "      <th>gs_game_date</th>\n",
       "      <th>gs_game_time</th>\n",
       "      <th>gs_game_location</th>\n",
       "      <th>gs_week_num</th>\n",
       "      <th>hts_fg_perc</th>\n",
       "      <th>hts_xp_perc</th>\n",
       "      <th>hts_kickoff_tb_pct</th>\n",
       "      <th>...</th>\n",
       "      <th>hts_time_avg</th>\n",
       "      <th>ats_fg_perc</th>\n",
       "      <th>ats_xp_perc</th>\n",
       "      <th>ats_kickoff_tb_pct</th>\n",
       "      <th>ats_third_down_pct</th>\n",
       "      <th>ats_fourth_down_pct</th>\n",
       "      <th>ats_red_zone_pct</th>\n",
       "      <th>ats_start_avg</th>\n",
       "      <th>ats_time_avg</th>\n",
       "      <th>winorlose</th>\n",
       "    </tr>\n",
       "  </thead>\n",
       "  <tbody>\n",
       "    <tr>\n",
       "      <th>0</th>\n",
       "      <td>Indianapolis Colts</td>\n",
       "      <td>New England Patriots</td>\n",
       "      <td>Sat</td>\n",
       "      <td>January 11</td>\n",
       "      <td>8:15PM ET</td>\n",
       "      <td>home</td>\n",
       "      <td>Division</td>\n",
       "      <td>87.5%</td>\n",
       "      <td>100.0%</td>\n",
       "      <td>46.6%</td>\n",
       "      <td>...</td>\n",
       "      <td>2:32</td>\n",
       "      <td>92.7%</td>\n",
       "      <td>100.0%</td>\n",
       "      <td>65.7%</td>\n",
       "      <td>37.6%</td>\n",
       "      <td>46.7%</td>\n",
       "      <td>55.4%</td>\n",
       "      <td>Own 30.0</td>\n",
       "      <td>2:25</td>\n",
       "      <td>L</td>\n",
       "    </tr>\n",
       "    <tr>\n",
       "      <th>1</th>\n",
       "      <td>San Diego Chargers</td>\n",
       "      <td>Cincinnati Bengals</td>\n",
       "      <td>Sun</td>\n",
       "      <td>January 5</td>\n",
       "      <td>1:06PM ET</td>\n",
       "      <td>home</td>\n",
       "      <td>Wild Card</td>\n",
       "      <td>91.9%</td>\n",
       "      <td>100.0%</td>\n",
       "      <td>19.6%</td>\n",
       "      <td>...</td>\n",
       "      <td>3:13</td>\n",
       "      <td>81.8%</td>\n",
       "      <td>98.1%</td>\n",
       "      <td>37.2%</td>\n",
       "      <td>40.9%</td>\n",
       "      <td>57.1%</td>\n",
       "      <td>73.9%</td>\n",
       "      <td>Own 26.9</td>\n",
       "      <td>2:37</td>\n",
       "      <td>W</td>\n",
       "    </tr>\n",
       "    <tr>\n",
       "      <th>2</th>\n",
       "      <td>San Francisco 49ers</td>\n",
       "      <td>Carolina Panthers</td>\n",
       "      <td>Sun</td>\n",
       "      <td>January 12</td>\n",
       "      <td>1:05PM ET</td>\n",
       "      <td>home</td>\n",
       "      <td>Division</td>\n",
       "      <td>88.9%</td>\n",
       "      <td>100.0%</td>\n",
       "      <td>41.3%</td>\n",
       "      <td>...</td>\n",
       "      <td>2:36</td>\n",
       "      <td>88.9%</td>\n",
       "      <td>100.0%</td>\n",
       "      <td>76.8%</td>\n",
       "      <td>43.8%</td>\n",
       "      <td>76.9%</td>\n",
       "      <td>58.0%</td>\n",
       "      <td>Own 29.4</td>\n",
       "      <td>3:00</td>\n",
       "      <td>W</td>\n",
       "    </tr>\n",
       "    <tr>\n",
       "      <th>3</th>\n",
       "      <td>New England Patriots</td>\n",
       "      <td>Denver Broncos</td>\n",
       "      <td>Sun</td>\n",
       "      <td>January 19</td>\n",
       "      <td>3:06PM ET</td>\n",
       "      <td>home</td>\n",
       "      <td>Conf. Champ.</td>\n",
       "      <td>92.7%</td>\n",
       "      <td>100.0%</td>\n",
       "      <td>65.7%</td>\n",
       "      <td>...</td>\n",
       "      <td>2:25</td>\n",
       "      <td>96.2%</td>\n",
       "      <td>100.0%</td>\n",
       "      <td>70.4%</td>\n",
       "      <td>46.3%</td>\n",
       "      <td>88.9%</td>\n",
       "      <td>76.1%</td>\n",
       "      <td>Own 28.3</td>\n",
       "      <td>2:25</td>\n",
       "      <td>L</td>\n",
       "    </tr>\n",
       "    <tr>\n",
       "      <th>4</th>\n",
       "      <td>San Diego Chargers</td>\n",
       "      <td>Denver Broncos</td>\n",
       "      <td>Sun</td>\n",
       "      <td>January 12</td>\n",
       "      <td>4:40PM ET</td>\n",
       "      <td>home</td>\n",
       "      <td>Division</td>\n",
       "      <td>91.9%</td>\n",
       "      <td>100.0%</td>\n",
       "      <td>19.6%</td>\n",
       "      <td>...</td>\n",
       "      <td>3:13</td>\n",
       "      <td>96.2%</td>\n",
       "      <td>100.0%</td>\n",
       "      <td>70.4%</td>\n",
       "      <td>46.3%</td>\n",
       "      <td>88.9%</td>\n",
       "      <td>76.1%</td>\n",
       "      <td>Own 28.3</td>\n",
       "      <td>2:25</td>\n",
       "      <td>L</td>\n",
       "    </tr>\n",
       "    <tr>\n",
       "      <th>...</th>\n",
       "      <td>...</td>\n",
       "      <td>...</td>\n",
       "      <td>...</td>\n",
       "      <td>...</td>\n",
       "      <td>...</td>\n",
       "      <td>...</td>\n",
       "      <td>...</td>\n",
       "      <td>...</td>\n",
       "      <td>...</td>\n",
       "      <td>...</td>\n",
       "      <td>...</td>\n",
       "      <td>...</td>\n",
       "      <td>...</td>\n",
       "      <td>...</td>\n",
       "      <td>...</td>\n",
       "      <td>...</td>\n",
       "      <td>...</td>\n",
       "      <td>...</td>\n",
       "      <td>...</td>\n",
       "      <td>...</td>\n",
       "      <td>...</td>\n",
       "    </tr>\n",
       "    <tr>\n",
       "      <th>521</th>\n",
       "      <td>Minnesota Vikings</td>\n",
       "      <td>San Francisco 49ers</td>\n",
       "      <td>Sat</td>\n",
       "      <td>January 6</td>\n",
       "      <td>4:00PM ET</td>\n",
       "      <td>home</td>\n",
       "      <td>Division</td>\n",
       "      <td>72.7%</td>\n",
       "      <td>97.2%</td>\n",
       "      <td>NaN</td>\n",
       "      <td>...</td>\n",
       "      <td>NaN</td>\n",
       "      <td>80.6%</td>\n",
       "      <td>96.1%</td>\n",
       "      <td>NaN</td>\n",
       "      <td>NaN</td>\n",
       "      <td>NaN</td>\n",
       "      <td>NaN</td>\n",
       "      <td>NaN</td>\n",
       "      <td>NaN</td>\n",
       "      <td>L</td>\n",
       "    </tr>\n",
       "    <tr>\n",
       "      <th>522</th>\n",
       "      <td>Los Angeles Rams</td>\n",
       "      <td>San Francisco 49ers</td>\n",
       "      <td>Sun</td>\n",
       "      <td>January 14</td>\n",
       "      <td>5:00PM ET</td>\n",
       "      <td>home</td>\n",
       "      <td>Conf. Champ.</td>\n",
       "      <td>76.7%</td>\n",
       "      <td>100.0%</td>\n",
       "      <td>NaN</td>\n",
       "      <td>...</td>\n",
       "      <td>NaN</td>\n",
       "      <td>80.6%</td>\n",
       "      <td>96.1%</td>\n",
       "      <td>NaN</td>\n",
       "      <td>NaN</td>\n",
       "      <td>NaN</td>\n",
       "      <td>NaN</td>\n",
       "      <td>NaN</td>\n",
       "      <td>NaN</td>\n",
       "      <td>L</td>\n",
       "    </tr>\n",
       "    <tr>\n",
       "      <th>523</th>\n",
       "      <td>Buffalo Bills</td>\n",
       "      <td>Cleveland Browns</td>\n",
       "      <td>Sat</td>\n",
       "      <td>January 6</td>\n",
       "      <td>12:30PM ET</td>\n",
       "      <td>home</td>\n",
       "      <td>Division</td>\n",
       "      <td>76.7%</td>\n",
       "      <td>97.9%</td>\n",
       "      <td>NaN</td>\n",
       "      <td>...</td>\n",
       "      <td>NaN</td>\n",
       "      <td>66.7%</td>\n",
       "      <td>100.0%</td>\n",
       "      <td>NaN</td>\n",
       "      <td>NaN</td>\n",
       "      <td>NaN</td>\n",
       "      <td>NaN</td>\n",
       "      <td>NaN</td>\n",
       "      <td>NaN</td>\n",
       "      <td>L</td>\n",
       "    </tr>\n",
       "    <tr>\n",
       "      <th>524</th>\n",
       "      <td>Los Angeles Rams</td>\n",
       "      <td>Philadelphia Eagles</td>\n",
       "      <td>Sun</td>\n",
       "      <td>December 31</td>\n",
       "      <td>12:30PM ET</td>\n",
       "      <td>home</td>\n",
       "      <td>Wild Card</td>\n",
       "      <td>76.7%</td>\n",
       "      <td>100.0%</td>\n",
       "      <td>NaN</td>\n",
       "      <td>...</td>\n",
       "      <td>NaN</td>\n",
       "      <td>60.6%</td>\n",
       "      <td>100.0%</td>\n",
       "      <td>NaN</td>\n",
       "      <td>NaN</td>\n",
       "      <td>NaN</td>\n",
       "      <td>NaN</td>\n",
       "      <td>NaN</td>\n",
       "      <td>NaN</td>\n",
       "      <td>W</td>\n",
       "    </tr>\n",
       "    <tr>\n",
       "      <th>525</th>\n",
       "      <td>Los Angeles Rams</td>\n",
       "      <td>New York Giants</td>\n",
       "      <td>Sun</td>\n",
       "      <td>January 7</td>\n",
       "      <td>12:30PM ET</td>\n",
       "      <td>home</td>\n",
       "      <td>Division</td>\n",
       "      <td>76.7%</td>\n",
       "      <td>100.0%</td>\n",
       "      <td>NaN</td>\n",
       "      <td>...</td>\n",
       "      <td>NaN</td>\n",
       "      <td>76.3%</td>\n",
       "      <td>94.6%</td>\n",
       "      <td>NaN</td>\n",
       "      <td>NaN</td>\n",
       "      <td>NaN</td>\n",
       "      <td>NaN</td>\n",
       "      <td>NaN</td>\n",
       "      <td>NaN</td>\n",
       "      <td>W</td>\n",
       "    </tr>\n",
       "  </tbody>\n",
       "</table>\n",
       "<p>526 rows × 24 columns</p>\n",
       "</div>"
      ],
      "text/plain": [
       "                  gs_team                gs_opp gs_game_day_of_week  \\\n",
       "0      Indianapolis Colts  New England Patriots                 Sat   \n",
       "1      San Diego Chargers    Cincinnati Bengals                 Sun   \n",
       "2     San Francisco 49ers     Carolina Panthers                 Sun   \n",
       "3    New England Patriots        Denver Broncos                 Sun   \n",
       "4      San Diego Chargers        Denver Broncos                 Sun   \n",
       "..                    ...                   ...                 ...   \n",
       "521     Minnesota Vikings   San Francisco 49ers                 Sat   \n",
       "522      Los Angeles Rams   San Francisco 49ers                 Sun   \n",
       "523         Buffalo Bills      Cleveland Browns                 Sat   \n",
       "524      Los Angeles Rams   Philadelphia Eagles                 Sun   \n",
       "525      Los Angeles Rams       New York Giants                 Sun   \n",
       "\n",
       "    gs_game_date gs_game_time gs_game_location   gs_week_num hts_fg_perc  \\\n",
       "0     January 11    8:15PM ET             home      Division       87.5%   \n",
       "1      January 5    1:06PM ET             home     Wild Card       91.9%   \n",
       "2     January 12    1:05PM ET             home      Division       88.9%   \n",
       "3     January 19    3:06PM ET             home  Conf. Champ.       92.7%   \n",
       "4     January 12    4:40PM ET             home      Division       91.9%   \n",
       "..           ...          ...              ...           ...         ...   \n",
       "521    January 6    4:00PM ET             home      Division       72.7%   \n",
       "522   January 14    5:00PM ET             home  Conf. Champ.       76.7%   \n",
       "523    January 6   12:30PM ET             home      Division       76.7%   \n",
       "524  December 31   12:30PM ET             home     Wild Card       76.7%   \n",
       "525    January 7   12:30PM ET             home      Division       76.7%   \n",
       "\n",
       "    hts_xp_perc hts_kickoff_tb_pct  ... hts_time_avg ats_fg_perc ats_xp_perc  \\\n",
       "0        100.0%              46.6%  ...         2:32       92.7%      100.0%   \n",
       "1        100.0%              19.6%  ...         3:13       81.8%       98.1%   \n",
       "2        100.0%              41.3%  ...         2:36       88.9%      100.0%   \n",
       "3        100.0%              65.7%  ...         2:25       96.2%      100.0%   \n",
       "4        100.0%              19.6%  ...         3:13       96.2%      100.0%   \n",
       "..          ...                ...  ...          ...         ...         ...   \n",
       "521       97.2%                NaN  ...          NaN       80.6%       96.1%   \n",
       "522      100.0%                NaN  ...          NaN       80.6%       96.1%   \n",
       "523       97.9%                NaN  ...          NaN       66.7%      100.0%   \n",
       "524      100.0%                NaN  ...          NaN       60.6%      100.0%   \n",
       "525      100.0%                NaN  ...          NaN       76.3%       94.6%   \n",
       "\n",
       "    ats_kickoff_tb_pct ats_third_down_pct ats_fourth_down_pct  \\\n",
       "0                65.7%              37.6%               46.7%   \n",
       "1                37.2%              40.9%               57.1%   \n",
       "2                76.8%              43.8%               76.9%   \n",
       "3                70.4%              46.3%               88.9%   \n",
       "4                70.4%              46.3%               88.9%   \n",
       "..                 ...                ...                 ...   \n",
       "521                NaN                NaN                 NaN   \n",
       "522                NaN                NaN                 NaN   \n",
       "523                NaN                NaN                 NaN   \n",
       "524                NaN                NaN                 NaN   \n",
       "525                NaN                NaN                 NaN   \n",
       "\n",
       "    ats_red_zone_pct ats_start_avg ats_time_avg winorlose  \n",
       "0              55.4%      Own 30.0         2:25         L  \n",
       "1              73.9%      Own 26.9         2:37         W  \n",
       "2              58.0%      Own 29.4         3:00         W  \n",
       "3              76.1%      Own 28.3         2:25         L  \n",
       "4              76.1%      Own 28.3         2:25         L  \n",
       "..               ...           ...          ...       ...  \n",
       "521              NaN           NaN          NaN         L  \n",
       "522              NaN           NaN          NaN         L  \n",
       "523              NaN           NaN          NaN         L  \n",
       "524              NaN           NaN          NaN         W  \n",
       "525              NaN           NaN          NaN         W  \n",
       "\n",
       "[526 rows x 24 columns]"
      ]
     },
     "execution_count": 9,
     "metadata": {},
     "output_type": "execute_result"
    }
   ],
   "source": [
    "df_train.select_dtypes(np.object)"
   ]
  },
  {
   "cell_type": "markdown",
   "id": "3f942225",
   "metadata": {
    "papermill": {
     "duration": 0.022554,
     "end_time": "2022-06-09T20:29:36.847710",
     "exception": false,
     "start_time": "2022-06-09T20:29:36.825156",
     "status": "completed"
    },
    "tags": []
   },
   "source": [
    "*Melhorando as colunas object*"
   ]
  },
  {
   "cell_type": "code",
   "execution_count": 10,
   "id": "4b8c4c4d",
   "metadata": {
    "execution": {
     "iopub.execute_input": "2022-06-09T20:29:36.895375Z",
     "iopub.status.busy": "2022-06-09T20:29:36.894964Z",
     "iopub.status.idle": "2022-06-09T20:29:36.900680Z",
     "shell.execute_reply": "2022-06-09T20:29:36.899986Z"
    },
    "papermill": {
     "duration": 0.032009,
     "end_time": "2022-06-09T20:29:36.902843",
     "exception": false,
     "start_time": "2022-06-09T20:29:36.870834",
     "status": "completed"
    },
    "tags": []
   },
   "outputs": [
    {
     "data": {
      "text/plain": [
       "'df_train.columns([\\'ats_fg_perc\\',\\'ats_xp_perc\\', \\n         \\'ats_kickoff_tb_pct\\',\\'ats_third_down_pct\\',\\n         \\'ats_fourth_down_pct\\',\\'ats_red_zone_pct\\']).str.replace(\"%\", \"\")'"
      ]
     },
     "execution_count": 10,
     "metadata": {},
     "output_type": "execute_result"
    }
   ],
   "source": [
    "#tentar limpar\n",
    "\n",
    "'''df_train.columns(['ats_fg_perc','ats_xp_perc', \n",
    "         'ats_kickoff_tb_pct','ats_third_down_pct',\n",
    "         'ats_fourth_down_pct','ats_red_zone_pct']).str.replace(\"%\", \"\")'''"
   ]
  },
  {
   "cell_type": "code",
   "execution_count": 11,
   "id": "91a37490",
   "metadata": {
    "execution": {
     "iopub.execute_input": "2022-06-09T20:29:36.951113Z",
     "iopub.status.busy": "2022-06-09T20:29:36.949814Z",
     "iopub.status.idle": "2022-06-09T20:29:36.956818Z",
     "shell.execute_reply": "2022-06-09T20:29:36.955960Z"
    },
    "papermill": {
     "duration": 0.032679,
     "end_time": "2022-06-09T20:29:36.958787",
     "exception": false,
     "start_time": "2022-06-09T20:29:36.926108",
     "status": "completed"
    },
    "tags": []
   },
   "outputs": [
    {
     "data": {
      "text/plain": [
       "\"df_train[['ats_fg_perc','ats_xp_perc', \\n         'ats_kickoff_tb_pct','ats_third_down_pct',\\n         'ats_fourth_down_pct','ats_red_zone_pct']] = df_train[['ats_fg_perc','ats_xp_perc', \\n         'ats_kickoff_tb_pct','ats_third_down_pct',\\n         'ats_fourth_down_pct','ats_red_zone_pct']].apply(pd.to_numeric)\""
      ]
     },
     "execution_count": 11,
     "metadata": {},
     "output_type": "execute_result"
    }
   ],
   "source": [
    "#depois colocar como o type certo\n",
    "'''df_train[['ats_fg_perc','ats_xp_perc', \n",
    "         'ats_kickoff_tb_pct','ats_third_down_pct',\n",
    "         'ats_fourth_down_pct','ats_red_zone_pct']] = df_train[['ats_fg_perc','ats_xp_perc', \n",
    "         'ats_kickoff_tb_pct','ats_third_down_pct',\n",
    "         'ats_fourth_down_pct','ats_red_zone_pct']].apply(pd.to_numeric)'''"
   ]
  },
  {
   "cell_type": "code",
   "execution_count": 12,
   "id": "d2c1c845",
   "metadata": {
    "execution": {
     "iopub.execute_input": "2022-06-09T20:29:37.006608Z",
     "iopub.status.busy": "2022-06-09T20:29:37.005981Z",
     "iopub.status.idle": "2022-06-09T20:29:37.012870Z",
     "shell.execute_reply": "2022-06-09T20:29:37.012138Z"
    },
    "papermill": {
     "duration": 0.033563,
     "end_time": "2022-06-09T20:29:37.014991",
     "exception": false,
     "start_time": "2022-06-09T20:29:36.981428",
     "status": "completed"
    },
    "tags": []
   },
   "outputs": [],
   "source": [
    "df_train = df_train.drop(columns=['gs_game_date', 'gs_game_time',\n",
    "                    'ats_fg_perc','ats_xp_perc', 'ats_kickoff_tb_pct','ats_third_down_pct',\n",
    "                    'ats_fourth_down_pct','ats_red_zone_pct','hts_fg_perc', 'hts_xp_perc',\n",
    "                    'hts_kickoff_tb_pct', 'hts_third_down_pct', 'hts_fourth_down_pct',\n",
    "                    'hts_red_zone_pct', 'hts_start_avg', 'hts_time_avg', 'ats_start_avg', 'ats_time_avg'])\n"
   ]
  },
  {
   "cell_type": "code",
   "execution_count": 13,
   "id": "9b9092f6",
   "metadata": {
    "execution": {
     "iopub.execute_input": "2022-06-09T20:29:37.063993Z",
     "iopub.status.busy": "2022-06-09T20:29:37.063294Z",
     "iopub.status.idle": "2022-06-09T20:29:37.068421Z",
     "shell.execute_reply": "2022-06-09T20:29:37.067807Z"
    },
    "papermill": {
     "duration": 0.031894,
     "end_time": "2022-06-09T20:29:37.070189",
     "exception": false,
     "start_time": "2022-06-09T20:29:37.038295",
     "status": "completed"
    },
    "tags": []
   },
   "outputs": [
    {
     "data": {
      "text/plain": [
       "(526, 245)"
      ]
     },
     "execution_count": 13,
     "metadata": {},
     "output_type": "execute_result"
    }
   ],
   "source": [
    "df_train.shape"
   ]
  },
  {
   "cell_type": "markdown",
   "id": "7006ecd0",
   "metadata": {
    "papermill": {
     "duration": 0.024452,
     "end_time": "2022-06-09T20:29:37.118190",
     "exception": false,
     "start_time": "2022-06-09T20:29:37.093738",
     "status": "completed"
    },
    "tags": []
   },
   "source": [
    "Os dados estão bem desbalanceados "
   ]
  },
  {
   "cell_type": "code",
   "execution_count": 14,
   "id": "6a477605",
   "metadata": {
    "execution": {
     "iopub.execute_input": "2022-06-09T20:29:37.165933Z",
     "iopub.status.busy": "2022-06-09T20:29:37.165284Z",
     "iopub.status.idle": "2022-06-09T20:29:37.333336Z",
     "shell.execute_reply": "2022-06-09T20:29:37.331208Z"
    },
    "papermill": {
     "duration": 0.195727,
     "end_time": "2022-06-09T20:29:37.336983",
     "exception": false,
     "start_time": "2022-06-09T20:29:37.141256",
     "status": "completed"
    },
    "tags": []
   },
   "outputs": [
    {
     "name": "stdout",
     "output_type": "stream",
     "text": [
      "L    340\n",
      "W    186\n",
      "Name: winorlose, dtype: int64\n"
     ]
    },
    {
     "data": {
      "image/png": "[encoded data removed]",
      "text/plain": [
       "<Figure size 432x288 with 1 Axes>"
      ]
     },
     "metadata": {},
     "output_type": "display_data"
    }
   ],
   "source": [
    "import matplotlib.pyplot as plt\n",
    "\n",
    "print(df_train['winorlose'].value_counts())\n",
    "\n",
    "labels = 'L','W'\n",
    "sizes = df_train['winorlose'].value_counts()\n",
    "\n",
    "fig1, ax1 = plt.subplots()\n",
    "\n",
    "ax1.pie(sizes, labels=labels, autopct='%1.1f%%',\n",
    "       shadow=True, startangle=90)\n",
    "\n",
    "ax1.axis('equal')\n",
    "\n",
    "plt.show()"
   ]
  },
  {
   "cell_type": "markdown",
   "id": "e7f610d8",
   "metadata": {
    "papermill": {
     "duration": 0.033504,
     "end_time": "2022-06-09T20:29:37.414008",
     "exception": false,
     "start_time": "2022-06-09T20:29:37.380504",
     "status": "completed"
    },
    "tags": []
   },
   "source": [
    "Quantidade de L e W de cada time "
   ]
  },
  {
   "cell_type": "code",
   "execution_count": 15,
   "id": "17b426df",
   "metadata": {
    "execution": {
     "iopub.execute_input": "2022-06-09T20:29:37.462595Z",
     "iopub.status.busy": "2022-06-09T20:29:37.461937Z",
     "iopub.status.idle": "2022-06-09T20:29:38.157686Z",
     "shell.execute_reply": "2022-06-09T20:29:38.156544Z"
    },
    "papermill": {
     "duration": 0.722933,
     "end_time": "2022-06-09T20:29:38.160120",
     "exception": false,
     "start_time": "2022-06-09T20:29:37.437187",
     "status": "completed"
    },
    "tags": []
   },
   "outputs": [
    {
     "data": {
      "image/png": "[encoded data removed]",
      "text/plain": [
       "<Figure size 432x288 with 1 Axes>"
      ]
     },
     "metadata": {
      "needs_background": "light"
     },
     "output_type": "display_data"
    }
   ],
   "source": [
    "ax = sns.countplot(x=\"gs_team\", hue=\"winorlose\", data=df_train)\n",
    "ax.set_xticklabels(ax.get_xticklabels(), rotation=90, ha=\"right\")\n",
    "plt.tight_layout()\n",
    "plt.show()"
   ]
  },
  {
   "cell_type": "markdown",
   "id": "862f8250",
   "metadata": {
    "papermill": {
     "duration": 0.02475,
     "end_time": "2022-06-09T20:29:38.208880",
     "exception": false,
     "start_time": "2022-06-09T20:29:38.184130",
     "status": "completed"
    },
    "tags": []
   },
   "source": [
    "Etapas do campeonato"
   ]
  },
  {
   "cell_type": "code",
   "execution_count": 16,
   "id": "4922e6ec",
   "metadata": {
    "execution": {
     "iopub.execute_input": "2022-06-09T20:29:38.258686Z",
     "iopub.status.busy": "2022-06-09T20:29:38.258298Z",
     "iopub.status.idle": "2022-06-09T20:29:38.470664Z",
     "shell.execute_reply": "2022-06-09T20:29:38.469522Z"
    },
    "papermill": {
     "duration": 0.240336,
     "end_time": "2022-06-09T20:29:38.473003",
     "exception": false,
     "start_time": "2022-06-09T20:29:38.232667",
     "status": "completed"
    },
    "tags": []
   },
   "outputs": [
    {
     "data": {
      "text/plain": [
       "<AxesSubplot:xlabel='gs_week_num', ylabel='count'>"
      ]
     },
     "execution_count": 16,
     "metadata": {},
     "output_type": "execute_result"
    },
    {
     "data": {
      "image/png": "[encoded data removed]",
      "text/plain": [
       "<Figure size 1080x576 with 1 Axes>"
      ]
     },
     "metadata": {
      "needs_background": "light"
     },
     "output_type": "display_data"
    }
   ],
   "source": [
    "plt.figure(figsize = (15,8))\n",
    "sns.countplot(x='gs_week_num', data=df_train, orient = 'h', order = df_train['gs_week_num'].value_counts().head().index)"
   ]
  },
  {
   "cell_type": "markdown",
   "id": "f21b2618",
   "metadata": {
    "papermill": {
     "duration": 0.023975,
     "end_time": "2022-06-09T20:29:38.521651",
     "exception": false,
     "start_time": "2022-06-09T20:29:38.497676",
     "status": "completed"
    },
    "tags": []
   },
   "source": [
    "Média de pontos dos times "
   ]
  },
  {
   "cell_type": "code",
   "execution_count": 17,
   "id": "a4e5f4a4",
   "metadata": {
    "execution": {
     "iopub.execute_input": "2022-06-09T20:29:38.573100Z",
     "iopub.status.busy": "2022-06-09T20:29:38.572686Z",
     "iopub.status.idle": "2022-06-09T20:29:40.337590Z",
     "shell.execute_reply": "2022-06-09T20:29:40.336535Z"
    },
    "papermill": {
     "duration": 1.792686,
     "end_time": "2022-06-09T20:29:40.339916",
     "exception": false,
     "start_time": "2022-06-09T20:29:38.547230",
     "status": "completed"
    },
    "tags": []
   },
   "outputs": [
    {
     "data": {
      "image/png": "[encoded data removed]",
      "text/plain": [
       "<Figure size 720x576 with 1 Axes>"
      ]
     },
     "metadata": {
      "needs_background": "light"
     },
     "output_type": "display_data"
    }
   ],
   "source": [
    "import matplotlib.pyplot as plt\n",
    "\n",
    "#criando uma figure, axes, alterando tamanho\n",
    "fig, ax = plt.subplots(figsize=(10,8))\n",
    "#criando o gráfico de barras\n",
    "sns.barplot(x=df_train['ats_points_avg'].index, y=df_train['gs_team'], ax=ax, data=df_train,     \n",
    "            palette='RdPu')\n",
    "#adicionando título\n",
    "ax.set_title(\"Média de pontos dos times da casa\", fontdict={'fontsize':15})\n",
    "#mudando nome e tamanho do label x\n",
    "ax.set_xlabel('Média de pontos', fontdict={'fontsize':14})\n",
    "#mudando nome e tamanho do label y\n",
    "ax.set_ylabel('Times', fontdict={'fontsize':14})\n",
    "#mudando tamanho dos labels dos ticks\n",
    "ax.tick_params(labelsize=14)\n",
    "#otimizar espaço da figure\n",
    "fig.tight_layout();"
   ]
  },
  {
   "cell_type": "code",
   "execution_count": 18,
   "id": "7ef0ee2b",
   "metadata": {
    "execution": {
     "iopub.execute_input": "2022-06-09T20:29:40.393908Z",
     "iopub.status.busy": "2022-06-09T20:29:40.393453Z",
     "iopub.status.idle": "2022-06-09T20:29:42.049736Z",
     "shell.execute_reply": "2022-06-09T20:29:42.048680Z"
    },
    "papermill": {
     "duration": 1.687194,
     "end_time": "2022-06-09T20:29:42.053425",
     "exception": false,
     "start_time": "2022-06-09T20:29:40.366231",
     "status": "completed"
    },
    "tags": []
   },
   "outputs": [
    {
     "data": {
      "image/png": "[encoded data removed]",
      "text/plain": [
       "<Figure size 720x576 with 1 Axes>"
      ]
     },
     "metadata": {
      "needs_background": "light"
     },
     "output_type": "display_data"
    }
   ],
   "source": [
    "import matplotlib.pyplot as plt\n",
    "\n",
    "#criando uma figure, axes, alterando tamanho\n",
    "fig, ax = plt.subplots(figsize=(10,8))\n",
    "#criando o gráfico de barras\n",
    "sns.barplot(x=df_train['ats_points_avg'].index, y=df_train['gs_opp'], ax=ax, data=df_train,     \n",
    "            palette='RdPu')\n",
    "#adicionando título\n",
    "ax.set_title(\"Média de pontos dos times adversários\", fontdict={'fontsize':15})\n",
    "#mudando nome e tamanho do label x\n",
    "ax.set_xlabel('Média de pontos', fontdict={'fontsize':14})\n",
    "#mudando nome e tamanho do label y\n",
    "ax.set_ylabel('Times', fontdict={'fontsize':14})\n",
    "#mudando tamanho dos labels dos ticks\n",
    "ax.tick_params(labelsize=14)\n",
    "#otimizar espaço da figure\n",
    "fig.tight_layout();\n"
   ]
  },
  {
   "cell_type": "markdown",
   "id": "0507f37d",
   "metadata": {
    "papermill": {
     "duration": 0.026768,
     "end_time": "2022-06-09T20:29:42.108315",
     "exception": false,
     "start_time": "2022-06-09T20:29:42.081547",
     "status": "completed"
    },
    "tags": []
   },
   "source": [
    "Correlação"
   ]
  },
  {
   "cell_type": "code",
   "execution_count": 19,
   "id": "306b3b05",
   "metadata": {
    "execution": {
     "iopub.execute_input": "2022-06-09T20:29:42.163840Z",
     "iopub.status.busy": "2022-06-09T20:29:42.163439Z",
     "iopub.status.idle": "2022-06-09T20:29:42.169142Z",
     "shell.execute_reply": "2022-06-09T20:29:42.168381Z"
    },
    "papermill": {
     "duration": 0.035788,
     "end_time": "2022-06-09T20:29:42.171092",
     "exception": false,
     "start_time": "2022-06-09T20:29:42.135304",
     "status": "completed"
    },
    "tags": []
   },
   "outputs": [
    {
     "data": {
      "text/plain": [
       "\"plt.figure(figsize=(10, 12))\\nsns.heatmap(df_train.corr(),\\n            annot = True,\\n            fmt = '.1f',\\n            linewidths=.6,\\n            cmap='Greens')\\nplt.title('Correlação dos dados')\\nplt.show()\""
      ]
     },
     "execution_count": 19,
     "metadata": {},
     "output_type": "execute_result"
    }
   ],
   "source": [
    "'''plt.figure(figsize=(10, 12))\n",
    "sns.heatmap(df_train.corr(),\n",
    "            annot = True,\n",
    "            fmt = '.1f',\n",
    "            linewidths=.6,\n",
    "            cmap='Greens')\n",
    "plt.title('Correlação dos dados')\n",
    "plt.show()'''"
   ]
  },
  {
   "cell_type": "markdown",
   "id": "caf03edf",
   "metadata": {
    "papermill": {
     "duration": 0.026758,
     "end_time": "2022-06-09T20:29:42.225079",
     "exception": false,
     "start_time": "2022-06-09T20:29:42.198321",
     "status": "completed"
    },
    "tags": []
   },
   "source": [
    "Linhas duplicadas"
   ]
  },
  {
   "cell_type": "code",
   "execution_count": 20,
   "id": "43a63d29",
   "metadata": {
    "execution": {
     "iopub.execute_input": "2022-06-09T20:29:42.280481Z",
     "iopub.status.busy": "2022-06-09T20:29:42.280091Z",
     "iopub.status.idle": "2022-06-09T20:29:42.323559Z",
     "shell.execute_reply": "2022-06-09T20:29:42.322500Z"
    },
    "papermill": {
     "duration": 0.074559,
     "end_time": "2022-06-09T20:29:42.326371",
     "exception": false,
     "start_time": "2022-06-09T20:29:42.251812",
     "status": "completed"
    },
    "tags": []
   },
   "outputs": [
    {
     "name": "stdout",
     "output_type": "stream",
     "text": [
      "0      False\n",
      "1      False\n",
      "2      False\n",
      "3      False\n",
      "4      False\n",
      "       ...  \n",
      "521    False\n",
      "522    False\n",
      "523    False\n",
      "524    False\n",
      "525    False\n",
      "Length: 526, dtype: bool\n"
     ]
    }
   ],
   "source": [
    "# linhas duplicadas\n",
    "print(df_train.duplicated())\n"
   ]
  },
  {
   "cell_type": "markdown",
   "id": "062320df",
   "metadata": {
    "papermill": {
     "duration": 0.026473,
     "end_time": "2022-06-09T20:29:42.380360",
     "exception": false,
     "start_time": "2022-06-09T20:29:42.353887",
     "status": "completed"
    },
    "tags": []
   },
   "source": [
    "Estatística Descritiva "
   ]
  },
  {
   "cell_type": "code",
   "execution_count": 21,
   "id": "9b1756af",
   "metadata": {
    "execution": {
     "iopub.execute_input": "2022-06-09T20:29:42.436357Z",
     "iopub.status.busy": "2022-06-09T20:29:42.435342Z",
     "iopub.status.idle": "2022-06-09T20:29:43.072724Z",
     "shell.execute_reply": "2022-06-09T20:29:43.071655Z"
    },
    "papermill": {
     "duration": 0.667942,
     "end_time": "2022-06-09T20:29:43.075125",
     "exception": false,
     "start_time": "2022-06-09T20:29:42.407183",
     "status": "completed"
    },
    "tags": []
   },
   "outputs": [
    {
     "data": {
      "text/html": [
       "<div>\n",
       "<style scoped>\n",
       "    .dataframe tbody tr th:only-of-type {\n",
       "        vertical-align: middle;\n",
       "    }\n",
       "\n",
       "    .dataframe tbody tr th {\n",
       "        vertical-align: top;\n",
       "    }\n",
       "\n",
       "    .dataframe thead th {\n",
       "        text-align: right;\n",
       "    }\n",
       "</style>\n",
       "<table border=\"1\" class=\"dataframe\">\n",
       "  <thead>\n",
       "    <tr style=\"text-align: right;\">\n",
       "      <th></th>\n",
       "      <th>gs_id</th>\n",
       "      <th>gs_year</th>\n",
       "      <th>gs_week_number</th>\n",
       "      <th>hts_id</th>\n",
       "      <th>hts_wins</th>\n",
       "      <th>hts_losses</th>\n",
       "      <th>hts_ties</th>\n",
       "      <th>hts_win_loss_perc</th>\n",
       "      <th>hts_points</th>\n",
       "      <th>hts_points_opp</th>\n",
       "      <th>...</th>\n",
       "      <th>ats_third_down_success</th>\n",
       "      <th>ats_fourth_down_att</th>\n",
       "      <th>ats_fourth_down_success</th>\n",
       "      <th>ats_red_zone_att</th>\n",
       "      <th>ats_red_zone_scores</th>\n",
       "      <th>ats_drives</th>\n",
       "      <th>ats_play_count_tip</th>\n",
       "      <th>ats_plays_per_drive</th>\n",
       "      <th>ats_yds_per_drive</th>\n",
       "      <th>ats_points_avg</th>\n",
       "    </tr>\n",
       "  </thead>\n",
       "  <tbody>\n",
       "    <tr>\n",
       "      <th>count</th>\n",
       "      <td>526.000000</td>\n",
       "      <td>526.000000</td>\n",
       "      <td>526.000000</td>\n",
       "      <td>526.000000</td>\n",
       "      <td>526.000000</td>\n",
       "      <td>526.000000</td>\n",
       "      <td>238.000000</td>\n",
       "      <td>526.000000</td>\n",
       "      <td>526.000000</td>\n",
       "      <td>526.000000</td>\n",
       "      <td>...</td>\n",
       "      <td>324.000000</td>\n",
       "      <td>324.000000</td>\n",
       "      <td>324.000000</td>\n",
       "      <td>323.000000</td>\n",
       "      <td>323.000000</td>\n",
       "      <td>240.000000</td>\n",
       "      <td>240.000000</td>\n",
       "      <td>240.000000</td>\n",
       "      <td>240.000000</td>\n",
       "      <td>240.000000</td>\n",
       "    </tr>\n",
       "    <tr>\n",
       "      <th>mean</th>\n",
       "      <td>14563.096958</td>\n",
       "      <td>1995.041825</td>\n",
       "      <td>18.098859</td>\n",
       "      <td>812.340304</td>\n",
       "      <td>10.437262</td>\n",
       "      <td>5.030418</td>\n",
       "      <td>0.126050</td>\n",
       "      <td>0.674962</td>\n",
       "      <td>366.739544</td>\n",
       "      <td>284.657795</td>\n",
       "      <td>...</td>\n",
       "      <td>87.666667</td>\n",
       "      <td>12.435185</td>\n",
       "      <td>6.604938</td>\n",
       "      <td>41.260062</td>\n",
       "      <td>23.535604</td>\n",
       "      <td>185.633333</td>\n",
       "      <td>1055.504167</td>\n",
       "      <td>5.704167</td>\n",
       "      <td>30.944583</td>\n",
       "      <td>2.100458</td>\n",
       "    </tr>\n",
       "    <tr>\n",
       "      <th>std</th>\n",
       "      <td>7048.293591</td>\n",
       "      <td>13.411657</td>\n",
       "      <td>1.880658</td>\n",
       "      <td>403.478471</td>\n",
       "      <td>1.674134</td>\n",
       "      <td>1.566016</td>\n",
       "      <td>0.345058</td>\n",
       "      <td>0.095295</td>\n",
       "      <td>63.699433</td>\n",
       "      <td>57.124899</td>\n",
       "      <td>...</td>\n",
       "      <td>10.332851</td>\n",
       "      <td>4.740850</td>\n",
       "      <td>3.357646</td>\n",
       "      <td>25.361251</td>\n",
       "      <td>15.414797</td>\n",
       "      <td>11.089166</td>\n",
       "      <td>55.259297</td>\n",
       "      <td>0.366573</td>\n",
       "      <td>3.945334</td>\n",
       "      <td>0.388976</td>\n",
       "    </tr>\n",
       "    <tr>\n",
       "      <th>min</th>\n",
       "      <td>682.000000</td>\n",
       "      <td>1970.000000</td>\n",
       "      <td>10.000000</td>\n",
       "      <td>32.000000</td>\n",
       "      <td>4.000000</td>\n",
       "      <td>0.000000</td>\n",
       "      <td>0.000000</td>\n",
       "      <td>0.438000</td>\n",
       "      <td>135.000000</td>\n",
       "      <td>128.000000</td>\n",
       "      <td>...</td>\n",
       "      <td>62.000000</td>\n",
       "      <td>3.000000</td>\n",
       "      <td>0.000000</td>\n",
       "      <td>0.000000</td>\n",
       "      <td>0.000000</td>\n",
       "      <td>141.000000</td>\n",
       "      <td>735.000000</td>\n",
       "      <td>4.800000</td>\n",
       "      <td>20.500000</td>\n",
       "      <td>1.130000</td>\n",
       "    </tr>\n",
       "    <tr>\n",
       "      <th>25%</th>\n",
       "      <td>8652.250000</td>\n",
       "      <td>1984.000000</td>\n",
       "      <td>18.000000</td>\n",
       "      <td>477.000000</td>\n",
       "      <td>9.000000</td>\n",
       "      <td>4.000000</td>\n",
       "      <td>0.000000</td>\n",
       "      <td>0.625000</td>\n",
       "      <td>326.000000</td>\n",
       "      <td>248.000000</td>\n",
       "      <td>...</td>\n",
       "      <td>81.000000</td>\n",
       "      <td>10.000000</td>\n",
       "      <td>4.000000</td>\n",
       "      <td>0.000000</td>\n",
       "      <td>0.000000</td>\n",
       "      <td>178.750000</td>\n",
       "      <td>1025.000000</td>\n",
       "      <td>5.500000</td>\n",
       "      <td>28.000000</td>\n",
       "      <td>1.835000</td>\n",
       "    </tr>\n",
       "    <tr>\n",
       "      <th>50%</th>\n",
       "      <td>14809.500000</td>\n",
       "      <td>1996.000000</td>\n",
       "      <td>18.000000</td>\n",
       "      <td>815.000000</td>\n",
       "      <td>10.000000</td>\n",
       "      <td>5.000000</td>\n",
       "      <td>0.000000</td>\n",
       "      <td>0.688000</td>\n",
       "      <td>366.000000</td>\n",
       "      <td>290.000000</td>\n",
       "      <td>...</td>\n",
       "      <td>89.000000</td>\n",
       "      <td>12.000000</td>\n",
       "      <td>6.000000</td>\n",
       "      <td>50.000000</td>\n",
       "      <td>27.000000</td>\n",
       "      <td>185.000000</td>\n",
       "      <td>1052.000000</td>\n",
       "      <td>5.700000</td>\n",
       "      <td>30.800000</td>\n",
       "      <td>2.095000</td>\n",
       "    </tr>\n",
       "    <tr>\n",
       "      <th>75%</th>\n",
       "      <td>20519.250000</td>\n",
       "      <td>2006.750000</td>\n",
       "      <td>19.000000</td>\n",
       "      <td>1146.000000</td>\n",
       "      <td>11.000000</td>\n",
       "      <td>6.000000</td>\n",
       "      <td>0.000000</td>\n",
       "      <td>0.750000</td>\n",
       "      <td>405.000000</td>\n",
       "      <td>326.000000</td>\n",
       "      <td>...</td>\n",
       "      <td>94.000000</td>\n",
       "      <td>14.250000</td>\n",
       "      <td>8.000000</td>\n",
       "      <td>60.000000</td>\n",
       "      <td>35.000000</td>\n",
       "      <td>193.000000</td>\n",
       "      <td>1091.000000</td>\n",
       "      <td>5.900000</td>\n",
       "      <td>33.900000</td>\n",
       "      <td>2.380000</td>\n",
       "    </tr>\n",
       "    <tr>\n",
       "      <th>max</th>\n",
       "      <td>26629.000000</td>\n",
       "      <td>2017.000000</td>\n",
       "      <td>21.000000</td>\n",
       "      <td>1538.000000</td>\n",
       "      <td>16.000000</td>\n",
       "      <td>9.000000</td>\n",
       "      <td>2.000000</td>\n",
       "      <td>1.000000</td>\n",
       "      <td>606.000000</td>\n",
       "      <td>471.000000</td>\n",
       "      <td>...</td>\n",
       "      <td>127.000000</td>\n",
       "      <td>34.000000</td>\n",
       "      <td>19.000000</td>\n",
       "      <td>75.000000</td>\n",
       "      <td>51.000000</td>\n",
       "      <td>217.000000</td>\n",
       "      <td>1226.000000</td>\n",
       "      <td>6.700000</td>\n",
       "      <td>42.600000</td>\n",
       "      <td>3.190000</td>\n",
       "    </tr>\n",
       "  </tbody>\n",
       "</table>\n",
       "<p>8 rows × 239 columns</p>\n",
       "</div>"
      ],
      "text/plain": [
       "              gs_id      gs_year  gs_week_number       hts_id    hts_wins  \\\n",
       "count    526.000000   526.000000      526.000000   526.000000  526.000000   \n",
       "mean   14563.096958  1995.041825       18.098859   812.340304   10.437262   \n",
       "std     7048.293591    13.411657        1.880658   403.478471    1.674134   \n",
       "min      682.000000  1970.000000       10.000000    32.000000    4.000000   \n",
       "25%     8652.250000  1984.000000       18.000000   477.000000    9.000000   \n",
       "50%    14809.500000  1996.000000       18.000000   815.000000   10.000000   \n",
       "75%    20519.250000  2006.750000       19.000000  1146.000000   11.000000   \n",
       "max    26629.000000  2017.000000       21.000000  1538.000000   16.000000   \n",
       "\n",
       "       hts_losses    hts_ties  hts_win_loss_perc  hts_points  hts_points_opp  \\\n",
       "count  526.000000  238.000000         526.000000  526.000000      526.000000   \n",
       "mean     5.030418    0.126050           0.674962  366.739544      284.657795   \n",
       "std      1.566016    0.345058           0.095295   63.699433       57.124899   \n",
       "min      0.000000    0.000000           0.438000  135.000000      128.000000   \n",
       "25%      4.000000    0.000000           0.625000  326.000000      248.000000   \n",
       "50%      5.000000    0.000000           0.688000  366.000000      290.000000   \n",
       "75%      6.000000    0.000000           0.750000  405.000000      326.000000   \n",
       "max      9.000000    2.000000           1.000000  606.000000      471.000000   \n",
       "\n",
       "       ...  ats_third_down_success  ats_fourth_down_att  \\\n",
       "count  ...              324.000000           324.000000   \n",
       "mean   ...               87.666667            12.435185   \n",
       "std    ...               10.332851             4.740850   \n",
       "min    ...               62.000000             3.000000   \n",
       "25%    ...               81.000000            10.000000   \n",
       "50%    ...               89.000000            12.000000   \n",
       "75%    ...               94.000000            14.250000   \n",
       "max    ...              127.000000            34.000000   \n",
       "\n",
       "       ats_fourth_down_success  ats_red_zone_att  ats_red_zone_scores  \\\n",
       "count               324.000000        323.000000           323.000000   \n",
       "mean                  6.604938         41.260062            23.535604   \n",
       "std                   3.357646         25.361251            15.414797   \n",
       "min                   0.000000          0.000000             0.000000   \n",
       "25%                   4.000000          0.000000             0.000000   \n",
       "50%                   6.000000         50.000000            27.000000   \n",
       "75%                   8.000000         60.000000            35.000000   \n",
       "max                  19.000000         75.000000            51.000000   \n",
       "\n",
       "       ats_drives  ats_play_count_tip  ats_plays_per_drive  ats_yds_per_drive  \\\n",
       "count  240.000000          240.000000           240.000000         240.000000   \n",
       "mean   185.633333         1055.504167             5.704167          30.944583   \n",
       "std     11.089166           55.259297             0.366573           3.945334   \n",
       "min    141.000000          735.000000             4.800000          20.500000   \n",
       "25%    178.750000         1025.000000             5.500000          28.000000   \n",
       "50%    185.000000         1052.000000             5.700000          30.800000   \n",
       "75%    193.000000         1091.000000             5.900000          33.900000   \n",
       "max    217.000000         1226.000000             6.700000          42.600000   \n",
       "\n",
       "       ats_points_avg  \n",
       "count      240.000000  \n",
       "mean         2.100458  \n",
       "std          0.388976  \n",
       "min          1.130000  \n",
       "25%          1.835000  \n",
       "50%          2.095000  \n",
       "75%          2.380000  \n",
       "max          3.190000  \n",
       "\n",
       "[8 rows x 239 columns]"
      ]
     },
     "execution_count": 21,
     "metadata": {},
     "output_type": "execute_result"
    }
   ],
   "source": [
    "df_train.describe()"
   ]
  },
  {
   "cell_type": "code",
   "execution_count": 22,
   "id": "779452ea",
   "metadata": {
    "execution": {
     "iopub.execute_input": "2022-06-09T20:29:43.132901Z",
     "iopub.status.busy": "2022-06-09T20:29:43.132444Z",
     "iopub.status.idle": "2022-06-09T20:29:43.147937Z",
     "shell.execute_reply": "2022-06-09T20:29:43.146479Z"
    },
    "papermill": {
     "duration": 0.047162,
     "end_time": "2022-06-09T20:29:43.150388",
     "exception": false,
     "start_time": "2022-06-09T20:29:43.103226",
     "status": "completed"
    },
    "tags": []
   },
   "outputs": [
    {
     "name": "stdout",
     "output_type": "stream",
     "text": [
      "<class 'pandas.core.frame.DataFrame'>\n",
      "RangeIndex: 526 entries, 0 to 525\n",
      "Columns: 245 entries, gs_id to winorlose\n",
      "dtypes: float64(128), int64(111), object(6)\n",
      "memory usage: 1006.9+ KB\n"
     ]
    }
   ],
   "source": [
    "df_train.info()"
   ]
  },
  {
   "cell_type": "markdown",
   "id": "86253448",
   "metadata": {
    "papermill": {
     "duration": 0.028589,
     "end_time": "2022-06-09T20:29:43.207909",
     "exception": false,
     "start_time": "2022-06-09T20:29:43.179320",
     "status": "completed"
    },
    "tags": []
   },
   "source": [
    "**SPLIT EM TREINO E TESTE**"
   ]
  },
  {
   "cell_type": "code",
   "execution_count": 23,
   "id": "36183279",
   "metadata": {
    "execution": {
     "iopub.execute_input": "2022-06-09T20:29:43.265719Z",
     "iopub.status.busy": "2022-06-09T20:29:43.265282Z",
     "iopub.status.idle": "2022-06-09T20:29:43.296760Z",
     "shell.execute_reply": "2022-06-09T20:29:43.295737Z"
    },
    "papermill": {
     "duration": 0.063157,
     "end_time": "2022-06-09T20:29:43.298955",
     "exception": false,
     "start_time": "2022-06-09T20:29:43.235798",
     "status": "completed"
    },
    "tags": []
   },
   "outputs": [
    {
     "data": {
      "text/html": [
       "<div>\n",
       "<style scoped>\n",
       "    .dataframe tbody tr th:only-of-type {\n",
       "        vertical-align: middle;\n",
       "    }\n",
       "\n",
       "    .dataframe tbody tr th {\n",
       "        vertical-align: top;\n",
       "    }\n",
       "\n",
       "    .dataframe thead th {\n",
       "        text-align: right;\n",
       "    }\n",
       "</style>\n",
       "<table border=\"1\" class=\"dataframe\">\n",
       "  <thead>\n",
       "    <tr style=\"text-align: right;\">\n",
       "      <th></th>\n",
       "      <th>gs_id</th>\n",
       "      <th>gs_year</th>\n",
       "      <th>gs_team</th>\n",
       "      <th>gs_opp</th>\n",
       "      <th>gs_week_number</th>\n",
       "      <th>gs_game_day_of_week</th>\n",
       "      <th>gs_game_location</th>\n",
       "      <th>gs_week_num</th>\n",
       "      <th>hts_id</th>\n",
       "      <th>hts_wins</th>\n",
       "      <th>...</th>\n",
       "      <th>ats_third_down_success</th>\n",
       "      <th>ats_fourth_down_att</th>\n",
       "      <th>ats_fourth_down_success</th>\n",
       "      <th>ats_red_zone_att</th>\n",
       "      <th>ats_red_zone_scores</th>\n",
       "      <th>ats_drives</th>\n",
       "      <th>ats_play_count_tip</th>\n",
       "      <th>ats_plays_per_drive</th>\n",
       "      <th>ats_yds_per_drive</th>\n",
       "      <th>ats_points_avg</th>\n",
       "    </tr>\n",
       "  </thead>\n",
       "  <tbody>\n",
       "    <tr>\n",
       "      <th>0</th>\n",
       "      <td>682</td>\n",
       "      <td>2013</td>\n",
       "      <td>Indianapolis Colts</td>\n",
       "      <td>New England Patriots</td>\n",
       "      <td>19</td>\n",
       "      <td>Sat</td>\n",
       "      <td>home</td>\n",
       "      <td>Division</td>\n",
       "      <td>40</td>\n",
       "      <td>11</td>\n",
       "      <td>...</td>\n",
       "      <td>83.0</td>\n",
       "      <td>15.0</td>\n",
       "      <td>7.0</td>\n",
       "      <td>65.0</td>\n",
       "      <td>36.0</td>\n",
       "      <td>201.0</td>\n",
       "      <td>1179.0</td>\n",
       "      <td>5.9</td>\n",
       "      <td>30.6</td>\n",
       "      <td>2.10</td>\n",
       "    </tr>\n",
       "    <tr>\n",
       "      <th>1</th>\n",
       "      <td>867</td>\n",
       "      <td>2013</td>\n",
       "      <td>San Diego Chargers</td>\n",
       "      <td>Cincinnati Bengals</td>\n",
       "      <td>18</td>\n",
       "      <td>Sun</td>\n",
       "      <td>home</td>\n",
       "      <td>Wild Card</td>\n",
       "      <td>46</td>\n",
       "      <td>9</td>\n",
       "      <td>...</td>\n",
       "      <td>92.0</td>\n",
       "      <td>21.0</td>\n",
       "      <td>12.0</td>\n",
       "      <td>46.0</td>\n",
       "      <td>34.0</td>\n",
       "      <td>201.0</td>\n",
       "      <td>1119.0</td>\n",
       "      <td>5.6</td>\n",
       "      <td>29.2</td>\n",
       "      <td>1.91</td>\n",
       "    </tr>\n",
       "    <tr>\n",
       "      <th>2</th>\n",
       "      <td>1120</td>\n",
       "      <td>2013</td>\n",
       "      <td>San Francisco 49ers</td>\n",
       "      <td>Carolina Panthers</td>\n",
       "      <td>19</td>\n",
       "      <td>Sun</td>\n",
       "      <td>home</td>\n",
       "      <td>Division</td>\n",
       "      <td>61</td>\n",
       "      <td>12</td>\n",
       "      <td>...</td>\n",
       "      <td>91.0</td>\n",
       "      <td>13.0</td>\n",
       "      <td>10.0</td>\n",
       "      <td>50.0</td>\n",
       "      <td>29.0</td>\n",
       "      <td>170.0</td>\n",
       "      <td>1026.0</td>\n",
       "      <td>6.0</td>\n",
       "      <td>29.8</td>\n",
       "      <td>1.99</td>\n",
       "    </tr>\n",
       "    <tr>\n",
       "      <th>3</th>\n",
       "      <td>738</td>\n",
       "      <td>2013</td>\n",
       "      <td>New England Patriots</td>\n",
       "      <td>Denver Broncos</td>\n",
       "      <td>19</td>\n",
       "      <td>Sun</td>\n",
       "      <td>home</td>\n",
       "      <td>Conf. Champ.</td>\n",
       "      <td>32</td>\n",
       "      <td>12</td>\n",
       "      <td>...</td>\n",
       "      <td>95.0</td>\n",
       "      <td>9.0</td>\n",
       "      <td>8.0</td>\n",
       "      <td>67.0</td>\n",
       "      <td>51.0</td>\n",
       "      <td>202.0</td>\n",
       "      <td>1182.0</td>\n",
       "      <td>5.9</td>\n",
       "      <td>36.2</td>\n",
       "      <td>2.83</td>\n",
       "    </tr>\n",
       "    <tr>\n",
       "      <th>4</th>\n",
       "      <td>868</td>\n",
       "      <td>2013</td>\n",
       "      <td>San Diego Chargers</td>\n",
       "      <td>Denver Broncos</td>\n",
       "      <td>19</td>\n",
       "      <td>Sun</td>\n",
       "      <td>home</td>\n",
       "      <td>Division</td>\n",
       "      <td>46</td>\n",
       "      <td>9</td>\n",
       "      <td>...</td>\n",
       "      <td>95.0</td>\n",
       "      <td>9.0</td>\n",
       "      <td>8.0</td>\n",
       "      <td>67.0</td>\n",
       "      <td>51.0</td>\n",
       "      <td>202.0</td>\n",
       "      <td>1182.0</td>\n",
       "      <td>5.9</td>\n",
       "      <td>36.2</td>\n",
       "      <td>2.83</td>\n",
       "    </tr>\n",
       "  </tbody>\n",
       "</table>\n",
       "<p>5 rows × 244 columns</p>\n",
       "</div>"
      ],
      "text/plain": [
       "   gs_id  gs_year               gs_team                gs_opp  gs_week_number  \\\n",
       "0    682     2013    Indianapolis Colts  New England Patriots              19   \n",
       "1    867     2013    San Diego Chargers    Cincinnati Bengals              18   \n",
       "2   1120     2013   San Francisco 49ers     Carolina Panthers              19   \n",
       "3    738     2013  New England Patriots        Denver Broncos              19   \n",
       "4    868     2013    San Diego Chargers        Denver Broncos              19   \n",
       "\n",
       "  gs_game_day_of_week gs_game_location   gs_week_num  hts_id  hts_wins  ...  \\\n",
       "0                 Sat             home      Division      40        11  ...   \n",
       "1                 Sun             home     Wild Card      46         9  ...   \n",
       "2                 Sun             home      Division      61        12  ...   \n",
       "3                 Sun             home  Conf. Champ.      32        12  ...   \n",
       "4                 Sun             home      Division      46         9  ...   \n",
       "\n",
       "   ats_third_down_success  ats_fourth_down_att  ats_fourth_down_success  \\\n",
       "0                    83.0                 15.0                      7.0   \n",
       "1                    92.0                 21.0                     12.0   \n",
       "2                    91.0                 13.0                     10.0   \n",
       "3                    95.0                  9.0                      8.0   \n",
       "4                    95.0                  9.0                      8.0   \n",
       "\n",
       "   ats_red_zone_att  ats_red_zone_scores  ats_drives  ats_play_count_tip  \\\n",
       "0              65.0                 36.0       201.0              1179.0   \n",
       "1              46.0                 34.0       201.0              1119.0   \n",
       "2              50.0                 29.0       170.0              1026.0   \n",
       "3              67.0                 51.0       202.0              1182.0   \n",
       "4              67.0                 51.0       202.0              1182.0   \n",
       "\n",
       "   ats_plays_per_drive  ats_yds_per_drive  ats_points_avg  \n",
       "0                  5.9               30.6            2.10  \n",
       "1                  5.6               29.2            1.91  \n",
       "2                  6.0               29.8            1.99  \n",
       "3                  5.9               36.2            2.83  \n",
       "4                  5.9               36.2            2.83  \n",
       "\n",
       "[5 rows x 244 columns]"
      ]
     },
     "execution_count": 23,
     "metadata": {},
     "output_type": "execute_result"
    }
   ],
   "source": [
    "y = df_train['winorlose']\n",
    "X = df_train.drop('winorlose', axis = 1)\n",
    "X.head()"
   ]
  },
  {
   "cell_type": "code",
   "execution_count": 24,
   "id": "c1e7f7b3",
   "metadata": {
    "execution": {
     "iopub.execute_input": "2022-06-09T20:29:43.359978Z",
     "iopub.status.busy": "2022-06-09T20:29:43.358963Z",
     "iopub.status.idle": "2022-06-09T20:29:43.439901Z",
     "shell.execute_reply": "2022-06-09T20:29:43.438321Z"
    },
    "papermill": {
     "duration": 0.11454,
     "end_time": "2022-06-09T20:29:43.442724",
     "exception": false,
     "start_time": "2022-06-09T20:29:43.328184",
     "status": "completed"
    },
    "tags": []
   },
   "outputs": [
    {
     "data": {
      "text/plain": [
       "(158, 244)"
      ]
     },
     "execution_count": 24,
     "metadata": {},
     "output_type": "execute_result"
    }
   ],
   "source": [
    "from sklearn.model_selection import train_test_split\n",
    "\n",
    "\n",
    "trainX, valX, trainy, valy = train_test_split(X, y,\n",
    "                                              test_size=0.3, \n",
    "                                              random_state=20,\n",
    "                                              stratify = y)\n",
    "valX.shape"
   ]
  },
  {
   "cell_type": "markdown",
   "id": "e349364d",
   "metadata": {
    "papermill": {
     "duration": 0.034672,
     "end_time": "2022-06-09T20:29:43.506763",
     "exception": false,
     "start_time": "2022-06-09T20:29:43.472091",
     "status": "completed"
    },
    "tags": []
   },
   "source": [
    "Variáveis Categóricas"
   ]
  },
  {
   "cell_type": "code",
   "execution_count": 25,
   "id": "9a1a67df",
   "metadata": {
    "execution": {
     "iopub.execute_input": "2022-06-09T20:29:43.578581Z",
     "iopub.status.busy": "2022-06-09T20:29:43.577612Z",
     "iopub.status.idle": "2022-06-09T20:29:43.603503Z",
     "shell.execute_reply": "2022-06-09T20:29:43.602058Z"
    },
    "papermill": {
     "duration": 0.063041,
     "end_time": "2022-06-09T20:29:43.605838",
     "exception": false,
     "start_time": "2022-06-09T20:29:43.542797",
     "status": "completed"
    },
    "tags": []
   },
   "outputs": [
    {
     "name": "stdout",
     "output_type": "stream",
     "text": [
      "<class 'pandas.core.frame.DataFrame'>\n",
      "RangeIndex: 526 entries, 0 to 525\n",
      "Columns: 244 entries, gs_id to ats_points_avg\n",
      "dtypes: float64(128), int64(111), object(5)\n",
      "memory usage: 1002.8+ KB\n"
     ]
    }
   ],
   "source": [
    "X.info()"
   ]
  },
  {
   "cell_type": "code",
   "execution_count": 26,
   "id": "931db4a6",
   "metadata": {
    "execution": {
     "iopub.execute_input": "2022-06-09T20:29:43.666037Z",
     "iopub.status.busy": "2022-06-09T20:29:43.665279Z",
     "iopub.status.idle": "2022-06-09T20:29:43.672236Z",
     "shell.execute_reply": "2022-06-09T20:29:43.671312Z"
    },
    "papermill": {
     "duration": 0.038534,
     "end_time": "2022-06-09T20:29:43.674250",
     "exception": false,
     "start_time": "2022-06-09T20:29:43.635716",
     "status": "completed"
    },
    "tags": []
   },
   "outputs": [
    {
     "data": {
      "text/plain": [
       "(158,)"
      ]
     },
     "execution_count": 26,
     "metadata": {},
     "output_type": "execute_result"
    }
   ],
   "source": [
    "valy.shape"
   ]
  },
  {
   "cell_type": "code",
   "execution_count": 27,
   "id": "92045417",
   "metadata": {
    "execution": {
     "iopub.execute_input": "2022-06-09T20:29:43.733592Z",
     "iopub.status.busy": "2022-06-09T20:29:43.732643Z",
     "iopub.status.idle": "2022-06-09T20:29:43.739538Z",
     "shell.execute_reply": "2022-06-09T20:29:43.738655Z"
    },
    "papermill": {
     "duration": 0.038608,
     "end_time": "2022-06-09T20:29:43.741749",
     "exception": false,
     "start_time": "2022-06-09T20:29:43.703141",
     "status": "completed"
    },
    "tags": []
   },
   "outputs": [
    {
     "data": {
      "text/plain": [
       "(158, 244)"
      ]
     },
     "execution_count": 27,
     "metadata": {},
     "output_type": "execute_result"
    }
   ],
   "source": [
    "valX.shape"
   ]
  },
  {
   "cell_type": "markdown",
   "id": "b651dc55",
   "metadata": {
    "papermill": {
     "duration": 0.027669,
     "end_time": "2022-06-09T20:29:43.797946",
     "exception": false,
     "start_time": "2022-06-09T20:29:43.770277",
     "status": "completed"
    },
    "tags": []
   },
   "source": [
    "**TRATAMENTOS NO DADOS DE TREINO**"
   ]
  },
  {
   "cell_type": "markdown",
   "id": "dc0b43f9",
   "metadata": {
    "papermill": {
     "duration": 0.027487,
     "end_time": "2022-06-09T20:29:43.853529",
     "exception": false,
     "start_time": "2022-06-09T20:29:43.826042",
     "status": "completed"
    },
    "tags": []
   },
   "source": [
    "***Valores Faltantes***"
   ]
  },
  {
   "cell_type": "markdown",
   "id": "6b7bb2b9",
   "metadata": {
    "papermill": {
     "duration": 0.028325,
     "end_time": "2022-06-09T20:29:43.910565",
     "exception": false,
     "start_time": "2022-06-09T20:29:43.882240",
     "status": "completed"
    },
    "tags": []
   },
   "source": [
    "*Variáveis Numéricas*"
   ]
  },
  {
   "cell_type": "code",
   "execution_count": 28,
   "id": "cb75e3b2",
   "metadata": {
    "execution": {
     "iopub.execute_input": "2022-06-09T20:29:43.969770Z",
     "iopub.status.busy": "2022-06-09T20:29:43.969012Z",
     "iopub.status.idle": "2022-06-09T20:29:43.976170Z",
     "shell.execute_reply": "2022-06-09T20:29:43.975274Z"
    },
    "papermill": {
     "duration": 0.039858,
     "end_time": "2022-06-09T20:29:43.978699",
     "exception": false,
     "start_time": "2022-06-09T20:29:43.938841",
     "status": "completed"
    },
    "tags": []
   },
   "outputs": [],
   "source": [
    "var_num = trainX.select_dtypes(np.number).columns\n",
    "var_num = var_num.to_list()"
   ]
  },
  {
   "cell_type": "code",
   "execution_count": 29,
   "id": "445ba178",
   "metadata": {
    "execution": {
     "iopub.execute_input": "2022-06-09T20:29:44.037840Z",
     "iopub.status.busy": "2022-06-09T20:29:44.037412Z",
     "iopub.status.idle": "2022-06-09T20:29:44.216394Z",
     "shell.execute_reply": "2022-06-09T20:29:44.215244Z"
    },
    "papermill": {
     "duration": 0.212018,
     "end_time": "2022-06-09T20:29:44.219074",
     "exception": false,
     "start_time": "2022-06-09T20:29:44.007056",
     "status": "completed"
    },
    "tags": []
   },
   "outputs": [],
   "source": [
    "import numpy as np\n",
    "from sklearn.impute import SimpleImputer\n",
    "\n",
    "imp = SimpleImputer(missing_values=np.nan, strategy='mean') # strategy='median', strategy='most_frequent', (strategy='constant', fill_value = 0)\n",
    "trainX[var_num] = imp.fit_transform(trainX[var_num])"
   ]
  },
  {
   "cell_type": "code",
   "execution_count": 30,
   "id": "96c8a70d",
   "metadata": {
    "execution": {
     "iopub.execute_input": "2022-06-09T20:29:44.279842Z",
     "iopub.status.busy": "2022-06-09T20:29:44.279095Z",
     "iopub.status.idle": "2022-06-09T20:29:44.313594Z",
     "shell.execute_reply": "2022-06-09T20:29:44.312751Z"
    },
    "papermill": {
     "duration": 0.067356,
     "end_time": "2022-06-09T20:29:44.315998",
     "exception": false,
     "start_time": "2022-06-09T20:29:44.248642",
     "status": "completed"
    },
    "tags": []
   },
   "outputs": [],
   "source": [
    "valX[var_num] = imp.transform(valX[var_num])"
   ]
  },
  {
   "cell_type": "code",
   "execution_count": 31,
   "id": "81021f07",
   "metadata": {
    "execution": {
     "iopub.execute_input": "2022-06-09T20:29:44.376805Z",
     "iopub.status.busy": "2022-06-09T20:29:44.376142Z",
     "iopub.status.idle": "2022-06-09T20:29:44.381462Z",
     "shell.execute_reply": "2022-06-09T20:29:44.380813Z"
    },
    "papermill": {
     "duration": 0.037643,
     "end_time": "2022-06-09T20:29:44.383202",
     "exception": false,
     "start_time": "2022-06-09T20:29:44.345559",
     "status": "completed"
    },
    "tags": []
   },
   "outputs": [
    {
     "data": {
      "text/plain": [
       "(158, 244)"
      ]
     },
     "execution_count": 31,
     "metadata": {},
     "output_type": "execute_result"
    }
   ],
   "source": [
    "valX.shape"
   ]
  },
  {
   "cell_type": "markdown",
   "id": "27969295",
   "metadata": {
    "papermill": {
     "duration": 0.028724,
     "end_time": "2022-06-09T20:29:44.440028",
     "exception": false,
     "start_time": "2022-06-09T20:29:44.411304",
     "status": "completed"
    },
    "tags": []
   },
   "source": [
    "*Variáveis Categóricas*"
   ]
  },
  {
   "cell_type": "code",
   "execution_count": 32,
   "id": "55205e61",
   "metadata": {
    "execution": {
     "iopub.execute_input": "2022-06-09T20:29:44.499733Z",
     "iopub.status.busy": "2022-06-09T20:29:44.499097Z",
     "iopub.status.idle": "2022-06-09T20:29:44.510177Z",
     "shell.execute_reply": "2022-06-09T20:29:44.509377Z"
    },
    "papermill": {
     "duration": 0.043424,
     "end_time": "2022-06-09T20:29:44.512194",
     "exception": false,
     "start_time": "2022-06-09T20:29:44.468770",
     "status": "completed"
    },
    "tags": []
   },
   "outputs": [
    {
     "data": {
      "text/plain": [
       "['gs_team', 'gs_opp', 'gs_game_day_of_week', 'gs_game_location', 'gs_week_num']"
      ]
     },
     "execution_count": 32,
     "metadata": {},
     "output_type": "execute_result"
    }
   ],
   "source": [
    "var_cat = trainX .select_dtypes(exclude=np.number).columns\n",
    "var_cat = var_cat.to_list()\n",
    "var_cat"
   ]
  },
  {
   "cell_type": "code",
   "execution_count": 33,
   "id": "80c98e95",
   "metadata": {
    "execution": {
     "iopub.execute_input": "2022-06-09T20:29:44.572269Z",
     "iopub.status.busy": "2022-06-09T20:29:44.571552Z",
     "iopub.status.idle": "2022-06-09T20:29:44.581511Z",
     "shell.execute_reply": "2022-06-09T20:29:44.580190Z"
    },
    "papermill": {
     "duration": 0.042719,
     "end_time": "2022-06-09T20:29:44.583935",
     "exception": false,
     "start_time": "2022-06-09T20:29:44.541216",
     "status": "completed"
    },
    "tags": []
   },
   "outputs": [],
   "source": [
    "imp_cat = SimpleImputer(missing_values=np.nan, strategy='constant', fill_value = 0) \n",
    "trainX[var_cat] = imp_cat.fit_transform(trainX[var_cat])\n"
   ]
  },
  {
   "cell_type": "code",
   "execution_count": 34,
   "id": "7991b1d6",
   "metadata": {
    "execution": {
     "iopub.execute_input": "2022-06-09T20:29:44.642930Z",
     "iopub.status.busy": "2022-06-09T20:29:44.642482Z",
     "iopub.status.idle": "2022-06-09T20:29:44.651630Z",
     "shell.execute_reply": "2022-06-09T20:29:44.650921Z"
    },
    "papermill": {
     "duration": 0.041757,
     "end_time": "2022-06-09T20:29:44.654378",
     "exception": false,
     "start_time": "2022-06-09T20:29:44.612621",
     "status": "completed"
    },
    "tags": []
   },
   "outputs": [],
   "source": [
    "valX[var_cat] = imp_cat.transform(valX[var_cat])"
   ]
  },
  {
   "cell_type": "code",
   "execution_count": 35,
   "id": "f8ad6a87",
   "metadata": {
    "execution": {
     "iopub.execute_input": "2022-06-09T20:29:44.716646Z",
     "iopub.status.busy": "2022-06-09T20:29:44.715670Z",
     "iopub.status.idle": "2022-06-09T20:29:44.721323Z",
     "shell.execute_reply": "2022-06-09T20:29:44.720580Z"
    },
    "papermill": {
     "duration": 0.03826,
     "end_time": "2022-06-09T20:29:44.723411",
     "exception": false,
     "start_time": "2022-06-09T20:29:44.685151",
     "status": "completed"
    },
    "tags": []
   },
   "outputs": [
    {
     "data": {
      "text/plain": [
       "(158, 244)"
      ]
     },
     "execution_count": 35,
     "metadata": {},
     "output_type": "execute_result"
    }
   ],
   "source": [
    "valX.shape"
   ]
  },
  {
   "cell_type": "markdown",
   "id": "ce46cd12",
   "metadata": {
    "papermill": {
     "duration": 0.028531,
     "end_time": "2022-06-09T20:29:44.781043",
     "exception": false,
     "start_time": "2022-06-09T20:29:44.752512",
     "status": "completed"
    },
    "tags": []
   },
   "source": [
    "**ENCODER**"
   ]
  },
  {
   "cell_type": "code",
   "execution_count": 36,
   "id": "616793d5",
   "metadata": {
    "execution": {
     "iopub.execute_input": "2022-06-09T20:29:44.839958Z",
     "iopub.status.busy": "2022-06-09T20:29:44.839281Z",
     "iopub.status.idle": "2022-06-09T20:29:44.849068Z",
     "shell.execute_reply": "2022-06-09T20:29:44.848202Z"
    },
    "papermill": {
     "duration": 0.042082,
     "end_time": "2022-06-09T20:29:44.851546",
     "exception": false,
     "start_time": "2022-06-09T20:29:44.809464",
     "status": "completed"
    },
    "tags": []
   },
   "outputs": [],
   "source": [
    "from sklearn.preprocessing import OrdinalEncoder\n",
    "\n",
    "encoder = OrdinalEncoder(handle_unknown = 'use_encoded_value', unknown_value = -1) #faça a troca das categorias por números\n",
    "\n",
    "trainX[var_cat] = encoder.fit_transform(trainX[var_cat]) #ltere somente as colunas categóricas do meu dataset\n"
   ]
  },
  {
   "cell_type": "code",
   "execution_count": 37,
   "id": "9ea86d96",
   "metadata": {
    "execution": {
     "iopub.execute_input": "2022-06-09T20:29:44.914848Z",
     "iopub.status.busy": "2022-06-09T20:29:44.913960Z",
     "iopub.status.idle": "2022-06-09T20:29:44.922756Z",
     "shell.execute_reply": "2022-06-09T20:29:44.921939Z"
    },
    "papermill": {
     "duration": 0.042171,
     "end_time": "2022-06-09T20:29:44.925154",
     "exception": false,
     "start_time": "2022-06-09T20:29:44.882983",
     "status": "completed"
    },
    "tags": []
   },
   "outputs": [],
   "source": [
    "valX[var_cat] = encoder.transform(valX[var_cat])"
   ]
  },
  {
   "cell_type": "code",
   "execution_count": 38,
   "id": "8ddaf7f3",
   "metadata": {
    "execution": {
     "iopub.execute_input": "2022-06-09T20:29:44.985739Z",
     "iopub.status.busy": "2022-06-09T20:29:44.985048Z",
     "iopub.status.idle": "2022-06-09T20:29:44.990591Z",
     "shell.execute_reply": "2022-06-09T20:29:44.989908Z"
    },
    "papermill": {
     "duration": 0.038227,
     "end_time": "2022-06-09T20:29:44.992403",
     "exception": false,
     "start_time": "2022-06-09T20:29:44.954176",
     "status": "completed"
    },
    "tags": []
   },
   "outputs": [
    {
     "data": {
      "text/plain": [
       "(158, 244)"
      ]
     },
     "execution_count": 38,
     "metadata": {},
     "output_type": "execute_result"
    }
   ],
   "source": [
    "valX.shape"
   ]
  },
  {
   "cell_type": "markdown",
   "id": "05fe5e85",
   "metadata": {
    "papermill": {
     "duration": 0.028741,
     "end_time": "2022-06-09T20:29:45.049791",
     "exception": false,
     "start_time": "2022-06-09T20:29:45.021050",
     "status": "completed"
    },
    "tags": []
   },
   "source": [
    "*Ainda tem alguma coisa nula?*"
   ]
  },
  {
   "cell_type": "code",
   "execution_count": 39,
   "id": "423db490",
   "metadata": {
    "execution": {
     "iopub.execute_input": "2022-06-09T20:29:45.111986Z",
     "iopub.status.busy": "2022-06-09T20:29:45.111270Z",
     "iopub.status.idle": "2022-06-09T20:29:45.123272Z",
     "shell.execute_reply": "2022-06-09T20:29:45.122332Z"
    },
    "papermill": {
     "duration": 0.046486,
     "end_time": "2022-06-09T20:29:45.125290",
     "exception": false,
     "start_time": "2022-06-09T20:29:45.078804",
     "status": "completed"
    },
    "tags": []
   },
   "outputs": [
    {
     "data": {
      "text/plain": [
       "gs_id                  0\n",
       "gs_year                0\n",
       "gs_team                0\n",
       "gs_opp                 0\n",
       "gs_week_number         0\n",
       "                      ..\n",
       "ats_drives             0\n",
       "ats_play_count_tip     0\n",
       "ats_plays_per_drive    0\n",
       "ats_yds_per_drive      0\n",
       "ats_points_avg         0\n",
       "Length: 244, dtype: int64"
      ]
     },
     "execution_count": 39,
     "metadata": {},
     "output_type": "execute_result"
    }
   ],
   "source": [
    "trainX.select_dtypes(np.number).isnull().sum()"
   ]
  },
  {
   "cell_type": "markdown",
   "id": "e7fd7607",
   "metadata": {
    "papermill": {
     "duration": 0.029952,
     "end_time": "2022-06-09T20:29:45.184235",
     "exception": false,
     "start_time": "2022-06-09T20:29:45.154283",
     "status": "completed"
    },
    "tags": []
   },
   "source": [
    "Normalização"
   ]
  },
  {
   "cell_type": "code",
   "execution_count": 40,
   "id": "1debfe24",
   "metadata": {
    "execution": {
     "iopub.execute_input": "2022-06-09T20:29:45.245889Z",
     "iopub.status.busy": "2022-06-09T20:29:45.245193Z",
     "iopub.status.idle": "2022-06-09T20:29:45.258457Z",
     "shell.execute_reply": "2022-06-09T20:29:45.257616Z"
    },
    "papermill": {
     "duration": 0.047211,
     "end_time": "2022-06-09T20:29:45.260597",
     "exception": false,
     "start_time": "2022-06-09T20:29:45.213386",
     "status": "completed"
    },
    "tags": []
   },
   "outputs": [],
   "source": [
    "from sklearn.preprocessing import MinMaxScaler\n",
    "\n",
    "sc = MinMaxScaler(feature_range=(0, 1))\n",
    "\n",
    "trainX = sc.fit_transform(trainX)\n"
   ]
  },
  {
   "cell_type": "code",
   "execution_count": 41,
   "id": "87e9a086",
   "metadata": {
    "execution": {
     "iopub.execute_input": "2022-06-09T20:29:45.322224Z",
     "iopub.status.busy": "2022-06-09T20:29:45.321562Z",
     "iopub.status.idle": "2022-06-09T20:29:45.330304Z",
     "shell.execute_reply": "2022-06-09T20:29:45.329521Z"
    },
    "papermill": {
     "duration": 0.042831,
     "end_time": "2022-06-09T20:29:45.332454",
     "exception": false,
     "start_time": "2022-06-09T20:29:45.289623",
     "status": "completed"
    },
    "tags": []
   },
   "outputs": [],
   "source": [
    "valX = sc.transform(valX)"
   ]
  },
  {
   "cell_type": "code",
   "execution_count": 42,
   "id": "6ea3468d",
   "metadata": {
    "execution": {
     "iopub.execute_input": "2022-06-09T20:29:45.392630Z",
     "iopub.status.busy": "2022-06-09T20:29:45.392234Z",
     "iopub.status.idle": "2022-06-09T20:29:45.398837Z",
     "shell.execute_reply": "2022-06-09T20:29:45.397574Z"
    },
    "papermill": {
     "duration": 0.038955,
     "end_time": "2022-06-09T20:29:45.400951",
     "exception": false,
     "start_time": "2022-06-09T20:29:45.361996",
     "status": "completed"
    },
    "tags": []
   },
   "outputs": [
    {
     "data": {
      "text/plain": [
       "(158, 244)"
      ]
     },
     "execution_count": 42,
     "metadata": {},
     "output_type": "execute_result"
    }
   ],
   "source": [
    "valX.shape"
   ]
  },
  {
   "cell_type": "markdown",
   "id": "e3dd9507",
   "metadata": {
    "papermill": {
     "duration": 0.029712,
     "end_time": "2022-06-09T20:29:45.524833",
     "exception": false,
     "start_time": "2022-06-09T20:29:45.495121",
     "status": "completed"
    },
    "tags": []
   },
   "source": [
    "**FILTER SELECTION**"
   ]
  },
  {
   "cell_type": "markdown",
   "id": "082afb4a",
   "metadata": {
    "papermill": {
     "duration": 0.02845,
     "end_time": "2022-06-09T20:29:45.582251",
     "exception": false,
     "start_time": "2022-06-09T20:29:45.553801",
     "status": "completed"
    },
    "tags": []
   },
   "source": [
    "Modo 2 - biblioteca que escolhe as melhores features"
   ]
  },
  {
   "cell_type": "code",
   "execution_count": 43,
   "id": "e681f3bb",
   "metadata": {
    "execution": {
     "iopub.execute_input": "2022-06-09T20:29:45.643064Z",
     "iopub.status.busy": "2022-06-09T20:29:45.642656Z",
     "iopub.status.idle": "2022-06-09T20:29:45.866977Z",
     "shell.execute_reply": "2022-06-09T20:29:45.866048Z"
    },
    "papermill": {
     "duration": 0.257451,
     "end_time": "2022-06-09T20:29:45.869253",
     "exception": false,
     "start_time": "2022-06-09T20:29:45.611802",
     "status": "completed"
    },
    "tags": []
   },
   "outputs": [],
   "source": [
    "from numpy import set_printoptions\n",
    "from sklearn.feature_selection import SelectKBest, f_classif\n",
    "from sklearn.metrics import mean_absolute_error\n",
    "from sklearn.ensemble import RandomForestRegressor\n",
    "\n",
    "from sklearn.ensemble import GradientBoostingClassifier\n",
    "from xgboost import XGBClassifier"
   ]
  },
  {
   "cell_type": "code",
   "execution_count": 44,
   "id": "7cbb7b4e",
   "metadata": {
    "execution": {
     "iopub.execute_input": "2022-06-09T20:29:45.929653Z",
     "iopub.status.busy": "2022-06-09T20:29:45.929200Z",
     "iopub.status.idle": "2022-06-09T20:29:45.936454Z",
     "shell.execute_reply": "2022-06-09T20:29:45.935415Z"
    },
    "papermill": {
     "duration": 0.039519,
     "end_time": "2022-06-09T20:29:45.938566",
     "exception": false,
     "start_time": "2022-06-09T20:29:45.899047",
     "status": "completed"
    },
    "tags": []
   },
   "outputs": [
    {
     "data": {
      "text/plain": [
       "(368,)"
      ]
     },
     "execution_count": 44,
     "metadata": {},
     "output_type": "execute_result"
    }
   ],
   "source": [
    "trainy.shape"
   ]
  },
  {
   "cell_type": "code",
   "execution_count": 45,
   "id": "a334f266",
   "metadata": {
    "execution": {
     "iopub.execute_input": "2022-06-09T20:29:45.999958Z",
     "iopub.status.busy": "2022-06-09T20:29:45.999403Z",
     "iopub.status.idle": "2022-06-09T20:29:46.006682Z",
     "shell.execute_reply": "2022-06-09T20:29:46.005967Z"
    },
    "papermill": {
     "duration": 0.040417,
     "end_time": "2022-06-09T20:29:46.008657",
     "exception": false,
     "start_time": "2022-06-09T20:29:45.968240",
     "status": "completed"
    },
    "tags": []
   },
   "outputs": [
    {
     "data": {
      "text/plain": [
       "186    1\n",
       "466    1\n",
       "179    0\n",
       "515    0\n",
       "158    0\n",
       "78     0\n",
       "79     1\n",
       "227    1\n",
       "230    1\n",
       "357    0\n",
       "Name: winorlose, dtype: int64"
      ]
     },
     "execution_count": 45,
     "metadata": {},
     "output_type": "execute_result"
    }
   ],
   "source": [
    "trainy = trainy.apply(lambda x : 1 if (x == 'W') else 0)\n",
    "trainy.head(10)"
   ]
  },
  {
   "cell_type": "code",
   "execution_count": 46,
   "id": "072e82f9",
   "metadata": {
    "execution": {
     "iopub.execute_input": "2022-06-09T20:29:46.074520Z",
     "iopub.status.busy": "2022-06-09T20:29:46.073894Z",
     "iopub.status.idle": "2022-06-09T20:29:46.079247Z",
     "shell.execute_reply": "2022-06-09T20:29:46.078385Z"
    },
    "papermill": {
     "duration": 0.041009,
     "end_time": "2022-06-09T20:29:46.081319",
     "exception": false,
     "start_time": "2022-06-09T20:29:46.040310",
     "status": "completed"
    },
    "tags": []
   },
   "outputs": [
    {
     "data": {
      "text/plain": [
       "(368,)"
      ]
     },
     "execution_count": 46,
     "metadata": {},
     "output_type": "execute_result"
    }
   ],
   "source": [
    "trainy.shape"
   ]
  },
  {
   "cell_type": "code",
   "execution_count": 47,
   "id": "16fb648f",
   "metadata": {
    "execution": {
     "iopub.execute_input": "2022-06-09T20:29:46.144494Z",
     "iopub.status.busy": "2022-06-09T20:29:46.143912Z",
     "iopub.status.idle": "2022-06-09T20:29:46.149351Z",
     "shell.execute_reply": "2022-06-09T20:29:46.148324Z"
    },
    "papermill": {
     "duration": 0.03931,
     "end_time": "2022-06-09T20:29:46.151690",
     "exception": false,
     "start_time": "2022-06-09T20:29:46.112380",
     "status": "completed"
    },
    "tags": []
   },
   "outputs": [
    {
     "data": {
      "text/plain": [
       "(158,)"
      ]
     },
     "execution_count": 47,
     "metadata": {},
     "output_type": "execute_result"
    }
   ],
   "source": [
    "valy.shape"
   ]
  },
  {
   "cell_type": "code",
   "execution_count": 48,
   "id": "c9284999",
   "metadata": {
    "execution": {
     "iopub.execute_input": "2022-06-09T20:29:46.214780Z",
     "iopub.status.busy": "2022-06-09T20:29:46.214222Z",
     "iopub.status.idle": "2022-06-09T20:29:46.221289Z",
     "shell.execute_reply": "2022-06-09T20:29:46.220621Z"
    },
    "papermill": {
     "duration": 0.040755,
     "end_time": "2022-06-09T20:29:46.223254",
     "exception": false,
     "start_time": "2022-06-09T20:29:46.182499",
     "status": "completed"
    },
    "tags": []
   },
   "outputs": [
    {
     "data": {
      "text/plain": [
       "439    1\n",
       "375    1\n",
       "513    0\n",
       "77     1\n",
       "65     0\n",
       "283    0\n",
       "512    1\n",
       "414    0\n",
       "12     1\n",
       "291    0\n",
       "Name: winorlose, dtype: int64"
      ]
     },
     "execution_count": 48,
     "metadata": {},
     "output_type": "execute_result"
    }
   ],
   "source": [
    "valy = valy.apply(lambda x : 1 if (x == 'W') else 0)\n",
    "valy.head(10)"
   ]
  },
  {
   "cell_type": "code",
   "execution_count": 49,
   "id": "d00bcc71",
   "metadata": {
    "execution": {
     "iopub.execute_input": "2022-06-09T20:29:46.286445Z",
     "iopub.status.busy": "2022-06-09T20:29:46.285892Z",
     "iopub.status.idle": "2022-06-09T20:29:46.290947Z",
     "shell.execute_reply": "2022-06-09T20:29:46.290092Z"
    },
    "papermill": {
     "duration": 0.039624,
     "end_time": "2022-06-09T20:29:46.292972",
     "exception": false,
     "start_time": "2022-06-09T20:29:46.253348",
     "status": "completed"
    },
    "tags": []
   },
   "outputs": [
    {
     "data": {
      "text/plain": [
       "(158,)"
      ]
     },
     "execution_count": 49,
     "metadata": {},
     "output_type": "execute_result"
    }
   ],
   "source": [
    "valy.shape"
   ]
  },
  {
   "cell_type": "code",
   "execution_count": 50,
   "id": "1e28c0e7",
   "metadata": {
    "execution": {
     "iopub.execute_input": "2022-06-09T20:29:46.359603Z",
     "iopub.status.busy": "2022-06-09T20:29:46.359013Z",
     "iopub.status.idle": "2022-06-09T20:29:48.103214Z",
     "shell.execute_reply": "2022-06-09T20:29:48.102189Z"
    },
    "papermill": {
     "duration": 1.779329,
     "end_time": "2022-06-09T20:29:48.105427",
     "exception": false,
     "start_time": "2022-06-09T20:29:46.326098",
     "status": "completed"
    },
    "tags": []
   },
   "outputs": [
    {
     "data": {
      "text/html": [
       "<style type='text/css'>\n",
       ".datatable table.frame { margin-bottom: 0; }\n",
       ".datatable table.frame thead { border-bottom: none; }\n",
       ".datatable table.frame tr.coltypes td {  color: #FFFFFF;  line-height: 6px;  padding: 0 0.5em;}\n",
       ".datatable .bool    { background: #DDDD99; }\n",
       ".datatable .object  { background: #565656; }\n",
       ".datatable .int     { background: #5D9E5D; }\n",
       ".datatable .float   { background: #4040CC; }\n",
       ".datatable .str     { background: #CC4040; }\n",
       ".datatable .time    { background: #40CC40; }\n",
       ".datatable .row_index {  background: var(--jp-border-color3);  border-right: 1px solid var(--jp-border-color0);  color: var(--jp-ui-font-color3);  font-size: 9px;}\n",
       ".datatable .frame tbody td { text-align: left; }\n",
       ".datatable .frame tr.coltypes .row_index {  background: var(--jp-border-color0);}\n",
       ".datatable th:nth-child(2) { padding-left: 12px; }\n",
       ".datatable .hellipsis {  color: var(--jp-cell-editor-border-color);}\n",
       ".datatable .vellipsis {  background: var(--jp-layout-color0);  color: var(--jp-cell-editor-border-color);}\n",
       ".datatable .na {  color: var(--jp-cell-editor-border-color);  font-size: 80%;}\n",
       ".datatable .sp {  opacity: 0.25;}\n",
       ".datatable .footer { font-size: 9px; }\n",
       ".datatable .frame_dimensions {  background: var(--jp-border-color3);  border-top: 1px solid var(--jp-border-color0);  color: var(--jp-ui-font-color3);  display: inline-block;  opacity: 0.6;  padding: 1px 10px 1px 5px;}\n",
       "</style>\n"
      ],
      "text/plain": [
       "<IPython.core.display.HTML object>"
      ]
     },
     "metadata": {},
     "output_type": "display_data"
    },
    {
     "name": "stderr",
     "output_type": "stream",
     "text": [
      "/opt/conda/lib/python3.7/site-packages/sklearn/feature_selection/_univariate_selection.py:112: UserWarning: Features [111 229] are constant.\n",
      "  warnings.warn(\"Features %s are constant.\" % constant_features_idx, UserWarning)\n",
      "/opt/conda/lib/python3.7/site-packages/sklearn/feature_selection/_univariate_selection.py:113: RuntimeWarning: invalid value encountered in true_divide\n",
      "  f = msb / msw\n"
     ]
    },
    {
     "name": "stdout",
     "output_type": "stream",
     "text": [
      "k = 6 - MAE = 0.33544303797468356\n"
     ]
    }
   ],
   "source": [
    "import lightgbm as lgb\n",
    "\n",
    "\n",
    "k = 6\n",
    "selector = SelectKBest(score_func = f_classif, k = k)\n",
    "\n",
    "Xtrain2 = selector.fit_transform(trainX, trainy)\n",
    "valX2 = selector.transform(valX)\n",
    "\n",
    "#GradientBoosting\n",
    "gb_clf = GradientBoostingClassifier(n_estimators = 200, learning_rate = 0.5, random_state = 42)\n",
    "gb_clf.fit(Xtrain2, trainy)\n",
    "\n",
    "# LightGBM \n",
    "clf = lgb.LGBMClassifier(max_depth = 15)\n",
    "clf.fit(Xtrain2, trainy)\n",
    "#RandomForest\n",
    "modelo = RandomForestRegressor(n_estimators = 100, n_jobs = -1, random_state = 0)\n",
    "modelo.fit(Xtrain2, trainy)\n",
    "\n",
    "p = gb_clf.predict(valX2)\n",
    "\n",
    "score = mean_absolute_error(valy, p)\n",
    "print('k = {} - MAE = {}'.format(k, score))\n"
   ]
  },
  {
   "cell_type": "markdown",
   "id": "d0cfb196",
   "metadata": {
    "papermill": {
     "duration": 0.031456,
     "end_time": "2022-06-09T20:29:48.169299",
     "exception": false,
     "start_time": "2022-06-09T20:29:48.137843",
     "status": "completed"
    },
    "tags": []
   },
   "source": [
    "**RESOLVER DESBALANCEAMENTO**"
   ]
  },
  {
   "cell_type": "markdown",
   "id": "36b66478",
   "metadata": {
    "papermill": {
     "duration": 0.030445,
     "end_time": "2022-06-09T20:29:48.231289",
     "exception": false,
     "start_time": "2022-06-09T20:29:48.200844",
     "status": "completed"
    },
    "tags": []
   },
   "source": [
    "**DADOS DE TESTE**"
   ]
  },
  {
   "cell_type": "code",
   "execution_count": 51,
   "id": "a8eb91bd",
   "metadata": {
    "execution": {
     "iopub.execute_input": "2022-06-09T20:29:48.293504Z",
     "iopub.status.busy": "2022-06-09T20:29:48.292742Z",
     "iopub.status.idle": "2022-06-09T20:29:48.347603Z",
     "shell.execute_reply": "2022-06-09T20:29:48.346647Z"
    },
    "papermill": {
     "duration": 0.088219,
     "end_time": "2022-06-09T20:29:48.349652",
     "exception": false,
     "start_time": "2022-06-09T20:29:48.261433",
     "status": "completed"
    },
    "tags": []
   },
   "outputs": [
    {
     "data": {
      "text/html": [
       "<div>\n",
       "<style scoped>\n",
       "    .dataframe tbody tr th:only-of-type {\n",
       "        vertical-align: middle;\n",
       "    }\n",
       "\n",
       "    .dataframe tbody tr th {\n",
       "        vertical-align: top;\n",
       "    }\n",
       "\n",
       "    .dataframe thead th {\n",
       "        text-align: right;\n",
       "    }\n",
       "</style>\n",
       "<table border=\"1\" class=\"dataframe\">\n",
       "  <thead>\n",
       "    <tr style=\"text-align: right;\">\n",
       "      <th></th>\n",
       "      <th>gs_id</th>\n",
       "      <th>gs_year</th>\n",
       "      <th>gs_team</th>\n",
       "      <th>gs_opp</th>\n",
       "      <th>gs_week_number</th>\n",
       "      <th>gs_game_day_of_week</th>\n",
       "      <th>gs_game_date</th>\n",
       "      <th>gs_game_time</th>\n",
       "      <th>gs_game_location</th>\n",
       "      <th>gs_week_num</th>\n",
       "      <th>...</th>\n",
       "      <th>ats_red_zone_att</th>\n",
       "      <th>ats_red_zone_scores</th>\n",
       "      <th>ats_red_zone_pct</th>\n",
       "      <th>ats_drives</th>\n",
       "      <th>ats_play_count_tip</th>\n",
       "      <th>ats_plays_per_drive</th>\n",
       "      <th>ats_yds_per_drive</th>\n",
       "      <th>ats_start_avg</th>\n",
       "      <th>ats_time_avg</th>\n",
       "      <th>ats_points_avg</th>\n",
       "    </tr>\n",
       "  </thead>\n",
       "  <tbody>\n",
       "    <tr>\n",
       "      <th>0</th>\n",
       "      <td>109</td>\n",
       "      <td>2018</td>\n",
       "      <td>Indianapolis Colts</td>\n",
       "      <td>Houston Texans</td>\n",
       "      <td>18</td>\n",
       "      <td>Sat</td>\n",
       "      <td>January 5</td>\n",
       "      <td>4:35PM ET</td>\n",
       "      <td>home</td>\n",
       "      <td>Wild Card</td>\n",
       "      <td>...</td>\n",
       "      <td>60.0</td>\n",
       "      <td>30.0</td>\n",
       "      <td>50.0%</td>\n",
       "      <td>186.0</td>\n",
       "      <td>1086.0</td>\n",
       "      <td>5.8</td>\n",
       "      <td>31.1</td>\n",
       "      <td>Own 31.3</td>\n",
       "      <td>2:39</td>\n",
       "      <td>2.03</td>\n",
       "    </tr>\n",
       "    <tr>\n",
       "      <th>1</th>\n",
       "      <td>19</td>\n",
       "      <td>2018</td>\n",
       "      <td>New England Patriots</td>\n",
       "      <td>Kansas City Chiefs</td>\n",
       "      <td>19</td>\n",
       "      <td>Sun</td>\n",
       "      <td>January 20</td>\n",
       "      <td>6:40PM ET</td>\n",
       "      <td>home</td>\n",
       "      <td>Conf. Champ.</td>\n",
       "      <td>...</td>\n",
       "      <td>71.0</td>\n",
       "      <td>51.0</td>\n",
       "      <td>71.8%</td>\n",
       "      <td>171.0</td>\n",
       "      <td>1030.0</td>\n",
       "      <td>6.0</td>\n",
       "      <td>39.8</td>\n",
       "      <td>Own 30.9</td>\n",
       "      <td>2:44</td>\n",
       "      <td>3.12</td>\n",
       "    </tr>\n",
       "    <tr>\n",
       "      <th>2</th>\n",
       "      <td>110</td>\n",
       "      <td>2018</td>\n",
       "      <td>Indianapolis Colts</td>\n",
       "      <td>Kansas City Chiefs</td>\n",
       "      <td>19</td>\n",
       "      <td>Sat</td>\n",
       "      <td>January 12</td>\n",
       "      <td>4:35PM ET</td>\n",
       "      <td>home</td>\n",
       "      <td>Division</td>\n",
       "      <td>...</td>\n",
       "      <td>71.0</td>\n",
       "      <td>51.0</td>\n",
       "      <td>71.8%</td>\n",
       "      <td>171.0</td>\n",
       "      <td>1030.0</td>\n",
       "      <td>6.0</td>\n",
       "      <td>39.8</td>\n",
       "      <td>Own 30.9</td>\n",
       "      <td>2:44</td>\n",
       "      <td>3.12</td>\n",
       "    </tr>\n",
       "    <tr>\n",
       "      <th>3</th>\n",
       "      <td>253</td>\n",
       "      <td>2018</td>\n",
       "      <td>Philadelphia Eagles</td>\n",
       "      <td>Chicago Bears</td>\n",
       "      <td>18</td>\n",
       "      <td>Sun</td>\n",
       "      <td>January 6</td>\n",
       "      <td>4:40PM ET</td>\n",
       "      <td>home</td>\n",
       "      <td>Wild Card</td>\n",
       "      <td>...</td>\n",
       "      <td>54.0</td>\n",
       "      <td>36.0</td>\n",
       "      <td>66.7%</td>\n",
       "      <td>182.0</td>\n",
       "      <td>1049.0</td>\n",
       "      <td>5.8</td>\n",
       "      <td>30.1</td>\n",
       "      <td>Own 30.4</td>\n",
       "      <td>2:51</td>\n",
       "      <td>2.07</td>\n",
       "    </tr>\n",
       "    <tr>\n",
       "      <th>4</th>\n",
       "      <td>20</td>\n",
       "      <td>2018</td>\n",
       "      <td>New England Patriots</td>\n",
       "      <td>Los Angeles Rams</td>\n",
       "      <td>20</td>\n",
       "      <td>Sun</td>\n",
       "      <td>February 3</td>\n",
       "      <td>6:30PM ET</td>\n",
       "      <td>N</td>\n",
       "      <td>SuperBowl</td>\n",
       "      <td>...</td>\n",
       "      <td>80.0</td>\n",
       "      <td>46.0</td>\n",
       "      <td>57.5%</td>\n",
       "      <td>183.0</td>\n",
       "      <td>1105.0</td>\n",
       "      <td>6.0</td>\n",
       "      <td>36.7</td>\n",
       "      <td>Own 30.4</td>\n",
       "      <td>2:41</td>\n",
       "      <td>2.66</td>\n",
       "    </tr>\n",
       "  </tbody>\n",
       "</table>\n",
       "<p>5 rows × 262 columns</p>\n",
       "</div>"
      ],
      "text/plain": [
       "   gs_id  gs_year               gs_team              gs_opp  gs_week_number  \\\n",
       "0    109     2018    Indianapolis Colts      Houston Texans              18   \n",
       "1     19     2018  New England Patriots  Kansas City Chiefs              19   \n",
       "2    110     2018    Indianapolis Colts  Kansas City Chiefs              19   \n",
       "3    253     2018   Philadelphia Eagles       Chicago Bears              18   \n",
       "4     20     2018  New England Patriots    Los Angeles Rams              20   \n",
       "\n",
       "  gs_game_day_of_week gs_game_date gs_game_time gs_game_location  \\\n",
       "0                 Sat    January 5    4:35PM ET             home   \n",
       "1                 Sun   January 20    6:40PM ET             home   \n",
       "2                 Sat   January 12    4:35PM ET             home   \n",
       "3                 Sun    January 6    4:40PM ET             home   \n",
       "4                 Sun   February 3    6:30PM ET                N   \n",
       "\n",
       "    gs_week_num  ...  ats_red_zone_att  ats_red_zone_scores  ats_red_zone_pct  \\\n",
       "0     Wild Card  ...              60.0                 30.0             50.0%   \n",
       "1  Conf. Champ.  ...              71.0                 51.0             71.8%   \n",
       "2      Division  ...              71.0                 51.0             71.8%   \n",
       "3     Wild Card  ...              54.0                 36.0             66.7%   \n",
       "4     SuperBowl  ...              80.0                 46.0             57.5%   \n",
       "\n",
       "   ats_drives  ats_play_count_tip  ats_plays_per_drive  ats_yds_per_drive  \\\n",
       "0       186.0              1086.0                  5.8               31.1   \n",
       "1       171.0              1030.0                  6.0               39.8   \n",
       "2       171.0              1030.0                  6.0               39.8   \n",
       "3       182.0              1049.0                  5.8               30.1   \n",
       "4       183.0              1105.0                  6.0               36.7   \n",
       "\n",
       "   ats_start_avg  ats_time_avg  ats_points_avg  \n",
       "0       Own 31.3          2:39            2.03  \n",
       "1       Own 30.9          2:44            3.12  \n",
       "2       Own 30.9          2:44            3.12  \n",
       "3       Own 30.4          2:51            2.07  \n",
       "4       Own 30.4          2:41            2.66  \n",
       "\n",
       "[5 rows x 262 columns]"
      ]
     },
     "execution_count": 51,
     "metadata": {},
     "output_type": "execute_result"
    }
   ],
   "source": [
    "df_test = pd.read_csv(\"../input/1-desafio-cd-fatec-ourinhos/test.csv\", sep=\";\")\n",
    "df_test.head()"
   ]
  },
  {
   "cell_type": "code",
   "execution_count": 52,
   "id": "cca69de8",
   "metadata": {
    "execution": {
     "iopub.execute_input": "2022-06-09T20:29:48.412886Z",
     "iopub.status.busy": "2022-06-09T20:29:48.412452Z",
     "iopub.status.idle": "2022-06-09T20:29:48.419689Z",
     "shell.execute_reply": "2022-06-09T20:29:48.418575Z"
    },
    "papermill": {
     "duration": 0.041828,
     "end_time": "2022-06-09T20:29:48.422048",
     "exception": false,
     "start_time": "2022-06-09T20:29:48.380220",
     "status": "completed"
    },
    "tags": []
   },
   "outputs": [],
   "source": [
    "df_test = df_test.drop(columns=['gs_game_date', 'gs_game_time',\n",
    "                    'ats_fg_perc','ats_xp_perc', 'ats_kickoff_tb_pct','ats_third_down_pct',\n",
    "                    'ats_fourth_down_pct','ats_red_zone_pct','hts_fg_perc', 'hts_xp_perc',\n",
    "                    'hts_kickoff_tb_pct', 'hts_third_down_pct', 'hts_fourth_down_pct',\n",
    "                    'hts_red_zone_pct', 'hts_start_avg', 'hts_time_avg', 'ats_start_avg', 'ats_time_avg'])\n"
   ]
  },
  {
   "cell_type": "code",
   "execution_count": 53,
   "id": "3596611f",
   "metadata": {
    "execution": {
     "iopub.execute_input": "2022-06-09T20:29:48.485148Z",
     "iopub.status.busy": "2022-06-09T20:29:48.484734Z",
     "iopub.status.idle": "2022-06-09T20:29:48.517202Z",
     "shell.execute_reply": "2022-06-09T20:29:48.516141Z"
    },
    "papermill": {
     "duration": 0.066529,
     "end_time": "2022-06-09T20:29:48.519433",
     "exception": false,
     "start_time": "2022-06-09T20:29:48.452904",
     "status": "completed"
    },
    "tags": []
   },
   "outputs": [],
   "source": [
    "#preenchendo nulos das variáveis numéricas\n",
    "df_test[var_num] = imp.transform(df_test[var_num])"
   ]
  },
  {
   "cell_type": "code",
   "execution_count": 54,
   "id": "55d06fa8",
   "metadata": {
    "execution": {
     "iopub.execute_input": "2022-06-09T20:29:48.582895Z",
     "iopub.status.busy": "2022-06-09T20:29:48.582443Z",
     "iopub.status.idle": "2022-06-09T20:29:48.593883Z",
     "shell.execute_reply": "2022-06-09T20:29:48.592800Z"
    },
    "papermill": {
     "duration": 0.045962,
     "end_time": "2022-06-09T20:29:48.596246",
     "exception": false,
     "start_time": "2022-06-09T20:29:48.550284",
     "status": "completed"
    },
    "tags": []
   },
   "outputs": [],
   "source": [
    "#preenchendo nulos das variáveis categóricas\n",
    "df_test[var_cat] = imp_cat.transform(df_test[var_cat])"
   ]
  },
  {
   "cell_type": "code",
   "execution_count": 55,
   "id": "beac038c",
   "metadata": {
    "execution": {
     "iopub.execute_input": "2022-06-09T20:29:48.661567Z",
     "iopub.status.busy": "2022-06-09T20:29:48.660789Z",
     "iopub.status.idle": "2022-06-09T20:29:48.670773Z",
     "shell.execute_reply": "2022-06-09T20:29:48.669901Z"
    },
    "papermill": {
     "duration": 0.044873,
     "end_time": "2022-06-09T20:29:48.673009",
     "exception": false,
     "start_time": "2022-06-09T20:29:48.628136",
     "status": "completed"
    },
    "tags": []
   },
   "outputs": [],
   "source": [
    "#encoder\n",
    "df_test[var_cat] = encoder.transform(df_test[var_cat])"
   ]
  },
  {
   "cell_type": "code",
   "execution_count": 56,
   "id": "4086f50b",
   "metadata": {
    "execution": {
     "iopub.execute_input": "2022-06-09T20:29:48.737590Z",
     "iopub.status.busy": "2022-06-09T20:29:48.737194Z",
     "iopub.status.idle": "2022-06-09T20:29:48.749961Z",
     "shell.execute_reply": "2022-06-09T20:29:48.748896Z"
    },
    "papermill": {
     "duration": 0.048865,
     "end_time": "2022-06-09T20:29:48.753664",
     "exception": false,
     "start_time": "2022-06-09T20:29:48.704799",
     "status": "completed"
    },
    "tags": []
   },
   "outputs": [
    {
     "name": "stderr",
     "output_type": "stream",
     "text": [
      "/opt/conda/lib/python3.7/site-packages/sklearn/base.py:444: UserWarning: X has feature names, but SelectKBest was fitted without feature names\n",
      "  f\"X has feature names, but {self.__class__.__name__} was fitted without\"\n"
     ]
    }
   ],
   "source": [
    "#pegando as melhores variáveis\n",
    "test_final = selector.transform(df_test)"
   ]
  },
  {
   "cell_type": "code",
   "execution_count": 57,
   "id": "a79f514d",
   "metadata": {
    "execution": {
     "iopub.execute_input": "2022-06-09T20:29:48.821324Z",
     "iopub.status.busy": "2022-06-09T20:29:48.820903Z",
     "iopub.status.idle": "2022-06-09T20:29:48.828383Z",
     "shell.execute_reply": "2022-06-09T20:29:48.827377Z"
    },
    "papermill": {
     "duration": 0.043257,
     "end_time": "2022-06-09T20:29:48.830338",
     "exception": false,
     "start_time": "2022-06-09T20:29:48.787081",
     "status": "completed"
    },
    "tags": []
   },
   "outputs": [
    {
     "data": {
      "text/plain": [
       "array([1, 1, 1, 1, 1, 0, 1, 1, 1, 1, 1, 1, 1, 1, 0, 1, 1, 1, 1, 1, 0, 1,\n",
       "       1, 1, 1, 1, 1, 0, 1, 0, 1, 1, 1, 1, 1, 1, 1, 0, 1, 1, 0, 1, 1, 0,\n",
       "       1, 1, 1, 1, 1, 1, 0, 1])"
      ]
     },
     "execution_count": 57,
     "metadata": {},
     "output_type": "execute_result"
    }
   ],
   "source": [
    "pred = gb_clf.predict(test_final)\n",
    "pred"
   ]
  },
  {
   "cell_type": "code",
   "execution_count": 58,
   "id": "2fb3d2c4",
   "metadata": {
    "execution": {
     "iopub.execute_input": "2022-06-09T20:29:48.898441Z",
     "iopub.status.busy": "2022-06-09T20:29:48.897463Z",
     "iopub.status.idle": "2022-06-09T20:29:48.902366Z",
     "shell.execute_reply": "2022-06-09T20:29:48.901362Z"
    },
    "papermill": {
     "duration": 0.042016,
     "end_time": "2022-06-09T20:29:48.904558",
     "exception": false,
     "start_time": "2022-06-09T20:29:48.862542",
     "status": "completed"
    },
    "tags": []
   },
   "outputs": [],
   "source": [
    "pred = pd.DataFrame(pred)"
   ]
  },
  {
   "cell_type": "code",
   "execution_count": 59,
   "id": "7de29d23",
   "metadata": {
    "execution": {
     "iopub.execute_input": "2022-06-09T20:29:48.971630Z",
     "iopub.status.busy": "2022-06-09T20:29:48.970952Z",
     "iopub.status.idle": "2022-06-09T20:29:48.975728Z",
     "shell.execute_reply": "2022-06-09T20:29:48.975087Z"
    },
    "papermill": {
     "duration": 0.041127,
     "end_time": "2022-06-09T20:29:48.978077",
     "exception": false,
     "start_time": "2022-06-09T20:29:48.936950",
     "status": "completed"
    },
    "tags": []
   },
   "outputs": [],
   "source": [
    "pred = pred.replace(0, \"L\")"
   ]
  },
  {
   "cell_type": "code",
   "execution_count": 60,
   "id": "704f55a7",
   "metadata": {
    "execution": {
     "iopub.execute_input": "2022-06-09T20:29:49.046156Z",
     "iopub.status.busy": "2022-06-09T20:29:49.045180Z",
     "iopub.status.idle": "2022-06-09T20:29:49.050800Z",
     "shell.execute_reply": "2022-06-09T20:29:49.049750Z"
    },
    "papermill": {
     "duration": 0.041075,
     "end_time": "2022-06-09T20:29:49.052972",
     "exception": false,
     "start_time": "2022-06-09T20:29:49.011897",
     "status": "completed"
    },
    "tags": []
   },
   "outputs": [],
   "source": [
    "pred = pred.replace(1, \"W\")"
   ]
  },
  {
   "cell_type": "code",
   "execution_count": 61,
   "id": "9a220287",
   "metadata": {
    "execution": {
     "iopub.execute_input": "2022-06-09T20:29:49.117491Z",
     "iopub.status.busy": "2022-06-09T20:29:49.116805Z",
     "iopub.status.idle": "2022-06-09T20:29:49.128171Z",
     "shell.execute_reply": "2022-06-09T20:29:49.127422Z"
    },
    "papermill": {
     "duration": 0.045204,
     "end_time": "2022-06-09T20:29:49.129926",
     "exception": false,
     "start_time": "2022-06-09T20:29:49.084722",
     "status": "completed"
    },
    "tags": []
   },
   "outputs": [
    {
     "data": {
      "text/html": [
       "<div>\n",
       "<style scoped>\n",
       "    .dataframe tbody tr th:only-of-type {\n",
       "        vertical-align: middle;\n",
       "    }\n",
       "\n",
       "    .dataframe tbody tr th {\n",
       "        vertical-align: top;\n",
       "    }\n",
       "\n",
       "    .dataframe thead th {\n",
       "        text-align: right;\n",
       "    }\n",
       "</style>\n",
       "<table border=\"1\" class=\"dataframe\">\n",
       "  <thead>\n",
       "    <tr style=\"text-align: right;\">\n",
       "      <th></th>\n",
       "      <th>0</th>\n",
       "    </tr>\n",
       "  </thead>\n",
       "  <tbody>\n",
       "    <tr>\n",
       "      <th>0</th>\n",
       "      <td>W</td>\n",
       "    </tr>\n",
       "    <tr>\n",
       "      <th>1</th>\n",
       "      <td>W</td>\n",
       "    </tr>\n",
       "    <tr>\n",
       "      <th>2</th>\n",
       "      <td>W</td>\n",
       "    </tr>\n",
       "    <tr>\n",
       "      <th>3</th>\n",
       "      <td>W</td>\n",
       "    </tr>\n",
       "    <tr>\n",
       "      <th>4</th>\n",
       "      <td>W</td>\n",
       "    </tr>\n",
       "    <tr>\n",
       "      <th>5</th>\n",
       "      <td>L</td>\n",
       "    </tr>\n",
       "    <tr>\n",
       "      <th>6</th>\n",
       "      <td>W</td>\n",
       "    </tr>\n",
       "    <tr>\n",
       "      <th>7</th>\n",
       "      <td>W</td>\n",
       "    </tr>\n",
       "    <tr>\n",
       "      <th>8</th>\n",
       "      <td>W</td>\n",
       "    </tr>\n",
       "    <tr>\n",
       "      <th>9</th>\n",
       "      <td>W</td>\n",
       "    </tr>\n",
       "    <tr>\n",
       "      <th>10</th>\n",
       "      <td>W</td>\n",
       "    </tr>\n",
       "    <tr>\n",
       "      <th>11</th>\n",
       "      <td>W</td>\n",
       "    </tr>\n",
       "    <tr>\n",
       "      <th>12</th>\n",
       "      <td>W</td>\n",
       "    </tr>\n",
       "    <tr>\n",
       "      <th>13</th>\n",
       "      <td>W</td>\n",
       "    </tr>\n",
       "    <tr>\n",
       "      <th>14</th>\n",
       "      <td>L</td>\n",
       "    </tr>\n",
       "    <tr>\n",
       "      <th>15</th>\n",
       "      <td>W</td>\n",
       "    </tr>\n",
       "    <tr>\n",
       "      <th>16</th>\n",
       "      <td>W</td>\n",
       "    </tr>\n",
       "    <tr>\n",
       "      <th>17</th>\n",
       "      <td>W</td>\n",
       "    </tr>\n",
       "    <tr>\n",
       "      <th>18</th>\n",
       "      <td>W</td>\n",
       "    </tr>\n",
       "    <tr>\n",
       "      <th>19</th>\n",
       "      <td>W</td>\n",
       "    </tr>\n",
       "    <tr>\n",
       "      <th>20</th>\n",
       "      <td>L</td>\n",
       "    </tr>\n",
       "    <tr>\n",
       "      <th>21</th>\n",
       "      <td>W</td>\n",
       "    </tr>\n",
       "    <tr>\n",
       "      <th>22</th>\n",
       "      <td>W</td>\n",
       "    </tr>\n",
       "    <tr>\n",
       "      <th>23</th>\n",
       "      <td>W</td>\n",
       "    </tr>\n",
       "    <tr>\n",
       "      <th>24</th>\n",
       "      <td>W</td>\n",
       "    </tr>\n",
       "    <tr>\n",
       "      <th>25</th>\n",
       "      <td>W</td>\n",
       "    </tr>\n",
       "    <tr>\n",
       "      <th>26</th>\n",
       "      <td>W</td>\n",
       "    </tr>\n",
       "    <tr>\n",
       "      <th>27</th>\n",
       "      <td>L</td>\n",
       "    </tr>\n",
       "    <tr>\n",
       "      <th>28</th>\n",
       "      <td>W</td>\n",
       "    </tr>\n",
       "    <tr>\n",
       "      <th>29</th>\n",
       "      <td>L</td>\n",
       "    </tr>\n",
       "    <tr>\n",
       "      <th>30</th>\n",
       "      <td>W</td>\n",
       "    </tr>\n",
       "    <tr>\n",
       "      <th>31</th>\n",
       "      <td>W</td>\n",
       "    </tr>\n",
       "    <tr>\n",
       "      <th>32</th>\n",
       "      <td>W</td>\n",
       "    </tr>\n",
       "    <tr>\n",
       "      <th>33</th>\n",
       "      <td>W</td>\n",
       "    </tr>\n",
       "    <tr>\n",
       "      <th>34</th>\n",
       "      <td>W</td>\n",
       "    </tr>\n",
       "    <tr>\n",
       "      <th>35</th>\n",
       "      <td>W</td>\n",
       "    </tr>\n",
       "    <tr>\n",
       "      <th>36</th>\n",
       "      <td>W</td>\n",
       "    </tr>\n",
       "    <tr>\n",
       "      <th>37</th>\n",
       "      <td>L</td>\n",
       "    </tr>\n",
       "    <tr>\n",
       "      <th>38</th>\n",
       "      <td>W</td>\n",
       "    </tr>\n",
       "    <tr>\n",
       "      <th>39</th>\n",
       "      <td>W</td>\n",
       "    </tr>\n",
       "    <tr>\n",
       "      <th>40</th>\n",
       "      <td>L</td>\n",
       "    </tr>\n",
       "    <tr>\n",
       "      <th>41</th>\n",
       "      <td>W</td>\n",
       "    </tr>\n",
       "    <tr>\n",
       "      <th>42</th>\n",
       "      <td>W</td>\n",
       "    </tr>\n",
       "    <tr>\n",
       "      <th>43</th>\n",
       "      <td>L</td>\n",
       "    </tr>\n",
       "    <tr>\n",
       "      <th>44</th>\n",
       "      <td>W</td>\n",
       "    </tr>\n",
       "    <tr>\n",
       "      <th>45</th>\n",
       "      <td>W</td>\n",
       "    </tr>\n",
       "    <tr>\n",
       "      <th>46</th>\n",
       "      <td>W</td>\n",
       "    </tr>\n",
       "    <tr>\n",
       "      <th>47</th>\n",
       "      <td>W</td>\n",
       "    </tr>\n",
       "    <tr>\n",
       "      <th>48</th>\n",
       "      <td>W</td>\n",
       "    </tr>\n",
       "    <tr>\n",
       "      <th>49</th>\n",
       "      <td>W</td>\n",
       "    </tr>\n",
       "    <tr>\n",
       "      <th>50</th>\n",
       "      <td>L</td>\n",
       "    </tr>\n",
       "    <tr>\n",
       "      <th>51</th>\n",
       "      <td>W</td>\n",
       "    </tr>\n",
       "  </tbody>\n",
       "</table>\n",
       "</div>"
      ],
      "text/plain": [
       "    0\n",
       "0   W\n",
       "1   W\n",
       "2   W\n",
       "3   W\n",
       "4   W\n",
       "5   L\n",
       "6   W\n",
       "7   W\n",
       "8   W\n",
       "9   W\n",
       "10  W\n",
       "11  W\n",
       "12  W\n",
       "13  W\n",
       "14  L\n",
       "15  W\n",
       "16  W\n",
       "17  W\n",
       "18  W\n",
       "19  W\n",
       "20  L\n",
       "21  W\n",
       "22  W\n",
       "23  W\n",
       "24  W\n",
       "25  W\n",
       "26  W\n",
       "27  L\n",
       "28  W\n",
       "29  L\n",
       "30  W\n",
       "31  W\n",
       "32  W\n",
       "33  W\n",
       "34  W\n",
       "35  W\n",
       "36  W\n",
       "37  L\n",
       "38  W\n",
       "39  W\n",
       "40  L\n",
       "41  W\n",
       "42  W\n",
       "43  L\n",
       "44  W\n",
       "45  W\n",
       "46  W\n",
       "47  W\n",
       "48  W\n",
       "49  W\n",
       "50  L\n",
       "51  W"
      ]
     },
     "execution_count": 61,
     "metadata": {},
     "output_type": "execute_result"
    }
   ],
   "source": [
    "pred"
   ]
  },
  {
   "cell_type": "code",
   "execution_count": 62,
   "id": "a82e91f7",
   "metadata": {
    "execution": {
     "iopub.execute_input": "2022-06-09T20:29:49.196312Z",
     "iopub.status.busy": "2022-06-09T20:29:49.195353Z",
     "iopub.status.idle": "2022-06-09T20:29:49.200845Z",
     "shell.execute_reply": "2022-06-09T20:29:49.199967Z"
    },
    "papermill": {
     "duration": 0.040992,
     "end_time": "2022-06-09T20:29:49.202936",
     "exception": false,
     "start_time": "2022-06-09T20:29:49.161944",
     "status": "completed"
    },
    "tags": []
   },
   "outputs": [],
   "source": [
    "df_test['winorlose'] = pred"
   ]
  },
  {
   "cell_type": "code",
   "execution_count": 63,
   "id": "5d8970eb",
   "metadata": {
    "execution": {
     "iopub.execute_input": "2022-06-09T20:29:49.267169Z",
     "iopub.status.busy": "2022-06-09T20:29:49.266527Z",
     "iopub.status.idle": "2022-06-09T20:29:49.272985Z",
     "shell.execute_reply": "2022-06-09T20:29:49.271803Z"
    },
    "papermill": {
     "duration": 0.040899,
     "end_time": "2022-06-09T20:29:49.275085",
     "exception": false,
     "start_time": "2022-06-09T20:29:49.234186",
     "status": "completed"
    },
    "tags": []
   },
   "outputs": [],
   "source": [
    "df_test['gs_id'] = df_test['gs_id'].astype(int)"
   ]
  },
  {
   "cell_type": "code",
   "execution_count": 64,
   "id": "fb31ed4d",
   "metadata": {
    "execution": {
     "iopub.execute_input": "2022-06-09T20:29:49.339351Z",
     "iopub.status.busy": "2022-06-09T20:29:49.338841Z",
     "iopub.status.idle": "2022-06-09T20:29:49.352775Z",
     "shell.execute_reply": "2022-06-09T20:29:49.351958Z"
    },
    "papermill": {
     "duration": 0.048435,
     "end_time": "2022-06-09T20:29:49.354785",
     "exception": false,
     "start_time": "2022-06-09T20:29:49.306350",
     "status": "completed"
    },
    "tags": []
   },
   "outputs": [
    {
     "data": {
      "text/html": [
       "<div>\n",
       "<style scoped>\n",
       "    .dataframe tbody tr th:only-of-type {\n",
       "        vertical-align: middle;\n",
       "    }\n",
       "\n",
       "    .dataframe tbody tr th {\n",
       "        vertical-align: top;\n",
       "    }\n",
       "\n",
       "    .dataframe thead th {\n",
       "        text-align: right;\n",
       "    }\n",
       "</style>\n",
       "<table border=\"1\" class=\"dataframe\">\n",
       "  <thead>\n",
       "    <tr style=\"text-align: right;\">\n",
       "      <th></th>\n",
       "      <th>gs_id</th>\n",
       "      <th>winorlose</th>\n",
       "    </tr>\n",
       "  </thead>\n",
       "  <tbody>\n",
       "    <tr>\n",
       "      <th>0</th>\n",
       "      <td>109</td>\n",
       "      <td>W</td>\n",
       "    </tr>\n",
       "    <tr>\n",
       "      <th>1</th>\n",
       "      <td>19</td>\n",
       "      <td>W</td>\n",
       "    </tr>\n",
       "    <tr>\n",
       "      <th>2</th>\n",
       "      <td>110</td>\n",
       "      <td>W</td>\n",
       "    </tr>\n",
       "    <tr>\n",
       "      <th>3</th>\n",
       "      <td>253</td>\n",
       "      <td>W</td>\n",
       "    </tr>\n",
       "    <tr>\n",
       "      <th>4</th>\n",
       "      <td>20</td>\n",
       "      <td>W</td>\n",
       "    </tr>\n",
       "    <tr>\n",
       "      <th>5</th>\n",
       "      <td>217</td>\n",
       "      <td>L</td>\n",
       "    </tr>\n",
       "    <tr>\n",
       "      <th>6</th>\n",
       "      <td>254</td>\n",
       "      <td>W</td>\n",
       "    </tr>\n",
       "    <tr>\n",
       "      <th>7</th>\n",
       "      <td>486</td>\n",
       "      <td>W</td>\n",
       "    </tr>\n",
       "    <tr>\n",
       "      <th>8</th>\n",
       "      <td>327</td>\n",
       "      <td>W</td>\n",
       "    </tr>\n",
       "    <tr>\n",
       "      <th>9</th>\n",
       "      <td>328</td>\n",
       "      <td>W</td>\n",
       "    </tr>\n",
       "    <tr>\n",
       "      <th>10</th>\n",
       "      <td>487</td>\n",
       "      <td>W</td>\n",
       "    </tr>\n",
       "    <tr>\n",
       "      <th>11</th>\n",
       "      <td>523</td>\n",
       "      <td>W</td>\n",
       "    </tr>\n",
       "    <tr>\n",
       "      <th>12</th>\n",
       "      <td>1176</td>\n",
       "      <td>W</td>\n",
       "    </tr>\n",
       "    <tr>\n",
       "      <th>13</th>\n",
       "      <td>1254</td>\n",
       "      <td>W</td>\n",
       "    </tr>\n",
       "    <tr>\n",
       "      <th>14</th>\n",
       "      <td>1275</td>\n",
       "      <td>L</td>\n",
       "    </tr>\n",
       "    <tr>\n",
       "      <th>15</th>\n",
       "      <td>1253</td>\n",
       "      <td>W</td>\n",
       "    </tr>\n",
       "    <tr>\n",
       "      <th>16</th>\n",
       "      <td>1483</td>\n",
       "      <td>W</td>\n",
       "    </tr>\n",
       "    <tr>\n",
       "      <th>17</th>\n",
       "      <td>1709</td>\n",
       "      <td>W</td>\n",
       "    </tr>\n",
       "    <tr>\n",
       "      <th>18</th>\n",
       "      <td>1751</td>\n",
       "      <td>W</td>\n",
       "    </tr>\n",
       "    <tr>\n",
       "      <th>19</th>\n",
       "      <td>1196</td>\n",
       "      <td>W</td>\n",
       "    </tr>\n",
       "    <tr>\n",
       "      <th>20</th>\n",
       "      <td>1405</td>\n",
       "      <td>L</td>\n",
       "    </tr>\n",
       "    <tr>\n",
       "      <th>21</th>\n",
       "      <td>1711</td>\n",
       "      <td>W</td>\n",
       "    </tr>\n",
       "    <tr>\n",
       "      <th>22</th>\n",
       "      <td>1752</td>\n",
       "      <td>W</td>\n",
       "    </tr>\n",
       "    <tr>\n",
       "      <th>23</th>\n",
       "      <td>1255</td>\n",
       "      <td>W</td>\n",
       "    </tr>\n",
       "    <tr>\n",
       "      <th>24</th>\n",
       "      <td>1731</td>\n",
       "      <td>W</td>\n",
       "    </tr>\n",
       "    <tr>\n",
       "      <th>25</th>\n",
       "      <td>1753</td>\n",
       "      <td>W</td>\n",
       "    </tr>\n",
       "    <tr>\n",
       "      <th>26</th>\n",
       "      <td>2531</td>\n",
       "      <td>W</td>\n",
       "    </tr>\n",
       "    <tr>\n",
       "      <th>27</th>\n",
       "      <td>2875</td>\n",
       "      <td>L</td>\n",
       "    </tr>\n",
       "    <tr>\n",
       "      <th>28</th>\n",
       "      <td>2387</td>\n",
       "      <td>W</td>\n",
       "    </tr>\n",
       "    <tr>\n",
       "      <th>29</th>\n",
       "      <td>2494</td>\n",
       "      <td>L</td>\n",
       "    </tr>\n",
       "    <tr>\n",
       "      <th>30</th>\n",
       "      <td>2532</td>\n",
       "      <td>W</td>\n",
       "    </tr>\n",
       "    <tr>\n",
       "      <th>31</th>\n",
       "      <td>2822</td>\n",
       "      <td>W</td>\n",
       "    </tr>\n",
       "    <tr>\n",
       "      <th>32</th>\n",
       "      <td>2530</td>\n",
       "      <td>W</td>\n",
       "    </tr>\n",
       "    <tr>\n",
       "      <th>33</th>\n",
       "      <td>2570</td>\n",
       "      <td>W</td>\n",
       "    </tr>\n",
       "    <tr>\n",
       "      <th>34</th>\n",
       "      <td>2711</td>\n",
       "      <td>W</td>\n",
       "    </tr>\n",
       "    <tr>\n",
       "      <th>35</th>\n",
       "      <td>2784</td>\n",
       "      <td>W</td>\n",
       "    </tr>\n",
       "    <tr>\n",
       "      <th>36</th>\n",
       "      <td>2710</td>\n",
       "      <td>W</td>\n",
       "    </tr>\n",
       "    <tr>\n",
       "      <th>37</th>\n",
       "      <td>2876</td>\n",
       "      <td>L</td>\n",
       "    </tr>\n",
       "    <tr>\n",
       "      <th>38</th>\n",
       "      <td>3021</td>\n",
       "      <td>W</td>\n",
       "    </tr>\n",
       "    <tr>\n",
       "      <th>39</th>\n",
       "      <td>2948</td>\n",
       "      <td>W</td>\n",
       "    </tr>\n",
       "    <tr>\n",
       "      <th>40</th>\n",
       "      <td>3002</td>\n",
       "      <td>L</td>\n",
       "    </tr>\n",
       "    <tr>\n",
       "      <th>41</th>\n",
       "      <td>3404</td>\n",
       "      <td>W</td>\n",
       "    </tr>\n",
       "    <tr>\n",
       "      <th>42</th>\n",
       "      <td>3440</td>\n",
       "      <td>W</td>\n",
       "    </tr>\n",
       "    <tr>\n",
       "      <th>43</th>\n",
       "      <td>3001</td>\n",
       "      <td>L</td>\n",
       "    </tr>\n",
       "    <tr>\n",
       "      <th>44</th>\n",
       "      <td>3022</td>\n",
       "      <td>W</td>\n",
       "    </tr>\n",
       "    <tr>\n",
       "      <th>45</th>\n",
       "      <td>3113</td>\n",
       "      <td>W</td>\n",
       "    </tr>\n",
       "    <tr>\n",
       "      <th>46</th>\n",
       "      <td>3401</td>\n",
       "      <td>W</td>\n",
       "    </tr>\n",
       "    <tr>\n",
       "      <th>47</th>\n",
       "      <td>3403</td>\n",
       "      <td>W</td>\n",
       "    </tr>\n",
       "    <tr>\n",
       "      <th>48</th>\n",
       "      <td>3441</td>\n",
       "      <td>W</td>\n",
       "    </tr>\n",
       "    <tr>\n",
       "      <th>49</th>\n",
       "      <td>3168</td>\n",
       "      <td>W</td>\n",
       "    </tr>\n",
       "    <tr>\n",
       "      <th>50</th>\n",
       "      <td>3328</td>\n",
       "      <td>L</td>\n",
       "    </tr>\n",
       "    <tr>\n",
       "      <th>51</th>\n",
       "      <td>3402</td>\n",
       "      <td>W</td>\n",
       "    </tr>\n",
       "  </tbody>\n",
       "</table>\n",
       "</div>"
      ],
      "text/plain": [
       "    gs_id winorlose\n",
       "0     109         W\n",
       "1      19         W\n",
       "2     110         W\n",
       "3     253         W\n",
       "4      20         W\n",
       "5     217         L\n",
       "6     254         W\n",
       "7     486         W\n",
       "8     327         W\n",
       "9     328         W\n",
       "10    487         W\n",
       "11    523         W\n",
       "12   1176         W\n",
       "13   1254         W\n",
       "14   1275         L\n",
       "15   1253         W\n",
       "16   1483         W\n",
       "17   1709         W\n",
       "18   1751         W\n",
       "19   1196         W\n",
       "20   1405         L\n",
       "21   1711         W\n",
       "22   1752         W\n",
       "23   1255         W\n",
       "24   1731         W\n",
       "25   1753         W\n",
       "26   2531         W\n",
       "27   2875         L\n",
       "28   2387         W\n",
       "29   2494         L\n",
       "30   2532         W\n",
       "31   2822         W\n",
       "32   2530         W\n",
       "33   2570         W\n",
       "34   2711         W\n",
       "35   2784         W\n",
       "36   2710         W\n",
       "37   2876         L\n",
       "38   3021         W\n",
       "39   2948         W\n",
       "40   3002         L\n",
       "41   3404         W\n",
       "42   3440         W\n",
       "43   3001         L\n",
       "44   3022         W\n",
       "45   3113         W\n",
       "46   3401         W\n",
       "47   3403         W\n",
       "48   3441         W\n",
       "49   3168         W\n",
       "50   3328         L\n",
       "51   3402         W"
      ]
     },
     "execution_count": 64,
     "metadata": {},
     "output_type": "execute_result"
    }
   ],
   "source": [
    "submit = df_test[['gs_id', 'winorlose']]\n",
    "submit"
   ]
  },
  {
   "cell_type": "code",
   "execution_count": 65,
   "id": "a0b245a1",
   "metadata": {
    "execution": {
     "iopub.execute_input": "2022-06-09T20:29:49.421471Z",
     "iopub.status.busy": "2022-06-09T20:29:49.420760Z",
     "iopub.status.idle": "2022-06-09T20:29:49.429470Z",
     "shell.execute_reply": "2022-06-09T20:29:49.428319Z"
    },
    "papermill": {
     "duration": 0.043954,
     "end_time": "2022-06-09T20:29:49.431780",
     "exception": false,
     "start_time": "2022-06-09T20:29:49.387826",
     "status": "completed"
    },
    "tags": []
   },
   "outputs": [],
   "source": [
    "submit.to_csv('/kaggle/working/submission.csv', index=False)"
   ]
  },
  {
   "cell_type": "code",
   "execution_count": null,
   "id": "ef33aeb5",
   "metadata": {
    "papermill": {
     "duration": 0.031313,
     "end_time": "2022-06-09T20:29:49.496206",
     "exception": false,
     "start_time": "2022-06-09T20:29:49.464893",
     "status": "completed"
    },
    "tags": []
   },
   "outputs": [],
   "source": []
  }
 ],
 "metadata": {
  "kernelspec": {
   "display_name": "Python 3",
   "language": "python",
   "name": "python3"
  },
  "language_info": {
   "codemirror_mode": {
    "name": "ipython",
    "version": 3
   },
   "file_extension": ".py",
   "mimetype": "text/x-python",
   "name": "python",
   "nbconvert_exporter": "python",
   "pygments_lexer": "ipython3",
   "version": "3.7.12"
  },
  "papermill": {
   "default_parameters": {},
   "duration": 26.642908,
   "end_time": "2022-06-09T20:29:50.450915",
   "environment_variables": {},
   "exception": null,
   "input_path": "__notebook__.ipynb",
   "output_path": "__notebook__.ipynb",
   "parameters": {},
   "start_time": "2022-06-09T20:29:23.808007",
   "version": "2.3.4"
  }
 },
 "nbformat": 4,
 "nbformat_minor": 5
}
