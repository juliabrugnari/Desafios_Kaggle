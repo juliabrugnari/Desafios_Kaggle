{
 "cells": [
  {
   "cell_type": "code",
   "execution_count": 1,
   "id": "d42d8c9e",
   "metadata": {
    "_cell_guid": "b1076dfc-b9ad-4769-8c92-a6c4dae69d19",
    "_uuid": "8f2839f25d086af736a60e9eeb907d3b93b6e0e5",
    "execution": {
     "iopub.execute_input": "2022-06-13T13:24:44.837830Z",
     "iopub.status.busy": "2022-06-13T13:24:44.837334Z",
     "iopub.status.idle": "2022-06-13T13:24:44.849778Z",
     "shell.execute_reply": "2022-06-13T13:24:44.848814Z"
    },
    "papermill": {
     "duration": 0.035143,
     "end_time": "2022-06-13T13:24:44.852280",
     "exception": false,
     "start_time": "2022-06-13T13:24:44.817137",
     "status": "completed"
    },
    "tags": []
   },
   "outputs": [
    {
     "name": "stdout",
     "output_type": "stream",
     "text": [
      "/kaggle/input/nlp-getting-started/sample_submission.csv\n",
      "/kaggle/input/nlp-getting-started/train.csv\n",
      "/kaggle/input/nlp-getting-started/test.csv\n"
     ]
    }
   ],
   "source": [
    "import os\n",
    "for dirname, _, filenames in os.walk('/kaggle/input'):\n",
    "    for filename in filenames:\n",
    "        print(os.path.join(dirname, filename))"
   ]
  },
  {
   "cell_type": "markdown",
   "id": "ca505fcc",
   "metadata": {
    "papermill": {
     "duration": 0.017063,
     "end_time": "2022-06-13T13:24:44.887366",
     "exception": false,
     "start_time": "2022-06-13T13:24:44.870303",
     "status": "completed"
    },
    "tags": []
   },
   "source": [
    "Importando as bibliotecas"
   ]
  },
  {
   "cell_type": "code",
   "execution_count": 2,
   "id": "6a3c8272",
   "metadata": {
    "execution": {
     "iopub.execute_input": "2022-06-13T13:24:44.924165Z",
     "iopub.status.busy": "2022-06-13T13:24:44.923816Z",
     "iopub.status.idle": "2022-06-13T13:24:52.757626Z",
     "shell.execute_reply": "2022-06-13T13:24:52.756524Z"
    },
    "papermill": {
     "duration": 7.855265,
     "end_time": "2022-06-13T13:24:52.760009",
     "exception": false,
     "start_time": "2022-06-13T13:24:44.904744",
     "status": "completed"
    },
    "tags": []
   },
   "outputs": [],
   "source": [
    "import keras\n",
    "import nltk\n",
    "import pandas as pd\n",
    "import numpy as np\n",
    "import re\n",
    "import codecs\n",
    "import itertools\n",
    "import matplotlib\n",
    "import matplotlib.patches as mpatches\n",
    "import matplotlib.pyplot as plt\n",
    "import numpy as np\n",
    "import gensim\n",
    "from keras.preprocessing.text import Tokenizer\n",
    "from keras.preprocessing.sequence import pad_sequences\n",
    "from tensorflow.keras.utils import to_categorical\n",
    "from sklearn.model_selection import train_test_split\n",
    "from sklearn.feature_extraction.text import CountVectorizer, TfidfVectorizer\n",
    "from sklearn.decomposition import PCA, TruncatedSVD\n",
    "from sklearn.linear_model import LogisticRegression\n",
    "from sklearn.metrics import accuracy_score, f1_score, precision_score, recall_score, classification_report\n",
    "from sklearn.metrics import confusion_matrix\n",
    "from nltk.corpus import stopwords\n",
    "stop=set(stopwords.words('english'))\n",
    "import seaborn as sns\n",
    "\n",
    "import re \n",
    "import nltk\n",
    "from nltk.tokenize import word_tokenize\n",
    "from nltk.corpus import stopwords\n",
    "from nltk.stem import WordNetLemmatizer\n",
    "from nltk.stem.porter import PorterStemmer\n",
    "\n",
    "from ast import literal_eval\n",
    "from collections import Counter\n",
    "from itertools import chain\n",
    "\n",
    "from nltk.tokenize import RegexpTokenizer"
   ]
  },
  {
   "cell_type": "markdown",
   "id": "325df1ad",
   "metadata": {
    "papermill": {
     "duration": 0.017516,
     "end_time": "2022-06-13T13:24:52.794435",
     "exception": false,
     "start_time": "2022-06-13T13:24:52.776919",
     "status": "completed"
    },
    "tags": []
   },
   "source": [
    "Lendo o arquivo"
   ]
  },
  {
   "cell_type": "code",
   "execution_count": 3,
   "id": "dfa823c4",
   "metadata": {
    "execution": {
     "iopub.execute_input": "2022-06-13T13:24:52.830018Z",
     "iopub.status.busy": "2022-06-13T13:24:52.828951Z",
     "iopub.status.idle": "2022-06-13T13:24:52.903751Z",
     "shell.execute_reply": "2022-06-13T13:24:52.902826Z"
    },
    "papermill": {
     "duration": 0.095029,
     "end_time": "2022-06-13T13:24:52.906134",
     "exception": false,
     "start_time": "2022-06-13T13:24:52.811105",
     "status": "completed"
    },
    "tags": []
   },
   "outputs": [
    {
     "data": {
      "text/html": [
       "<div>\n",
       "<style scoped>\n",
       "    .dataframe tbody tr th:only-of-type {\n",
       "        vertical-align: middle;\n",
       "    }\n",
       "\n",
       "    .dataframe tbody tr th {\n",
       "        vertical-align: top;\n",
       "    }\n",
       "\n",
       "    .dataframe thead th {\n",
       "        text-align: right;\n",
       "    }\n",
       "</style>\n",
       "<table border=\"1\" class=\"dataframe\">\n",
       "  <thead>\n",
       "    <tr style=\"text-align: right;\">\n",
       "      <th></th>\n",
       "      <th>id</th>\n",
       "      <th>keyword</th>\n",
       "      <th>location</th>\n",
       "      <th>text</th>\n",
       "      <th>target</th>\n",
       "    </tr>\n",
       "  </thead>\n",
       "  <tbody>\n",
       "    <tr>\n",
       "      <th>0</th>\n",
       "      <td>1</td>\n",
       "      <td>NaN</td>\n",
       "      <td>NaN</td>\n",
       "      <td>Our Deeds are the Reason of this #earthquake M...</td>\n",
       "      <td>1</td>\n",
       "    </tr>\n",
       "    <tr>\n",
       "      <th>1</th>\n",
       "      <td>4</td>\n",
       "      <td>NaN</td>\n",
       "      <td>NaN</td>\n",
       "      <td>Forest fire near La Ronge Sask. Canada</td>\n",
       "      <td>1</td>\n",
       "    </tr>\n",
       "    <tr>\n",
       "      <th>2</th>\n",
       "      <td>5</td>\n",
       "      <td>NaN</td>\n",
       "      <td>NaN</td>\n",
       "      <td>All residents asked to 'shelter in place' are ...</td>\n",
       "      <td>1</td>\n",
       "    </tr>\n",
       "    <tr>\n",
       "      <th>3</th>\n",
       "      <td>6</td>\n",
       "      <td>NaN</td>\n",
       "      <td>NaN</td>\n",
       "      <td>13,000 people receive #wildfires evacuation or...</td>\n",
       "      <td>1</td>\n",
       "    </tr>\n",
       "    <tr>\n",
       "      <th>4</th>\n",
       "      <td>7</td>\n",
       "      <td>NaN</td>\n",
       "      <td>NaN</td>\n",
       "      <td>Just got sent this photo from Ruby #Alaska as ...</td>\n",
       "      <td>1</td>\n",
       "    </tr>\n",
       "    <tr>\n",
       "      <th>...</th>\n",
       "      <td>...</td>\n",
       "      <td>...</td>\n",
       "      <td>...</td>\n",
       "      <td>...</td>\n",
       "      <td>...</td>\n",
       "    </tr>\n",
       "    <tr>\n",
       "      <th>7608</th>\n",
       "      <td>10869</td>\n",
       "      <td>NaN</td>\n",
       "      <td>NaN</td>\n",
       "      <td>Two giant cranes holding a bridge collapse int...</td>\n",
       "      <td>1</td>\n",
       "    </tr>\n",
       "    <tr>\n",
       "      <th>7609</th>\n",
       "      <td>10870</td>\n",
       "      <td>NaN</td>\n",
       "      <td>NaN</td>\n",
       "      <td>@aria_ahrary @TheTawniest The out of control w...</td>\n",
       "      <td>1</td>\n",
       "    </tr>\n",
       "    <tr>\n",
       "      <th>7610</th>\n",
       "      <td>10871</td>\n",
       "      <td>NaN</td>\n",
       "      <td>NaN</td>\n",
       "      <td>M1.94 [01:04 UTC]?5km S of Volcano Hawaii. htt...</td>\n",
       "      <td>1</td>\n",
       "    </tr>\n",
       "    <tr>\n",
       "      <th>7611</th>\n",
       "      <td>10872</td>\n",
       "      <td>NaN</td>\n",
       "      <td>NaN</td>\n",
       "      <td>Police investigating after an e-bike collided ...</td>\n",
       "      <td>1</td>\n",
       "    </tr>\n",
       "    <tr>\n",
       "      <th>7612</th>\n",
       "      <td>10873</td>\n",
       "      <td>NaN</td>\n",
       "      <td>NaN</td>\n",
       "      <td>The Latest: More Homes Razed by Northern Calif...</td>\n",
       "      <td>1</td>\n",
       "    </tr>\n",
       "  </tbody>\n",
       "</table>\n",
       "<p>7613 rows × 5 columns</p>\n",
       "</div>"
      ],
      "text/plain": [
       "         id keyword location  \\\n",
       "0         1     NaN      NaN   \n",
       "1         4     NaN      NaN   \n",
       "2         5     NaN      NaN   \n",
       "3         6     NaN      NaN   \n",
       "4         7     NaN      NaN   \n",
       "...     ...     ...      ...   \n",
       "7608  10869     NaN      NaN   \n",
       "7609  10870     NaN      NaN   \n",
       "7610  10871     NaN      NaN   \n",
       "7611  10872     NaN      NaN   \n",
       "7612  10873     NaN      NaN   \n",
       "\n",
       "                                                   text  target  \n",
       "0     Our Deeds are the Reason of this #earthquake M...       1  \n",
       "1                Forest fire near La Ronge Sask. Canada       1  \n",
       "2     All residents asked to 'shelter in place' are ...       1  \n",
       "3     13,000 people receive #wildfires evacuation or...       1  \n",
       "4     Just got sent this photo from Ruby #Alaska as ...       1  \n",
       "...                                                 ...     ...  \n",
       "7608  Two giant cranes holding a bridge collapse int...       1  \n",
       "7609  @aria_ahrary @TheTawniest The out of control w...       1  \n",
       "7610  M1.94 [01:04 UTC]?5km S of Volcano Hawaii. htt...       1  \n",
       "7611  Police investigating after an e-bike collided ...       1  \n",
       "7612  The Latest: More Homes Razed by Northern Calif...       1  \n",
       "\n",
       "[7613 rows x 5 columns]"
      ]
     },
     "execution_count": 3,
     "metadata": {},
     "output_type": "execute_result"
    }
   ],
   "source": [
    "df_train = pd.read_csv('../input/nlp-getting-started/train.csv')\n",
    "df_train"
   ]
  },
  {
   "cell_type": "markdown",
   "id": "075f4381",
   "metadata": {
    "papermill": {
     "duration": 0.016795,
     "end_time": "2022-06-13T13:24:52.940048",
     "exception": false,
     "start_time": "2022-06-13T13:24:52.923253",
     "status": "completed"
    },
    "tags": []
   },
   "source": [
    "Retirando os espaços dos títulos das colunas para não atrapalhar"
   ]
  },
  {
   "cell_type": "code",
   "execution_count": 4,
   "id": "64eb0e57",
   "metadata": {
    "execution": {
     "iopub.execute_input": "2022-06-13T13:24:52.976102Z",
     "iopub.status.busy": "2022-06-13T13:24:52.975412Z",
     "iopub.status.idle": "2022-06-13T13:24:52.982025Z",
     "shell.execute_reply": "2022-06-13T13:24:52.981397Z"
    },
    "papermill": {
     "duration": 0.026901,
     "end_time": "2022-06-13T13:24:52.984027",
     "exception": false,
     "start_time": "2022-06-13T13:24:52.957126",
     "status": "completed"
    },
    "tags": []
   },
   "outputs": [],
   "source": [
    "Coluna_name=[]\n",
    "for i in df_train:\n",
    "    Coluna_name.append(i.strip()) \n",
    "df_train.columns = Coluna_name "
   ]
  },
  {
   "cell_type": "markdown",
   "id": "5eb582aa",
   "metadata": {
    "papermill": {
     "duration": 0.01677,
     "end_time": "2022-06-13T13:24:53.018201",
     "exception": false,
     "start_time": "2022-06-13T13:24:53.001431",
     "status": "completed"
    },
    "tags": []
   },
   "source": [
    "Observando as dimensões dos dados de treino"
   ]
  },
  {
   "cell_type": "code",
   "execution_count": 5,
   "id": "f48f4889",
   "metadata": {
    "execution": {
     "iopub.execute_input": "2022-06-13T13:24:53.054138Z",
     "iopub.status.busy": "2022-06-13T13:24:53.053455Z",
     "iopub.status.idle": "2022-06-13T13:24:53.059333Z",
     "shell.execute_reply": "2022-06-13T13:24:53.058244Z"
    },
    "papermill": {
     "duration": 0.026835,
     "end_time": "2022-06-13T13:24:53.062018",
     "exception": false,
     "start_time": "2022-06-13T13:24:53.035183",
     "status": "completed"
    },
    "tags": []
   },
   "outputs": [
    {
     "name": "stdout",
     "output_type": "stream",
     "text": [
      "Os dados de TREINO possui:\n",
      "7613 linhas\n",
      "5 colunas\n",
      "\n"
     ]
    }
   ],
   "source": [
    "print(f\"Os dados de TREINO possui:\")\n",
    "print(f\"{df_train.shape[0]} linhas\")\n",
    "print(f\"{df_train.shape[1]} colunas\\n\")"
   ]
  },
  {
   "cell_type": "code",
   "execution_count": 6,
   "id": "033b6408",
   "metadata": {
    "execution": {
     "iopub.execute_input": "2022-06-13T13:24:53.098681Z",
     "iopub.status.busy": "2022-06-13T13:24:53.097969Z",
     "iopub.status.idle": "2022-06-13T13:24:53.119967Z",
     "shell.execute_reply": "2022-06-13T13:24:53.118892Z"
    },
    "papermill": {
     "duration": 0.042407,
     "end_time": "2022-06-13T13:24:53.122020",
     "exception": false,
     "start_time": "2022-06-13T13:24:53.079613",
     "status": "completed"
    },
    "tags": []
   },
   "outputs": [
    {
     "name": "stdout",
     "output_type": "stream",
     "text": [
      "<class 'pandas.core.frame.DataFrame'>\n",
      "RangeIndex: 7613 entries, 0 to 7612\n",
      "Data columns (total 5 columns):\n",
      " #   Column    Non-Null Count  Dtype \n",
      "---  ------    --------------  ----- \n",
      " 0   id        7613 non-null   int64 \n",
      " 1   keyword   7552 non-null   object\n",
      " 2   location  5080 non-null   object\n",
      " 3   text      7613 non-null   object\n",
      " 4   target    7613 non-null   int64 \n",
      "dtypes: int64(2), object(3)\n",
      "memory usage: 297.5+ KB\n"
     ]
    }
   ],
   "source": [
    "# tipos dos dados\n",
    "df_train.info()"
   ]
  },
  {
   "cell_type": "code",
   "execution_count": 7,
   "id": "8494e1c1",
   "metadata": {
    "execution": {
     "iopub.execute_input": "2022-06-13T13:24:53.158240Z",
     "iopub.status.busy": "2022-06-13T13:24:53.157625Z",
     "iopub.status.idle": "2022-06-13T13:24:53.163349Z",
     "shell.execute_reply": "2022-06-13T13:24:53.162709Z"
    },
    "papermill": {
     "duration": 0.025862,
     "end_time": "2022-06-13T13:24:53.165114",
     "exception": false,
     "start_time": "2022-06-13T13:24:53.139252",
     "status": "completed"
    },
    "tags": []
   },
   "outputs": [
    {
     "data": {
      "text/plain": [
       "Index(['id', 'keyword', 'location', 'text', 'target'], dtype='object')"
      ]
     },
     "execution_count": 7,
     "metadata": {},
     "output_type": "execute_result"
    }
   ],
   "source": [
    "# colunas\n",
    "df_train.columns"
   ]
  },
  {
   "cell_type": "code",
   "execution_count": 8,
   "id": "0e654feb",
   "metadata": {
    "execution": {
     "iopub.execute_input": "2022-06-13T13:24:53.201650Z",
     "iopub.status.busy": "2022-06-13T13:24:53.200646Z",
     "iopub.status.idle": "2022-06-13T13:24:53.218363Z",
     "shell.execute_reply": "2022-06-13T13:24:53.217736Z"
    },
    "papermill": {
     "duration": 0.037932,
     "end_time": "2022-06-13T13:24:53.220303",
     "exception": false,
     "start_time": "2022-06-13T13:24:53.182371",
     "status": "completed"
    },
    "tags": []
   },
   "outputs": [
    {
     "data": {
      "text/html": [
       "<div>\n",
       "<style scoped>\n",
       "    .dataframe tbody tr th:only-of-type {\n",
       "        vertical-align: middle;\n",
       "    }\n",
       "\n",
       "    .dataframe tbody tr th {\n",
       "        vertical-align: top;\n",
       "    }\n",
       "\n",
       "    .dataframe thead th {\n",
       "        text-align: right;\n",
       "    }\n",
       "</style>\n",
       "<table border=\"1\" class=\"dataframe\">\n",
       "  <thead>\n",
       "    <tr style=\"text-align: right;\">\n",
       "      <th></th>\n",
       "      <th>id</th>\n",
       "      <th>target</th>\n",
       "    </tr>\n",
       "  </thead>\n",
       "  <tbody>\n",
       "    <tr>\n",
       "      <th>count</th>\n",
       "      <td>7613.000000</td>\n",
       "      <td>7613.00000</td>\n",
       "    </tr>\n",
       "    <tr>\n",
       "      <th>mean</th>\n",
       "      <td>5441.934848</td>\n",
       "      <td>0.42966</td>\n",
       "    </tr>\n",
       "    <tr>\n",
       "      <th>std</th>\n",
       "      <td>3137.116090</td>\n",
       "      <td>0.49506</td>\n",
       "    </tr>\n",
       "    <tr>\n",
       "      <th>min</th>\n",
       "      <td>1.000000</td>\n",
       "      <td>0.00000</td>\n",
       "    </tr>\n",
       "    <tr>\n",
       "      <th>25%</th>\n",
       "      <td>2734.000000</td>\n",
       "      <td>0.00000</td>\n",
       "    </tr>\n",
       "    <tr>\n",
       "      <th>50%</th>\n",
       "      <td>5408.000000</td>\n",
       "      <td>0.00000</td>\n",
       "    </tr>\n",
       "    <tr>\n",
       "      <th>75%</th>\n",
       "      <td>8146.000000</td>\n",
       "      <td>1.00000</td>\n",
       "    </tr>\n",
       "    <tr>\n",
       "      <th>max</th>\n",
       "      <td>10873.000000</td>\n",
       "      <td>1.00000</td>\n",
       "    </tr>\n",
       "  </tbody>\n",
       "</table>\n",
       "</div>"
      ],
      "text/plain": [
       "                 id      target\n",
       "count   7613.000000  7613.00000\n",
       "mean    5441.934848     0.42966\n",
       "std     3137.116090     0.49506\n",
       "min        1.000000     0.00000\n",
       "25%     2734.000000     0.00000\n",
       "50%     5408.000000     0.00000\n",
       "75%     8146.000000     1.00000\n",
       "max    10873.000000     1.00000"
      ]
     },
     "execution_count": 8,
     "metadata": {},
     "output_type": "execute_result"
    }
   ],
   "source": [
    "# Estatística descritiva\n",
    "df_train.describe()"
   ]
  },
  {
   "cell_type": "code",
   "execution_count": 9,
   "id": "31f1f68e",
   "metadata": {
    "execution": {
     "iopub.execute_input": "2022-06-13T13:24:53.257369Z",
     "iopub.status.busy": "2022-06-13T13:24:53.256988Z",
     "iopub.status.idle": "2022-06-13T13:24:53.267738Z",
     "shell.execute_reply": "2022-06-13T13:24:53.266813Z"
    },
    "papermill": {
     "duration": 0.031924,
     "end_time": "2022-06-13T13:24:53.269986",
     "exception": false,
     "start_time": "2022-06-13T13:24:53.238062",
     "status": "completed"
    },
    "tags": []
   },
   "outputs": [
    {
     "data": {
      "text/plain": [
       "id             0\n",
       "keyword       61\n",
       "location    2533\n",
       "text           0\n",
       "target         0\n",
       "dtype: int64"
      ]
     },
     "execution_count": 9,
     "metadata": {},
     "output_type": "execute_result"
    }
   ],
   "source": [
    "# Valores nulos\n",
    "df_train.isnull().sum()"
   ]
  },
  {
   "cell_type": "code",
   "execution_count": 10,
   "id": "0cc4df64",
   "metadata": {
    "execution": {
     "iopub.execute_input": "2022-06-13T13:24:53.307216Z",
     "iopub.status.busy": "2022-06-13T13:24:53.306607Z",
     "iopub.status.idle": "2022-06-13T13:24:53.312207Z",
     "shell.execute_reply": "2022-06-13T13:24:53.311576Z"
    },
    "papermill": {
     "duration": 0.026364,
     "end_time": "2022-06-13T13:24:53.314012",
     "exception": false,
     "start_time": "2022-06-13T13:24:53.287648",
     "status": "completed"
    },
    "tags": []
   },
   "outputs": [],
   "source": [
    "# Excluindo as colunas com valores nulos\n",
    "df_train = df_train.drop(columns=[ 'location',\n",
    "                   'keyword'])"
   ]
  },
  {
   "cell_type": "markdown",
   "id": "179f76fd",
   "metadata": {
    "papermill": {
     "duration": 0.017254,
     "end_time": "2022-06-13T13:24:53.349067",
     "exception": false,
     "start_time": "2022-06-13T13:24:53.331813",
     "status": "completed"
    },
    "tags": []
   },
   "source": [
    "Criando uma função para fazer a limpeza dos dados, ela vai:\n",
    "\n",
    "* Remover URL, números, pontuação, stopwords e palavras frequentes;\n",
    "* Converte os caracteres para minúsculo e listas em string;\n",
    "* Tokenização - separando as string de caracteres em tokens;\n",
    "* Lematização - remove as desinências flexionais e retornar a forma básica de uma palavra;\n",
    "* Stemming - redução de palavras derivadas."
   ]
  },
  {
   "cell_type": "code",
   "execution_count": 11,
   "id": "40c1c7cd",
   "metadata": {
    "execution": {
     "iopub.execute_input": "2022-06-13T13:24:53.385829Z",
     "iopub.status.busy": "2022-06-13T13:24:53.385433Z",
     "iopub.status.idle": "2022-06-13T13:24:53.462791Z",
     "shell.execute_reply": "2022-06-13T13:24:53.461850Z"
    },
    "papermill": {
     "duration": 0.09846,
     "end_time": "2022-06-13T13:24:53.465113",
     "exception": false,
     "start_time": "2022-06-13T13:24:53.366653",
     "status": "completed"
    },
    "tags": []
   },
   "outputs": [],
   "source": [
    "# encontrando as palavras frequentes para remover depois \n",
    "from collections import Counter\n",
    "cnt = Counter()\n",
    "for text in df_train[\"text\"].values:\n",
    "    for word in text.split():\n",
    "        cnt[word] += 1\n",
    "\n",
    "stop_words = set(stopwords.words('english'))\n",
    "lemma = WordNetLemmatizer()\n",
    "FREQWORDS = set([w for (w, wc) in cnt.most_common(10)])\n",
    "stemmer = PorterStemmer()\n",
    "\n",
    "def clean_review(text):\n",
    "    text = re.sub(r'http\\S+','', text)                              # URL\n",
    "    text = re.sub('[^a-zA-Z]', ' ', text)                           # numeros e pontuações\n",
    "    text = str(text).lower()                                        # converte o caracteres para minúsculo\n",
    "    text = word_tokenize(text)                                      # tokenização\n",
    "    text = [item for item in text if item not in stop_words]        # stopwords\n",
    "    text = [lemma.lemmatize(word=w, pos='v') for w in text]         # lematização\n",
    "    #text = [i for i in text if len(i) > 2]                         # palavra com comprimento > que 2\n",
    "    text = ' '.join(text)                                           # convertendo lista em strig\n",
    "    text = \" \".join([word for word in str(text).split() if word not in FREQWORDS])  # palavras frequentes\n",
    "    text = \" \".join([stemmer.stem(word) for word in text.split()])                  # Stemming - redução de palavras derivadas \n",
    "    return text\n",
    "\n",
    "\n",
    "# Método para fazer a quebra dos dados\n",
    "tokenizer = RegexpTokenizer(r'\\w+')"
   ]
  },
  {
   "cell_type": "markdown",
   "id": "7938cba8",
   "metadata": {
    "papermill": {
     "duration": 0.017648,
     "end_time": "2022-06-13T13:24:53.500538",
     "exception": false,
     "start_time": "2022-06-13T13:24:53.482890",
     "status": "completed"
    },
    "tags": []
   },
   "source": [
    "Agora vamos aplicar limpeza e a quebra dos dados de 'text'\n",
    "e também criar duas novas colunas para colocar os novos dados:\n",
    "* 'textpronto' - com os dados limpos;\n",
    "* 'tokens' - com os dados quebrados. "
   ]
  },
  {
   "cell_type": "code",
   "execution_count": 12,
   "id": "d8e67e00",
   "metadata": {
    "execution": {
     "iopub.execute_input": "2022-06-13T13:24:53.537653Z",
     "iopub.status.busy": "2022-06-13T13:24:53.537249Z",
     "iopub.status.idle": "2022-06-13T13:25:00.086326Z",
     "shell.execute_reply": "2022-06-13T13:25:00.085290Z"
    },
    "papermill": {
     "duration": 6.570076,
     "end_time": "2022-06-13T13:25:00.088422",
     "exception": false,
     "start_time": "2022-06-13T13:24:53.518346",
     "status": "completed"
    },
    "tags": []
   },
   "outputs": [
    {
     "data": {
      "text/html": [
       "<div>\n",
       "<style scoped>\n",
       "    .dataframe tbody tr th:only-of-type {\n",
       "        vertical-align: middle;\n",
       "    }\n",
       "\n",
       "    .dataframe tbody tr th {\n",
       "        vertical-align: top;\n",
       "    }\n",
       "\n",
       "    .dataframe thead th {\n",
       "        text-align: right;\n",
       "    }\n",
       "</style>\n",
       "<table border=\"1\" class=\"dataframe\">\n",
       "  <thead>\n",
       "    <tr style=\"text-align: right;\">\n",
       "      <th></th>\n",
       "      <th>id</th>\n",
       "      <th>text</th>\n",
       "      <th>target</th>\n",
       "      <th>textpronto</th>\n",
       "      <th>tokens</th>\n",
       "    </tr>\n",
       "  </thead>\n",
       "  <tbody>\n",
       "    <tr>\n",
       "      <th>0</th>\n",
       "      <td>1</td>\n",
       "      <td>Our Deeds are the Reason of this #earthquake M...</td>\n",
       "      <td>1</td>\n",
       "      <td>deed reason earthquak may allah forgiv us</td>\n",
       "      <td>[deed, reason, earthquak, may, allah, forgiv, us]</td>\n",
       "    </tr>\n",
       "    <tr>\n",
       "      <th>1</th>\n",
       "      <td>4</td>\n",
       "      <td>Forest fire near La Ronge Sask. Canada</td>\n",
       "      <td>1</td>\n",
       "      <td>forest fire near la rong sask canada</td>\n",
       "      <td>[forest, fire, near, la, rong, sask, canada]</td>\n",
       "    </tr>\n",
       "    <tr>\n",
       "      <th>2</th>\n",
       "      <td>5</td>\n",
       "      <td>All residents asked to 'shelter in place' are ...</td>\n",
       "      <td>1</td>\n",
       "      <td>resid ask shelter place notifi offic evacu she...</td>\n",
       "      <td>[resid, ask, shelter, place, notifi, offic, ev...</td>\n",
       "    </tr>\n",
       "    <tr>\n",
       "      <th>3</th>\n",
       "      <td>6</td>\n",
       "      <td>13,000 people receive #wildfires evacuation or...</td>\n",
       "      <td>1</td>\n",
       "      <td>peopl receiv wildfir evacu order california</td>\n",
       "      <td>[peopl, receiv, wildfir, evacu, order, califor...</td>\n",
       "    </tr>\n",
       "    <tr>\n",
       "      <th>4</th>\n",
       "      <td>7</td>\n",
       "      <td>Just got sent this photo from Ruby #Alaska as ...</td>\n",
       "      <td>1</td>\n",
       "      <td>get send photo rubi alaska smoke wildfir pour ...</td>\n",
       "      <td>[get, send, photo, rubi, alaska, smoke, wildfi...</td>\n",
       "    </tr>\n",
       "    <tr>\n",
       "      <th>...</th>\n",
       "      <td>...</td>\n",
       "      <td>...</td>\n",
       "      <td>...</td>\n",
       "      <td>...</td>\n",
       "      <td>...</td>\n",
       "    </tr>\n",
       "    <tr>\n",
       "      <th>7608</th>\n",
       "      <td>10869</td>\n",
       "      <td>Two giant cranes holding a bridge collapse int...</td>\n",
       "      <td>1</td>\n",
       "      <td>two giant crane hold bridg collaps nearbi home</td>\n",
       "      <td>[two, giant, crane, hold, bridg, collaps, near...</td>\n",
       "    </tr>\n",
       "    <tr>\n",
       "      <th>7609</th>\n",
       "      <td>10870</td>\n",
       "      <td>@aria_ahrary @TheTawniest The out of control w...</td>\n",
       "      <td>1</td>\n",
       "      <td>aria ahrari thetawniest control wild fire cali...</td>\n",
       "      <td>[aria, ahrari, thetawniest, control, wild, fir...</td>\n",
       "    </tr>\n",
       "    <tr>\n",
       "      <th>7610</th>\n",
       "      <td>10871</td>\n",
       "      <td>M1.94 [01:04 UTC]?5km S of Volcano Hawaii. htt...</td>\n",
       "      <td>1</td>\n",
       "      <td>utc km volcano hawaii</td>\n",
       "      <td>[utc, km, volcano, hawaii]</td>\n",
       "    </tr>\n",
       "    <tr>\n",
       "      <th>7611</th>\n",
       "      <td>10872</td>\n",
       "      <td>Police investigating after an e-bike collided ...</td>\n",
       "      <td>1</td>\n",
       "      <td>polic investig e bike collid car littl portug ...</td>\n",
       "      <td>[polic, investig, e, bike, collid, car, littl,...</td>\n",
       "    </tr>\n",
       "    <tr>\n",
       "      <th>7612</th>\n",
       "      <td>10873</td>\n",
       "      <td>The Latest: More Homes Razed by Northern Calif...</td>\n",
       "      <td>1</td>\n",
       "      <td>latest home raze northern california wildfir a...</td>\n",
       "      <td>[latest, home, raze, northern, california, wil...</td>\n",
       "    </tr>\n",
       "  </tbody>\n",
       "</table>\n",
       "<p>7613 rows × 5 columns</p>\n",
       "</div>"
      ],
      "text/plain": [
       "         id                                               text  target  \\\n",
       "0         1  Our Deeds are the Reason of this #earthquake M...       1   \n",
       "1         4             Forest fire near La Ronge Sask. Canada       1   \n",
       "2         5  All residents asked to 'shelter in place' are ...       1   \n",
       "3         6  13,000 people receive #wildfires evacuation or...       1   \n",
       "4         7  Just got sent this photo from Ruby #Alaska as ...       1   \n",
       "...     ...                                                ...     ...   \n",
       "7608  10869  Two giant cranes holding a bridge collapse int...       1   \n",
       "7609  10870  @aria_ahrary @TheTawniest The out of control w...       1   \n",
       "7610  10871  M1.94 [01:04 UTC]?5km S of Volcano Hawaii. htt...       1   \n",
       "7611  10872  Police investigating after an e-bike collided ...       1   \n",
       "7612  10873  The Latest: More Homes Razed by Northern Calif...       1   \n",
       "\n",
       "                                             textpronto  \\\n",
       "0             deed reason earthquak may allah forgiv us   \n",
       "1                  forest fire near la rong sask canada   \n",
       "2     resid ask shelter place notifi offic evacu she...   \n",
       "3           peopl receiv wildfir evacu order california   \n",
       "4     get send photo rubi alaska smoke wildfir pour ...   \n",
       "...                                                 ...   \n",
       "7608     two giant crane hold bridg collaps nearbi home   \n",
       "7609  aria ahrari thetawniest control wild fire cali...   \n",
       "7610                              utc km volcano hawaii   \n",
       "7611  polic investig e bike collid car littl portug ...   \n",
       "7612  latest home raze northern california wildfir a...   \n",
       "\n",
       "                                                 tokens  \n",
       "0     [deed, reason, earthquak, may, allah, forgiv, us]  \n",
       "1          [forest, fire, near, la, rong, sask, canada]  \n",
       "2     [resid, ask, shelter, place, notifi, offic, ev...  \n",
       "3     [peopl, receiv, wildfir, evacu, order, califor...  \n",
       "4     [get, send, photo, rubi, alaska, smoke, wildfi...  \n",
       "...                                                 ...  \n",
       "7608  [two, giant, crane, hold, bridg, collaps, near...  \n",
       "7609  [aria, ahrari, thetawniest, control, wild, fir...  \n",
       "7610                         [utc, km, volcano, hawaii]  \n",
       "7611  [polic, investig, e, bike, collid, car, littl,...  \n",
       "7612  [latest, home, raze, northern, california, wil...  \n",
       "\n",
       "[7613 rows x 5 columns]"
      ]
     },
     "execution_count": 12,
     "metadata": {},
     "output_type": "execute_result"
    }
   ],
   "source": [
    "# Coluna com o texto limpo\n",
    "df_train['textpronto'] = df_train['text'].apply(clean_review)\n",
    "\n",
    "# Colunas com os tokens\n",
    "df_train[\"tokens\"] = df_train[\"textpronto\"].apply(tokenizer.tokenize)\n",
    "\n",
    "df_train"
   ]
  },
  {
   "cell_type": "markdown",
   "id": "31d487a1",
   "metadata": {
    "papermill": {
     "duration": 0.017872,
     "end_time": "2022-06-13T13:25:00.124669",
     "exception": false,
     "start_time": "2022-06-13T13:25:00.106797",
     "status": "completed"
    },
    "tags": []
   },
   "source": [
    "Fazendo a contagem das palavras"
   ]
  },
  {
   "cell_type": "code",
   "execution_count": 13,
   "id": "a9f18861",
   "metadata": {
    "execution": {
     "iopub.execute_input": "2022-06-13T13:25:00.162789Z",
     "iopub.status.busy": "2022-06-13T13:25:00.162057Z",
     "iopub.status.idle": "2022-06-13T13:25:00.194908Z",
     "shell.execute_reply": "2022-06-13T13:25:00.193952Z"
    },
    "papermill": {
     "duration": 0.054227,
     "end_time": "2022-06-13T13:25:00.197001",
     "exception": false,
     "start_time": "2022-06-13T13:25:00.142774",
     "status": "completed"
    },
    "tags": []
   },
   "outputs": [],
   "source": [
    "# realizando a contagem e inserindo em um dicionário\n",
    "words_counts = Counter(chain.from_iterable([i.split(\" \") for i in df_train['textpronto']]))\n",
    "\n",
    "# ordenando do maior para o menor\n",
    "words_freq = sorted(words_counts.items(), key=lambda x: x[1], reverse=True)"
   ]
  },
  {
   "cell_type": "markdown",
   "id": "7a2117bb",
   "metadata": {
    "papermill": {
     "duration": 0.017926,
     "end_time": "2022-06-13T13:25:00.233183",
     "exception": false,
     "start_time": "2022-06-13T13:25:00.215257",
     "status": "completed"
    },
    "tags": []
   },
   "source": [
    "Mostrando as cinco palavras que menos foi utilizada"
   ]
  },
  {
   "cell_type": "code",
   "execution_count": 14,
   "id": "59ee3ca6",
   "metadata": {
    "execution": {
     "iopub.execute_input": "2022-06-13T13:25:00.271230Z",
     "iopub.status.busy": "2022-06-13T13:25:00.270812Z",
     "iopub.status.idle": "2022-06-13T13:25:00.277850Z",
     "shell.execute_reply": "2022-06-13T13:25:00.276918Z"
    },
    "papermill": {
     "duration": 0.028523,
     "end_time": "2022-06-13T13:25:00.279959",
     "exception": false,
     "start_time": "2022-06-13T13:25:00.251436",
     "status": "completed"
    },
    "tags": []
   },
   "outputs": [
    {
     "data": {
      "text/plain": [
       "[('dei', 1),\n",
       " ('tnwx', 1),\n",
       " ('bathandnortheastsomerset', 1),\n",
       " ('forney', 1),\n",
       " ('symptom', 1)]"
      ]
     },
     "execution_count": 14,
     "metadata": {},
     "output_type": "execute_result"
    }
   ],
   "source": [
    "words_freq[-5:]"
   ]
  },
  {
   "cell_type": "markdown",
   "id": "28cb40cb",
   "metadata": {
    "papermill": {
     "duration": 0.01801,
     "end_time": "2022-06-13T13:25:00.316731",
     "exception": false,
     "start_time": "2022-06-13T13:25:00.298721",
     "status": "completed"
    },
    "tags": []
   },
   "source": [
    "Criando um gráfico com as dez palavras que mais ocorreram"
   ]
  },
  {
   "cell_type": "code",
   "execution_count": 15,
   "id": "a50cacb5",
   "metadata": {
    "execution": {
     "iopub.execute_input": "2022-06-13T13:25:00.355295Z",
     "iopub.status.busy": "2022-06-13T13:25:00.354934Z",
     "iopub.status.idle": "2022-06-13T13:25:00.570825Z",
     "shell.execute_reply": "2022-06-13T13:25:00.569851Z"
    },
    "papermill": {
     "duration": 0.237691,
     "end_time": "2022-06-13T13:25:00.572982",
     "exception": false,
     "start_time": "2022-06-13T13:25:00.335291",
     "status": "completed"
    },
    "tags": []
   },
   "outputs": [
    {
     "data": {
      "image/png": "[encoded data removed]",
      "text/plain": [
       "<Figure size 720x432 with 1 Axes>"
      ]
     },
     "metadata": {
      "needs_background": "light"
     },
     "output_type": "display_data"
    }
   ],
   "source": [
    "# colocando as palavras em um objeto do tipo lista\n",
    "words_list = list(dict(words_freq[:10]).keys())\n",
    "\n",
    "# colocando as ocorrências em um objeto do tipo lista\n",
    "occur_list = list(dict(words_freq[:10]).values())\n",
    "\n",
    "# definindo a área de plotagem\n",
    "plt.figure(figsize=(10,6))\n",
    "# gráfico\n",
    "ax = sns.barplot(x = words_list, y = occur_list)\n",
    "# título\n",
    "ax.set_title('TOP10 palavras que mais ocorreram')\n",
    "# rotacionando os rótulos do eixo x\n",
    "plt.xticks(rotation=30);"
   ]
  },
  {
   "cell_type": "markdown",
   "id": "cc2865e8",
   "metadata": {
    "papermill": {
     "duration": 0.01812,
     "end_time": "2022-06-13T13:25:00.609573",
     "exception": false,
     "start_time": "2022-06-13T13:25:00.591453",
     "status": "completed"
    },
    "tags": []
   },
   "source": [
    "Observando a distrubuição das classes"
   ]
  },
  {
   "cell_type": "code",
   "execution_count": 16,
   "id": "f6c93ec4",
   "metadata": {
    "execution": {
     "iopub.execute_input": "2022-06-13T13:25:00.647995Z",
     "iopub.status.busy": "2022-06-13T13:25:00.647567Z",
     "iopub.status.idle": "2022-06-13T13:25:00.661972Z",
     "shell.execute_reply": "2022-06-13T13:25:00.660625Z"
    },
    "papermill": {
     "duration": 0.036064,
     "end_time": "2022-06-13T13:25:00.664030",
     "exception": false,
     "start_time": "2022-06-13T13:25:00.627966",
     "status": "completed"
    },
    "tags": []
   },
   "outputs": [
    {
     "name": "stdout",
     "output_type": "stream",
     "text": [
      "          id  text  textpronto  tokens\n",
      "target                                \n",
      "0       4342  4342        4342    4342\n",
      "1       3271  3271        3271    3271\n"
     ]
    }
   ],
   "source": [
    "print(df_train.groupby(\"target\").count())"
   ]
  },
  {
   "cell_type": "markdown",
   "id": "dced3950",
   "metadata": {
    "papermill": {
     "duration": 0.018304,
     "end_time": "2022-06-13T13:25:00.700982",
     "exception": false,
     "start_time": "2022-06-13T13:25:00.682678",
     "status": "completed"
    },
    "tags": []
   },
   "source": [
    "Observando a distribuição do target, ajuda a ver o quanto está balanceado"
   ]
  },
  {
   "cell_type": "code",
   "execution_count": 17,
   "id": "0a7cfc20",
   "metadata": {
    "execution": {
     "iopub.execute_input": "2022-06-13T13:25:00.740918Z",
     "iopub.status.busy": "2022-06-13T13:25:00.740512Z",
     "iopub.status.idle": "2022-06-13T13:25:00.866055Z",
     "shell.execute_reply": "2022-06-13T13:25:00.864959Z"
    },
    "papermill": {
     "duration": 0.149284,
     "end_time": "2022-06-13T13:25:00.869137",
     "exception": false,
     "start_time": "2022-06-13T13:25:00.719853",
     "status": "completed"
    },
    "tags": []
   },
   "outputs": [
    {
     "name": "stdout",
     "output_type": "stream",
     "text": [
      "Distribuição do target:\n",
      "0    4342\n",
      "1    3271\n",
      "Name: target, dtype: int64\n"
     ]
    },
    {
     "data": {
      "image/png": "[encoded data removed]",
      "text/plain": [
       "<Figure size 432x288 with 1 Axes>"
      ]
     },
     "metadata": {},
     "output_type": "display_data"
    }
   ],
   "source": [
    "print('Distribuição do target:')\n",
    "print(df_train['target'].value_counts())\n",
    "\n",
    "labels = '0','1'\n",
    "sizes = df_train['target'].value_counts()\n",
    "fig1, ax1 = plt.subplots()\n",
    "ax1.pie(sizes, labels=labels, autopct='%1.1f%%',\n",
    "       shadow=True, startangle=90)\n",
    "ax1.axis('equal')\n",
    "plt.show()"
   ]
  },
  {
   "cell_type": "markdown",
   "id": "83c08040",
   "metadata": {
    "papermill": {
     "duration": 0.036032,
     "end_time": "2022-06-13T13:25:00.941830",
     "exception": false,
     "start_time": "2022-06-13T13:25:00.905798",
     "status": "completed"
    },
    "tags": []
   },
   "source": [
    "Informações da sentenças "
   ]
  },
  {
   "cell_type": "code",
   "execution_count": 18,
   "id": "d0512a1b",
   "metadata": {
    "execution": {
     "iopub.execute_input": "2022-06-13T13:25:00.993313Z",
     "iopub.status.busy": "2022-06-13T13:25:00.992879Z",
     "iopub.status.idle": "2022-06-13T13:25:01.017467Z",
     "shell.execute_reply": "2022-06-13T13:25:01.016463Z"
    },
    "papermill": {
     "duration": 0.046908,
     "end_time": "2022-06-13T13:25:01.019617",
     "exception": false,
     "start_time": "2022-06-13T13:25:00.972709",
     "status": "completed"
    },
    "tags": []
   },
   "outputs": [
    {
     "name": "stdout",
     "output_type": "stream",
     "text": [
      "69702 - Quantidade total de palavras, com um vocabulário de: 12943\n",
      "Tamanho máximo de uma sentença: 25\n"
     ]
    }
   ],
   "source": [
    "all_words = [word for tokens in df_train[\"tokens\"] for word in tokens]\n",
    "sentence_lengths = [len(tokens) for tokens in df_train[\"tokens\"]]\n",
    "VOCAB = sorted(list(set(all_words)))\n",
    "print(\"%s - Quantidade total de palavras, com um vocabulário de: %s\" % (len(all_words), len(VOCAB)))\n",
    "print(\"Tamanho máximo de uma sentença: %s\" % max(sentence_lengths))"
   ]
  },
  {
   "cell_type": "markdown",
   "id": "885d7d4d",
   "metadata": {
    "papermill": {
     "duration": 0.018654,
     "end_time": "2022-06-13T13:25:01.057345",
     "exception": false,
     "start_time": "2022-06-13T13:25:01.038691",
     "status": "completed"
    },
    "tags": []
   },
   "source": [
    "Mostra a distribuição das sentenças por quantidade de palavras"
   ]
  },
  {
   "cell_type": "code",
   "execution_count": 19,
   "id": "5c915499",
   "metadata": {
    "execution": {
     "iopub.execute_input": "2022-06-13T13:25:01.096866Z",
     "iopub.status.busy": "2022-06-13T13:25:01.096280Z",
     "iopub.status.idle": "2022-06-13T13:25:01.350906Z",
     "shell.execute_reply": "2022-06-13T13:25:01.349960Z"
    },
    "papermill": {
     "duration": 0.276793,
     "end_time": "2022-06-13T13:25:01.353020",
     "exception": false,
     "start_time": "2022-06-13T13:25:01.076227",
     "status": "completed"
    },
    "tags": []
   },
   "outputs": [
    {
     "data": {
      "image/png": "[encoded data removed]",
      "text/plain": [
       "<Figure size 720x720 with 1 Axes>"
      ]
     },
     "metadata": {
      "needs_background": "light"
     },
     "output_type": "display_data"
    }
   ],
   "source": [
    "fig = plt.figure(figsize=(10, 10)) \n",
    "plt.xlabel('Tamanho da setença')\n",
    "plt.ylabel('Número de sentenças')\n",
    "plt.hist(sentence_lengths)\n",
    "plt.show()"
   ]
  },
  {
   "cell_type": "markdown",
   "id": "4826dd9c",
   "metadata": {
    "papermill": {
     "duration": 0.019653,
     "end_time": "2022-06-13T13:25:01.395157",
     "exception": false,
     "start_time": "2022-06-13T13:25:01.375504",
     "status": "completed"
    },
    "tags": []
   },
   "source": [
    "**Bag-of-words:**\n",
    "* Constroi uma bolsa de palavras de acordo com a ocorrência delas, sem considerar a ordem e a estrutura "
   ]
  },
  {
   "cell_type": "code",
   "execution_count": 20,
   "id": "d8b846c1",
   "metadata": {
    "execution": {
     "iopub.execute_input": "2022-06-13T13:25:01.435719Z",
     "iopub.status.busy": "2022-06-13T13:25:01.435282Z",
     "iopub.status.idle": "2022-06-13T13:25:01.578234Z",
     "shell.execute_reply": "2022-06-13T13:25:01.577387Z"
    },
    "papermill": {
     "duration": 0.165861,
     "end_time": "2022-06-13T13:25:01.580487",
     "exception": false,
     "start_time": "2022-06-13T13:25:01.414626",
     "status": "completed"
    },
    "tags": []
   },
   "outputs": [],
   "source": [
    "# Construindo bag-of-words com count-vectorizer\n",
    "count_vectorizer = CountVectorizer()\n",
    "\n",
    "# Separando o texto da variável alvo\n",
    "x = df_train[\"textpronto\"].tolist()\n",
    "y = df_train[\"target\"].tolist()\n",
    "\n",
    "# Construindo exemplos para treinamento e teste\n",
    "X_train, X_test, y_train, y_test = train_test_split(x,y, test_size=0.2,random_state=40)\n",
    "\n",
    "# Aprendendo o vacabulário e contabilizando os termos para teste\n",
    "X_train_counts = count_vectorizer.fit_transform(X_train)\n",
    "# Contabilizando os termos no vocabulário aprendido para treino\n",
    "X_test_counts = count_vectorizer.transform(X_test)"
   ]
  },
  {
   "cell_type": "markdown",
   "id": "2f01ef99",
   "metadata": {
    "papermill": {
     "duration": 0.019109,
     "end_time": "2022-06-13T13:25:01.618840",
     "exception": false,
     "start_time": "2022-06-13T13:25:01.599731",
     "status": "completed"
    },
    "tags": []
   },
   "source": [
    "Gráfico mostrando a distribuição do vocabulário por variável alvo"
   ]
  },
  {
   "cell_type": "code",
   "execution_count": 21,
   "id": "0a4cfaa8",
   "metadata": {
    "execution": {
     "iopub.execute_input": "2022-06-13T13:25:01.659785Z",
     "iopub.status.busy": "2022-06-13T13:25:01.659139Z",
     "iopub.status.idle": "2022-06-13T13:25:02.126524Z",
     "shell.execute_reply": "2022-06-13T13:25:02.125632Z"
    },
    "papermill": {
     "duration": 0.490617,
     "end_time": "2022-06-13T13:25:02.128768",
     "exception": false,
     "start_time": "2022-06-13T13:25:01.638151",
     "status": "completed"
    },
    "tags": []
   },
   "outputs": [
    {
     "data": {
      "image/png": "[encoded data removed]",
      "text/plain": [
       "<Figure size 360x360 with 1 Axes>"
      ]
     },
     "metadata": {
      "needs_background": "light"
     },
     "output_type": "display_data"
    }
   ],
   "source": [
    "def plot_LSA(test_data, test_labels, savepath=\"PCA_demo.csv\", plot=True):\n",
    "        lsa = TruncatedSVD(n_components=2)\n",
    "        lsa.fit(test_data)\n",
    "        lsa_scores = lsa.transform(test_data)\n",
    "        color_mapper = {label:idx for idx,label in enumerate(set(test_labels))}\n",
    "        color_column = [color_mapper[label] for label in test_labels]\n",
    "        colors = ['orange','blue','blue']\n",
    "        if plot:\n",
    "            plt.scatter(lsa_scores[:,0], lsa_scores[:,1], s=8, alpha=.8, c=test_labels, cmap=matplotlib.colors.ListedColormap(colors))\n",
    "            red_patch = mpatches.Patch(color='orange', label='Irrelevant')\n",
    "            green_patch = mpatches.Patch(color='blue', label='Disaster')\n",
    "            plt.legend(handles=[red_patch, green_patch], prop={'size': 20})\n",
    "            \n",
    "fig = plt.figure(figsize=(5, 5))          \n",
    "plot_LSA(X_train_counts, y_train)\n",
    "plt.show()\n"
   ]
  },
  {
   "cell_type": "markdown",
   "id": "7cf0e73a",
   "metadata": {
    "papermill": {
     "duration": 0.019737,
     "end_time": "2022-06-13T13:25:02.168551",
     "exception": false,
     "start_time": "2022-06-13T13:25:02.148814",
     "status": "completed"
    },
    "tags": []
   },
   "source": [
    "**TREINANDO OS CLASSIFICADORES**"
   ]
  },
  {
   "cell_type": "markdown",
   "id": "ebf929e4",
   "metadata": {
    "papermill": {
     "duration": 0.01953,
     "end_time": "2022-06-13T13:25:02.208194",
     "exception": false,
     "start_time": "2022-06-13T13:25:02.188664",
     "status": "completed"
    },
    "tags": []
   },
   "source": [
    "1 - REGRESSÂO LOGÍSTICA\n",
    "\n",
    "* Trassa uma curva em S;\n",
    "* Tem a variável categoria podendo assumir um conjunto de dados limitados de possibilidades (0,1)"
   ]
  },
  {
   "cell_type": "code",
   "execution_count": 22,
   "id": "b9567cc6",
   "metadata": {
    "execution": {
     "iopub.execute_input": "2022-06-13T13:25:02.249939Z",
     "iopub.status.busy": "2022-06-13T13:25:02.249515Z",
     "iopub.status.idle": "2022-06-13T13:25:02.254476Z",
     "shell.execute_reply": "2022-06-13T13:25:02.253524Z"
    },
    "papermill": {
     "duration": 0.028191,
     "end_time": "2022-06-13T13:25:02.256360",
     "exception": false,
     "start_time": "2022-06-13T13:25:02.228169",
     "status": "completed"
    },
    "tags": []
   },
   "outputs": [],
   "source": [
    "# Aplicando as configurações no modelo\n",
    "clf = LogisticRegression(C=30.0, class_weight='balanced', solver='newton-cg', \n",
    "                         multi_class='ovr', n_jobs=-1, random_state=40)"
   ]
  },
  {
   "cell_type": "code",
   "execution_count": 23,
   "id": "925297d5",
   "metadata": {
    "execution": {
     "iopub.execute_input": "2022-06-13T13:25:02.297639Z",
     "iopub.status.busy": "2022-06-13T13:25:02.297208Z",
     "iopub.status.idle": "2022-06-13T13:25:03.382719Z",
     "shell.execute_reply": "2022-06-13T13:25:03.381663Z"
    },
    "papermill": {
     "duration": 1.108576,
     "end_time": "2022-06-13T13:25:03.384755",
     "exception": false,
     "start_time": "2022-06-13T13:25:02.276179",
     "status": "completed"
    },
    "tags": []
   },
   "outputs": [
    {
     "data": {
      "text/plain": [
       "LogisticRegression(C=30.0, class_weight='balanced', multi_class='ovr',\n",
       "                   n_jobs=-1, random_state=40, solver='newton-cg')"
      ]
     },
     "execution_count": 23,
     "metadata": {},
     "output_type": "execute_result"
    }
   ],
   "source": [
    "#Treinando o modelo com o vocabulário construido e as variáveis alvo\n",
    "clf.fit(X_train_counts, y_train)"
   ]
  },
  {
   "cell_type": "markdown",
   "id": "244552a8",
   "metadata": {
    "papermill": {
     "duration": 0.019625,
     "end_time": "2022-06-13T13:25:03.424633",
     "exception": false,
     "start_time": "2022-06-13T13:25:03.405008",
     "status": "completed"
    },
    "tags": []
   },
   "source": [
    "2 - MultinomialNB"
   ]
  },
  {
   "cell_type": "code",
   "execution_count": 24,
   "id": "f61d16c2",
   "metadata": {
    "execution": {
     "iopub.execute_input": "2022-06-13T13:25:03.466748Z",
     "iopub.status.busy": "2022-06-13T13:25:03.466082Z",
     "iopub.status.idle": "2022-06-13T13:25:03.472810Z",
     "shell.execute_reply": "2022-06-13T13:25:03.472117Z"
    },
    "papermill": {
     "duration": 0.030024,
     "end_time": "2022-06-13T13:25:03.474665",
     "exception": false,
     "start_time": "2022-06-13T13:25:03.444641",
     "status": "completed"
    },
    "tags": []
   },
   "outputs": [],
   "source": [
    "from sklearn.naive_bayes import MultinomialNB\n",
    "nb = MultinomialNB()"
   ]
  },
  {
   "cell_type": "code",
   "execution_count": 25,
   "id": "a283065b",
   "metadata": {
    "execution": {
     "iopub.execute_input": "2022-06-13T13:25:03.516777Z",
     "iopub.status.busy": "2022-06-13T13:25:03.516104Z",
     "iopub.status.idle": "2022-06-13T13:25:03.526816Z",
     "shell.execute_reply": "2022-06-13T13:25:03.525748Z"
    },
    "papermill": {
     "duration": 0.034099,
     "end_time": "2022-06-13T13:25:03.528830",
     "exception": false,
     "start_time": "2022-06-13T13:25:03.494731",
     "status": "completed"
    },
    "tags": []
   },
   "outputs": [
    {
     "data": {
      "text/plain": [
       "MultinomialNB()"
      ]
     },
     "execution_count": 25,
     "metadata": {},
     "output_type": "execute_result"
    }
   ],
   "source": [
    "#Treinando o modelo com o vocabulário construido e as variáveis alvo\n",
    "nb.fit(X_train_counts, y_train)"
   ]
  },
  {
   "cell_type": "markdown",
   "id": "a93d3f20",
   "metadata": {
    "papermill": {
     "duration": 0.019738,
     "end_time": "2022-06-13T13:25:03.568755",
     "exception": false,
     "start_time": "2022-06-13T13:25:03.549017",
     "status": "completed"
    },
    "tags": []
   },
   "source": [
    "Predição para o conjunto de teste"
   ]
  },
  {
   "cell_type": "code",
   "execution_count": 26,
   "id": "9d6c4cd7",
   "metadata": {
    "execution": {
     "iopub.execute_input": "2022-06-13T13:25:03.610023Z",
     "iopub.status.busy": "2022-06-13T13:25:03.609614Z",
     "iopub.status.idle": "2022-06-13T13:25:03.616152Z",
     "shell.execute_reply": "2022-06-13T13:25:03.615609Z"
    },
    "papermill": {
     "duration": 0.02915,
     "end_time": "2022-06-13T13:25:03.617848",
     "exception": false,
     "start_time": "2022-06-13T13:25:03.588698",
     "status": "completed"
    },
    "tags": []
   },
   "outputs": [
    {
     "data": {
      "text/plain": [
       "array([1, 1, 1, ..., 0, 0, 0])"
      ]
     },
     "execution_count": 26,
     "metadata": {},
     "output_type": "execute_result"
    }
   ],
   "source": [
    "y_predicted_counts = clf.predict(X_test_counts)\n",
    "y_predicted_counts"
   ]
  },
  {
   "cell_type": "code",
   "execution_count": 27,
   "id": "40568be1",
   "metadata": {
    "execution": {
     "iopub.execute_input": "2022-06-13T13:25:03.660400Z",
     "iopub.status.busy": "2022-06-13T13:25:03.659395Z",
     "iopub.status.idle": "2022-06-13T13:25:03.665959Z",
     "shell.execute_reply": "2022-06-13T13:25:03.665251Z"
    },
    "papermill": {
     "duration": 0.02978,
     "end_time": "2022-06-13T13:25:03.667621",
     "exception": false,
     "start_time": "2022-06-13T13:25:03.637841",
     "status": "completed"
    },
    "tags": []
   },
   "outputs": [
    {
     "data": {
      "text/plain": [
       "array([1, 0, 0, ..., 0, 0, 0])"
      ]
     },
     "execution_count": 27,
     "metadata": {},
     "output_type": "execute_result"
    }
   ],
   "source": [
    "y_predicted_counts = nb.predict(X_test_counts)\n",
    "y_predicted_counts"
   ]
  },
  {
   "cell_type": "markdown",
   "id": "a4389cee",
   "metadata": {
    "papermill": {
     "duration": 0.020211,
     "end_time": "2022-06-13T13:25:03.708165",
     "exception": false,
     "start_time": "2022-06-13T13:25:03.687954",
     "status": "completed"
    },
    "tags": []
   },
   "source": [
    "AVALIANDO A REGRESSÂO LOGÍSTICA"
   ]
  },
  {
   "cell_type": "code",
   "execution_count": 28,
   "id": "55cb472a",
   "metadata": {
    "execution": {
     "iopub.execute_input": "2022-06-13T13:25:03.750880Z",
     "iopub.status.busy": "2022-06-13T13:25:03.750231Z",
     "iopub.status.idle": "2022-06-13T13:25:03.767462Z",
     "shell.execute_reply": "2022-06-13T13:25:03.766765Z"
    },
    "papermill": {
     "duration": 0.041412,
     "end_time": "2022-06-13T13:25:03.769946",
     "exception": false,
     "start_time": "2022-06-13T13:25:03.728534",
     "status": "completed"
    },
    "tags": []
   },
   "outputs": [
    {
     "name": "stdout",
     "output_type": "stream",
     "text": [
      "Métricas:\n",
      "accuracy = 0.808, precision = 0.807, recall = 0.808, f1 = 0.807\n"
     ]
    }
   ],
   "source": [
    "def get_metrics(y_test, y_predicted):  \n",
    "    # true positives / (true positives+false positives)\n",
    "    precision = precision_score(y_test, y_predicted, pos_label=None,\n",
    "                                    average='weighted')             \n",
    "    # true positives / (true positives + false negatives)\n",
    "    recall = recall_score(y_test, y_predicted, pos_label=None,\n",
    "                              average='weighted')\n",
    "    \n",
    "    # harmonic mean of precision and recall\n",
    "    f1 = f1_score(y_test, y_predicted, pos_label=None, average='weighted')\n",
    "    \n",
    "    # true positives + true negatives/ total\n",
    "    accuracy = accuracy_score(y_test, y_predicted)\n",
    "    return accuracy, precision, recall, f1\n",
    "accuracy, precision, recall, f1 = get_metrics(y_test, y_predicted_counts)\n",
    "print('Métricas:')\n",
    "print(\"accuracy = %.3f, precision = %.3f, recall = %.3f, f1 = %.3f\" % (accuracy, precision, recall, f1))"
   ]
  },
  {
   "cell_type": "code",
   "execution_count": 29,
   "id": "376844b4",
   "metadata": {
    "execution": {
     "iopub.execute_input": "2022-06-13T13:25:03.815917Z",
     "iopub.status.busy": "2022-06-13T13:25:03.815252Z",
     "iopub.status.idle": "2022-06-13T13:25:03.832141Z",
     "shell.execute_reply": "2022-06-13T13:25:03.830921Z"
    },
    "papermill": {
     "duration": 0.042778,
     "end_time": "2022-06-13T13:25:03.834711",
     "exception": false,
     "start_time": "2022-06-13T13:25:03.791933",
     "status": "completed"
    },
    "tags": []
   },
   "outputs": [
    {
     "name": "stdout",
     "output_type": "stream",
     "text": [
      "A matriz da regressão logística é:\n"
     ]
    },
    {
     "data": {
      "text/plain": [
       "array([[727, 125],\n",
       "       [168, 503]])"
      ]
     },
     "execution_count": 29,
     "metadata": {},
     "output_type": "execute_result"
    }
   ],
   "source": [
    "def plot_confusion_matrix(cm, classes,\n",
    "                          normalize=False,\n",
    "                          title='Confusion matrix',\n",
    "                          cmap=plt.cm.winter):\n",
    "    if normalize:\n",
    "        cm = cm.astype('float') / cm.sum(axis=1)[:, np.newaxis]\n",
    "    plt.imshow(cm, interpolation='nearest', cmap=cmap)\n",
    "    plt.title(title, fontsize=30)\n",
    "    plt.colorbar()\n",
    "    tick_marks = np.arange(len(classes))\n",
    "    plt.xticks(tick_marks, classes, fontsize=20)\n",
    "    plt.yticks(tick_marks, classes, fontsize=20)\n",
    "    \n",
    "    fmt = '.2f' if normalize else 'd'\n",
    "    thresh = cm.max() / 2.\n",
    "    for i, j in itertools.product(range(cm.shape[0]), range(cm.shape[1])):\n",
    "        plt.text(j, i, format(cm[i, j], fmt), horizontalalignment=\"center\", \n",
    "                 color=\"white\" if cm[i, j] < thresh else \"black\", fontsize=40)\n",
    "    \n",
    "    plt.tight_layout()\n",
    "    plt.ylabel('True label', fontsize=30)\n",
    "    plt.xlabel('Predicted label', fontsize=30)\n",
    "    return plt\n",
    "\n",
    "matriz = confusion_matrix(y_test, y_predicted_counts)\n",
    "print('A matriz da regressão logística é:')\n",
    "matriz"
   ]
  },
  {
   "cell_type": "markdown",
   "id": "79c4af1a",
   "metadata": {
    "papermill": {
     "duration": 0.020436,
     "end_time": "2022-06-13T13:25:03.876789",
     "exception": false,
     "start_time": "2022-06-13T13:25:03.856353",
     "status": "completed"
    },
    "tags": []
   },
   "source": [
    "PALAVRAS MAIS E MENOS USADAS PARA A TOMADA DE DECISÃO "
   ]
  },
  {
   "cell_type": "code",
   "execution_count": 30,
   "id": "1d960af9",
   "metadata": {
    "execution": {
     "iopub.execute_input": "2022-06-13T13:25:03.920135Z",
     "iopub.status.busy": "2022-06-13T13:25:03.919757Z",
     "iopub.status.idle": "2022-06-13T13:25:03.953405Z",
     "shell.execute_reply": "2022-06-13T13:25:03.951753Z"
    },
    "papermill": {
     "duration": 0.05772,
     "end_time": "2022-06-13T13:25:03.955499",
     "exception": false,
     "start_time": "2022-06-13T13:25:03.897779",
     "status": "completed"
    },
    "tags": []
   },
   "outputs": [
    {
     "name": "stdout",
     "output_type": "stream",
     "text": [
      "As dez palavras mais e menos usadas são:\n"
     ]
    },
    {
     "data": {
      "text/plain": [
       "{0: {'tops': [(4.853773239328758, 'acryl'),\n",
       "   (4.893341778882818, 'earthquak'),\n",
       "   (5.29968309913544, 'massacr'),\n",
       "   (5.377565864667575, 'choppa'),\n",
       "   (5.503742543698739, 'wildfir'),\n",
       "   (5.789772208122181, 'opposit'),\n",
       "   (5.81186013038899, 'distanc'),\n",
       "   (6.020338101279987, 'hiroshima'),\n",
       "   (6.390021963454788, 'typhoon'),\n",
       "   (6.542525988179359, 'disneyirh')],\n",
       "  'bottom': [(-3.888194452896802, 'wizkidayo'),\n",
       "   (-3.901361994592375, 'gopdeb'),\n",
       "   (-3.9498293357845444, 'write'),\n",
       "   (-4.064052846046794, 'fresno'),\n",
       "   (-4.090712800461119, 'soul'),\n",
       "   (-4.27398800801791, 'cole'),\n",
       "   (-4.4633333970063935, 'success'),\n",
       "   (-4.465040397741161, 'todayng'),\n",
       "   (-4.841019139881758, 'wowo'),\n",
       "   (-5.292247761740371, 'statist')]}}"
      ]
     },
     "execution_count": 30,
     "metadata": {},
     "output_type": "execute_result"
    }
   ],
   "source": [
    "def get_most_important_features(vectorizer, model, n=5):\n",
    "    index_to_word = {v:k for k,v in vectorizer.vocabulary_.items()}\n",
    "    \n",
    "    classes ={}\n",
    "    for class_index in range(model.coef_.shape[0]):\n",
    "        word_importances = [(el, index_to_word[i]) for i,el in enumerate(model.coef_[class_index])]\n",
    "        sorted_coeff = sorted(word_importances, key = lambda x : x[0], reverse=True)\n",
    "        tops = sorted(sorted_coeff[:n], key = lambda x : x[0])\n",
    "        bottom = sorted_coeff[-n:]\n",
    "        classes[class_index] = {\n",
    "            'tops':tops,\n",
    "            'bottom':bottom\n",
    "        }\n",
    "    return classes\n",
    "\n",
    "var_importantes = get_most_important_features(count_vectorizer, clf, 10)\n",
    "print('As dez palavras mais e menos usadas são:')\n",
    "var_importantes"
   ]
  },
  {
   "cell_type": "markdown",
   "id": "7b582862",
   "metadata": {
    "papermill": {
     "duration": 0.020767,
     "end_time": "2022-06-13T13:25:03.997217",
     "exception": false,
     "start_time": "2022-06-13T13:25:03.976450",
     "status": "completed"
    },
    "tags": []
   },
   "source": [
    "2 - TF-IDF \n",
    "\n",
    "* Através de medidas estatísticas vê o quão importante uma palavra é em um documento"
   ]
  },
  {
   "cell_type": "code",
   "execution_count": 31,
   "id": "ab53464b",
   "metadata": {
    "execution": {
     "iopub.execute_input": "2022-06-13T13:25:04.042574Z",
     "iopub.status.busy": "2022-06-13T13:25:04.041469Z",
     "iopub.status.idle": "2022-06-13T13:25:04.184790Z",
     "shell.execute_reply": "2022-06-13T13:25:04.183788Z"
    },
    "papermill": {
     "duration": 0.168593,
     "end_time": "2022-06-13T13:25:04.187312",
     "exception": false,
     "start_time": "2022-06-13T13:25:04.018719",
     "status": "completed"
    },
    "tags": []
   },
   "outputs": [],
   "source": [
    "# Construindo bag-of-words com count-vectorizer\n",
    "tfidf_vectorizer = TfidfVectorizer()\n",
    "\n",
    "# Aprendendo o vacabulário e contabilizando os termos para teste\n",
    "X_train_tfidf = tfidf_vectorizer.fit_transform(X_train)\n",
    "# Contabilizando os termos no vocabulário aprendido para treino\n",
    "X_test_tfidf = tfidf_vectorizer.transform(X_test)"
   ]
  },
  {
   "cell_type": "markdown",
   "id": "af4f4201",
   "metadata": {
    "papermill": {
     "duration": 0.02072,
     "end_time": "2022-06-13T13:25:04.229014",
     "exception": false,
     "start_time": "2022-06-13T13:25:04.208294",
     "status": "completed"
    },
    "tags": []
   },
   "source": [
    "Gráfico mostrando a distribuição do vocabulário por variável alvo"
   ]
  },
  {
   "cell_type": "code",
   "execution_count": 32,
   "id": "0dd410d7",
   "metadata": {
    "execution": {
     "iopub.execute_input": "2022-06-13T13:25:04.273130Z",
     "iopub.status.busy": "2022-06-13T13:25:04.272714Z",
     "iopub.status.idle": "2022-06-13T13:25:04.766286Z",
     "shell.execute_reply": "2022-06-13T13:25:04.765374Z"
    },
    "papermill": {
     "duration": 0.518236,
     "end_time": "2022-06-13T13:25:04.768261",
     "exception": false,
     "start_time": "2022-06-13T13:25:04.250025",
     "status": "completed"
    },
    "tags": []
   },
   "outputs": [
    {
     "data": {
      "image/png": "[encoded data removed]",
      "text/plain": [
       "<Figure size 360x360 with 1 Axes>"
      ]
     },
     "metadata": {
      "needs_background": "light"
     },
     "output_type": "display_data"
    }
   ],
   "source": [
    "fig = plt.figure(figsize=(5, 5))          \n",
    "plot_LSA(X_train_tfidf, y_train)\n",
    "plt.show()"
   ]
  },
  {
   "cell_type": "markdown",
   "id": "467b74bc",
   "metadata": {
    "papermill": {
     "duration": 0.022081,
     "end_time": "2022-06-13T13:25:04.812020",
     "exception": false,
     "start_time": "2022-06-13T13:25:04.789939",
     "status": "completed"
    },
    "tags": []
   },
   "source": [
    "Predição com TF-IDF"
   ]
  },
  {
   "cell_type": "code",
   "execution_count": 33,
   "id": "44446fee",
   "metadata": {
    "execution": {
     "iopub.execute_input": "2022-06-13T13:25:04.857344Z",
     "iopub.status.busy": "2022-06-13T13:25:04.856949Z",
     "iopub.status.idle": "2022-06-13T13:25:04.861665Z",
     "shell.execute_reply": "2022-06-13T13:25:04.860796Z"
    },
    "papermill": {
     "duration": 0.029498,
     "end_time": "2022-06-13T13:25:04.863647",
     "exception": false,
     "start_time": "2022-06-13T13:25:04.834149",
     "status": "completed"
    },
    "tags": []
   },
   "outputs": [],
   "source": [
    "# Modelo\n",
    "clf_tfidf = LogisticRegression(C=30.0, class_weight='balanced', solver='newton-cg', \n",
    "                         multi_class='ovr', n_jobs=-1, random_state=40)"
   ]
  },
  {
   "cell_type": "code",
   "execution_count": 34,
   "id": "1979efa9",
   "metadata": {
    "execution": {
     "iopub.execute_input": "2022-06-13T13:25:04.908486Z",
     "iopub.status.busy": "2022-06-13T13:25:04.907812Z",
     "iopub.status.idle": "2022-06-13T13:25:04.912271Z",
     "shell.execute_reply": "2022-06-13T13:25:04.911535Z"
    },
    "papermill": {
     "duration": 0.029922,
     "end_time": "2022-06-13T13:25:04.914934",
     "exception": false,
     "start_time": "2022-06-13T13:25:04.885012",
     "status": "completed"
    },
    "tags": []
   },
   "outputs": [],
   "source": [
    "nb_tfidf = MultinomialNB()"
   ]
  },
  {
   "cell_type": "code",
   "execution_count": 35,
   "id": "b35933fc",
   "metadata": {
    "execution": {
     "iopub.execute_input": "2022-06-13T13:25:04.959472Z",
     "iopub.status.busy": "2022-06-13T13:25:04.959074Z",
     "iopub.status.idle": "2022-06-13T13:25:04.971024Z",
     "shell.execute_reply": "2022-06-13T13:25:04.970076Z"
    },
    "papermill": {
     "duration": 0.036438,
     "end_time": "2022-06-13T13:25:04.973013",
     "exception": false,
     "start_time": "2022-06-13T13:25:04.936575",
     "status": "completed"
    },
    "tags": []
   },
   "outputs": [
    {
     "data": {
      "text/plain": [
       "array([1, 0, 0, ..., 0, 0, 0])"
      ]
     },
     "execution_count": 35,
     "metadata": {},
     "output_type": "execute_result"
    }
   ],
   "source": [
    "#Treinando o modelo com o vocabulário construido e as variáveis alvo\n",
    "nb_tfidf.fit(X_train_tfidf, y_train)\n",
    "y_predicted_tfidf = nb_tfidf.predict(X_test_tfidf)\n",
    "\n",
    "y_predicted_tfidf"
   ]
  },
  {
   "cell_type": "markdown",
   "id": "39ba97d5",
   "metadata": {
    "papermill": {
     "duration": 0.021529,
     "end_time": "2022-06-13T13:25:05.016430",
     "exception": false,
     "start_time": "2022-06-13T13:25:04.994901",
     "status": "completed"
    },
    "tags": []
   },
   "source": [
    "AVALIANDO O TF-IDF "
   ]
  },
  {
   "cell_type": "code",
   "execution_count": 36,
   "id": "c0b90ab8",
   "metadata": {
    "execution": {
     "iopub.execute_input": "2022-06-13T13:25:05.062486Z",
     "iopub.status.busy": "2022-06-13T13:25:05.061824Z",
     "iopub.status.idle": "2022-06-13T13:25:05.077050Z",
     "shell.execute_reply": "2022-06-13T13:25:05.076251Z"
    },
    "papermill": {
     "duration": 0.042096,
     "end_time": "2022-06-13T13:25:05.080445",
     "exception": false,
     "start_time": "2022-06-13T13:25:05.038349",
     "status": "completed"
    },
    "tags": []
   },
   "outputs": [
    {
     "name": "stdout",
     "output_type": "stream",
     "text": [
      "Métricas:\n",
      "Métricas: accuracy = 0.805, precision = 0.809, recall = 0.805, f1 = 0.802\n"
     ]
    }
   ],
   "source": [
    "accuracy_tfidf, precision_tfidf, recall_tfidf, f1_tfidf = get_metrics(y_test, y_predicted_tfidf)\n",
    "print('Métricas:')\n",
    "print('Métricas:',\"accuracy = %.3f, precision = %.3f, recall = %.3f, f1 = %.3f\" % (accuracy_tfidf, precision_tfidf, \n",
    "                                                                       recall_tfidf, f1_tfidf))"
   ]
  },
  {
   "cell_type": "code",
   "execution_count": 37,
   "id": "e7aee029",
   "metadata": {
    "execution": {
     "iopub.execute_input": "2022-06-13T13:25:05.127203Z",
     "iopub.status.busy": "2022-06-13T13:25:05.126522Z",
     "iopub.status.idle": "2022-06-13T13:25:05.135060Z",
     "shell.execute_reply": "2022-06-13T13:25:05.133811Z"
    },
    "papermill": {
     "duration": 0.03441,
     "end_time": "2022-06-13T13:25:05.137914",
     "exception": false,
     "start_time": "2022-06-13T13:25:05.103504",
     "status": "completed"
    },
    "tags": []
   },
   "outputs": [
    {
     "name": "stdout",
     "output_type": "stream",
     "text": [
      "A matriz do TF-IDF é:\n"
     ]
    },
    {
     "data": {
      "text/plain": [
       "array([[763,  89],\n",
       "       [208, 463]])"
      ]
     },
     "execution_count": 37,
     "metadata": {},
     "output_type": "execute_result"
    }
   ],
   "source": [
    "matriz2 = confusion_matrix(y_test, y_predicted_tfidf)\n",
    "print('A matriz do TF-IDF é:')\n",
    "matriz2"
   ]
  },
  {
   "cell_type": "markdown",
   "id": "40d46b31",
   "metadata": {
    "papermill": {
     "duration": 0.021323,
     "end_time": "2022-06-13T13:25:05.183008",
     "exception": false,
     "start_time": "2022-06-13T13:25:05.161685",
     "status": "completed"
    },
    "tags": []
   },
   "source": [
    "PALAVRAS MAIS E MENOS USADAS PARA A TOMADA DE DECISÃO"
   ]
  },
  {
   "cell_type": "code",
   "execution_count": 38,
   "id": "529de6cd",
   "metadata": {
    "execution": {
     "iopub.execute_input": "2022-06-13T13:25:05.228610Z",
     "iopub.status.busy": "2022-06-13T13:25:05.227552Z",
     "iopub.status.idle": "2022-06-13T13:25:05.255563Z",
     "shell.execute_reply": "2022-06-13T13:25:05.253443Z"
    },
    "papermill": {
     "duration": 0.053527,
     "end_time": "2022-06-13T13:25:05.258489",
     "exception": false,
     "start_time": "2022-06-13T13:25:05.204962",
     "status": "completed"
    },
    "tags": []
   },
   "outputs": [
    {
     "name": "stdout",
     "output_type": "stream",
     "text": [
      "As dez palavras mais e menos usadas são:\n"
     ]
    },
    {
     "name": "stderr",
     "output_type": "stream",
     "text": [
      "/opt/conda/lib/python3.7/site-packages/sklearn/utils/deprecation.py:103: FutureWarning: Attribute `coef_` was deprecated in version 0.24 and will be removed in 1.1 (renaming of 0.26).\n",
      "  warnings.warn(msg, category=FutureWarning)\n"
     ]
    },
    {
     "data": {
      "text/plain": [
       "{0: {'tops': [(-6.761981607104781, 'train'),\n",
       "   (-6.748187551641944, 'flood'),\n",
       "   (-6.721171430159302, 'home'),\n",
       "   (-6.714363503443373, 'crash'),\n",
       "   (-6.660223361854008, 'california'),\n",
       "   (-6.652246823741697, 'suicid'),\n",
       "   (-6.507333922239139, 'news'),\n",
       "   (-6.380276537202098, 'kill'),\n",
       "   (-6.355065983337062, 'bomb'),\n",
       "   (-6.058610405569359, 'fire')],\n",
       "  'bottom': [(-9.848073889982478, 'zippolin'),\n",
       "   (-9.848073889982478, 'zmne'),\n",
       "   (-9.848073889982478, 'zodiac'),\n",
       "   (-9.848073889982478, 'zombiefunrun'),\n",
       "   (-9.848073889982478, 'zoom'),\n",
       "   (-9.848073889982478, 'zouma'),\n",
       "   (-9.848073889982478, 'zrnf'),\n",
       "   (-9.848073889982478, 'zss'),\n",
       "   (-9.848073889982478, 'zumiez'),\n",
       "   (-9.848073889982478, 'zzzz')]}}"
      ]
     },
     "execution_count": 38,
     "metadata": {},
     "output_type": "execute_result"
    }
   ],
   "source": [
    "var_imp2 = get_most_important_features(tfidf_vectorizer, nb_tfidf, 10)\n",
    "print('As dez palavras mais e menos usadas são:')\n",
    "var_imp2"
   ]
  },
  {
   "cell_type": "markdown",
   "id": "45264076",
   "metadata": {
    "papermill": {
     "duration": 0.022013,
     "end_time": "2022-06-13T13:25:05.302782",
     "exception": false,
     "start_time": "2022-06-13T13:25:05.280769",
     "status": "completed"
    },
    "tags": []
   },
   "source": [
    "**DADOS DE TESTE**"
   ]
  },
  {
   "cell_type": "code",
   "execution_count": 39,
   "id": "30fc213b",
   "metadata": {
    "execution": {
     "iopub.execute_input": "2022-06-13T13:25:05.349571Z",
     "iopub.status.busy": "2022-06-13T13:25:05.348861Z",
     "iopub.status.idle": "2022-06-13T13:25:05.390876Z",
     "shell.execute_reply": "2022-06-13T13:25:05.390047Z"
    },
    "papermill": {
     "duration": 0.06786,
     "end_time": "2022-06-13T13:25:05.392894",
     "exception": false,
     "start_time": "2022-06-13T13:25:05.325034",
     "status": "completed"
    },
    "tags": []
   },
   "outputs": [
    {
     "data": {
      "text/html": [
       "<div>\n",
       "<style scoped>\n",
       "    .dataframe tbody tr th:only-of-type {\n",
       "        vertical-align: middle;\n",
       "    }\n",
       "\n",
       "    .dataframe tbody tr th {\n",
       "        vertical-align: top;\n",
       "    }\n",
       "\n",
       "    .dataframe thead th {\n",
       "        text-align: right;\n",
       "    }\n",
       "</style>\n",
       "<table border=\"1\" class=\"dataframe\">\n",
       "  <thead>\n",
       "    <tr style=\"text-align: right;\">\n",
       "      <th></th>\n",
       "      <th>id</th>\n",
       "      <th>keyword</th>\n",
       "      <th>location</th>\n",
       "      <th>text</th>\n",
       "    </tr>\n",
       "  </thead>\n",
       "  <tbody>\n",
       "    <tr>\n",
       "      <th>0</th>\n",
       "      <td>0</td>\n",
       "      <td>NaN</td>\n",
       "      <td>NaN</td>\n",
       "      <td>Just happened a terrible car crash</td>\n",
       "    </tr>\n",
       "    <tr>\n",
       "      <th>1</th>\n",
       "      <td>2</td>\n",
       "      <td>NaN</td>\n",
       "      <td>NaN</td>\n",
       "      <td>Heard about #earthquake is different cities, s...</td>\n",
       "    </tr>\n",
       "    <tr>\n",
       "      <th>2</th>\n",
       "      <td>3</td>\n",
       "      <td>NaN</td>\n",
       "      <td>NaN</td>\n",
       "      <td>there is a forest fire at spot pond, geese are...</td>\n",
       "    </tr>\n",
       "    <tr>\n",
       "      <th>3</th>\n",
       "      <td>9</td>\n",
       "      <td>NaN</td>\n",
       "      <td>NaN</td>\n",
       "      <td>Apocalypse lighting. #Spokane #wildfires</td>\n",
       "    </tr>\n",
       "    <tr>\n",
       "      <th>4</th>\n",
       "      <td>11</td>\n",
       "      <td>NaN</td>\n",
       "      <td>NaN</td>\n",
       "      <td>Typhoon Soudelor kills 28 in China and Taiwan</td>\n",
       "    </tr>\n",
       "    <tr>\n",
       "      <th>...</th>\n",
       "      <td>...</td>\n",
       "      <td>...</td>\n",
       "      <td>...</td>\n",
       "      <td>...</td>\n",
       "    </tr>\n",
       "    <tr>\n",
       "      <th>3258</th>\n",
       "      <td>10861</td>\n",
       "      <td>NaN</td>\n",
       "      <td>NaN</td>\n",
       "      <td>EARTHQUAKE SAFETY LOS ANGELES ÛÒ SAFETY FASTE...</td>\n",
       "    </tr>\n",
       "    <tr>\n",
       "      <th>3259</th>\n",
       "      <td>10865</td>\n",
       "      <td>NaN</td>\n",
       "      <td>NaN</td>\n",
       "      <td>Storm in RI worse than last hurricane. My city...</td>\n",
       "    </tr>\n",
       "    <tr>\n",
       "      <th>3260</th>\n",
       "      <td>10868</td>\n",
       "      <td>NaN</td>\n",
       "      <td>NaN</td>\n",
       "      <td>Green Line derailment in Chicago http://t.co/U...</td>\n",
       "    </tr>\n",
       "    <tr>\n",
       "      <th>3261</th>\n",
       "      <td>10874</td>\n",
       "      <td>NaN</td>\n",
       "      <td>NaN</td>\n",
       "      <td>MEG issues Hazardous Weather Outlook (HWO) htt...</td>\n",
       "    </tr>\n",
       "    <tr>\n",
       "      <th>3262</th>\n",
       "      <td>10875</td>\n",
       "      <td>NaN</td>\n",
       "      <td>NaN</td>\n",
       "      <td>#CityofCalgary has activated its Municipal Eme...</td>\n",
       "    </tr>\n",
       "  </tbody>\n",
       "</table>\n",
       "<p>3263 rows × 4 columns</p>\n",
       "</div>"
      ],
      "text/plain": [
       "         id keyword location  \\\n",
       "0         0     NaN      NaN   \n",
       "1         2     NaN      NaN   \n",
       "2         3     NaN      NaN   \n",
       "3         9     NaN      NaN   \n",
       "4        11     NaN      NaN   \n",
       "...     ...     ...      ...   \n",
       "3258  10861     NaN      NaN   \n",
       "3259  10865     NaN      NaN   \n",
       "3260  10868     NaN      NaN   \n",
       "3261  10874     NaN      NaN   \n",
       "3262  10875     NaN      NaN   \n",
       "\n",
       "                                                   text  \n",
       "0                    Just happened a terrible car crash  \n",
       "1     Heard about #earthquake is different cities, s...  \n",
       "2     there is a forest fire at spot pond, geese are...  \n",
       "3              Apocalypse lighting. #Spokane #wildfires  \n",
       "4         Typhoon Soudelor kills 28 in China and Taiwan  \n",
       "...                                                 ...  \n",
       "3258  EARTHQUAKE SAFETY LOS ANGELES ÛÒ SAFETY FASTE...  \n",
       "3259  Storm in RI worse than last hurricane. My city...  \n",
       "3260  Green Line derailment in Chicago http://t.co/U...  \n",
       "3261  MEG issues Hazardous Weather Outlook (HWO) htt...  \n",
       "3262  #CityofCalgary has activated its Municipal Eme...  \n",
       "\n",
       "[3263 rows x 4 columns]"
      ]
     },
     "execution_count": 39,
     "metadata": {},
     "output_type": "execute_result"
    }
   ],
   "source": [
    "df_test = pd.read_csv('../input/nlp-getting-started/test.csv')\n",
    "df_test"
   ]
  },
  {
   "cell_type": "markdown",
   "id": "acec3751",
   "metadata": {
    "papermill": {
     "duration": 0.021946,
     "end_time": "2022-06-13T13:25:05.437373",
     "exception": false,
     "start_time": "2022-06-13T13:25:05.415427",
     "status": "completed"
    },
    "tags": []
   },
   "source": [
    "**Limpando o texto e criando os tokens** "
   ]
  },
  {
   "cell_type": "code",
   "execution_count": 40,
   "id": "392ba729",
   "metadata": {
    "execution": {
     "iopub.execute_input": "2022-06-13T13:25:05.484173Z",
     "iopub.status.busy": "2022-06-13T13:25:05.483778Z",
     "iopub.status.idle": "2022-06-13T13:25:07.414052Z",
     "shell.execute_reply": "2022-06-13T13:25:07.413158Z"
    },
    "papermill": {
     "duration": 1.956047,
     "end_time": "2022-06-13T13:25:07.415920",
     "exception": false,
     "start_time": "2022-06-13T13:25:05.459873",
     "status": "completed"
    },
    "tags": []
   },
   "outputs": [
    {
     "data": {
      "text/html": [
       "<div>\n",
       "<style scoped>\n",
       "    .dataframe tbody tr th:only-of-type {\n",
       "        vertical-align: middle;\n",
       "    }\n",
       "\n",
       "    .dataframe tbody tr th {\n",
       "        vertical-align: top;\n",
       "    }\n",
       "\n",
       "    .dataframe thead th {\n",
       "        text-align: right;\n",
       "    }\n",
       "</style>\n",
       "<table border=\"1\" class=\"dataframe\">\n",
       "  <thead>\n",
       "    <tr style=\"text-align: right;\">\n",
       "      <th></th>\n",
       "      <th>id</th>\n",
       "      <th>keyword</th>\n",
       "      <th>location</th>\n",
       "      <th>text</th>\n",
       "      <th>textpronto</th>\n",
       "      <th>tokens</th>\n",
       "    </tr>\n",
       "  </thead>\n",
       "  <tbody>\n",
       "    <tr>\n",
       "      <th>0</th>\n",
       "      <td>0</td>\n",
       "      <td>NaN</td>\n",
       "      <td>NaN</td>\n",
       "      <td>Just happened a terrible car crash</td>\n",
       "      <td>happen terribl car crash</td>\n",
       "      <td>[happen, terribl, car, crash]</td>\n",
       "    </tr>\n",
       "    <tr>\n",
       "      <th>1</th>\n",
       "      <td>2</td>\n",
       "      <td>NaN</td>\n",
       "      <td>NaN</td>\n",
       "      <td>Heard about #earthquake is different cities, s...</td>\n",
       "      <td>hear earthquak differ citi stay safe everyon</td>\n",
       "      <td>[hear, earthquak, differ, citi, stay, safe, ev...</td>\n",
       "    </tr>\n",
       "    <tr>\n",
       "      <th>2</th>\n",
       "      <td>3</td>\n",
       "      <td>NaN</td>\n",
       "      <td>NaN</td>\n",
       "      <td>there is a forest fire at spot pond, geese are...</td>\n",
       "      <td>forest fire spot pond gees flee across street ...</td>\n",
       "      <td>[forest, fire, spot, pond, gees, flee, across,...</td>\n",
       "    </tr>\n",
       "    <tr>\n",
       "      <th>3</th>\n",
       "      <td>9</td>\n",
       "      <td>NaN</td>\n",
       "      <td>NaN</td>\n",
       "      <td>Apocalypse lighting. #Spokane #wildfires</td>\n",
       "      <td>apocalyps light spokan wildfir</td>\n",
       "      <td>[apocalyps, light, spokan, wildfir]</td>\n",
       "    </tr>\n",
       "    <tr>\n",
       "      <th>4</th>\n",
       "      <td>11</td>\n",
       "      <td>NaN</td>\n",
       "      <td>NaN</td>\n",
       "      <td>Typhoon Soudelor kills 28 in China and Taiwan</td>\n",
       "      <td>typhoon soudelor kill china taiwan</td>\n",
       "      <td>[typhoon, soudelor, kill, china, taiwan]</td>\n",
       "    </tr>\n",
       "    <tr>\n",
       "      <th>...</th>\n",
       "      <td>...</td>\n",
       "      <td>...</td>\n",
       "      <td>...</td>\n",
       "      <td>...</td>\n",
       "      <td>...</td>\n",
       "      <td>...</td>\n",
       "    </tr>\n",
       "    <tr>\n",
       "      <th>3258</th>\n",
       "      <td>10861</td>\n",
       "      <td>NaN</td>\n",
       "      <td>NaN</td>\n",
       "      <td>EARTHQUAKE SAFETY LOS ANGELES ÛÒ SAFETY FASTE...</td>\n",
       "      <td>earthquak safeti lo angel safeti fasten xrwn</td>\n",
       "      <td>[earthquak, safeti, lo, angel, safeti, fasten,...</td>\n",
       "    </tr>\n",
       "    <tr>\n",
       "      <th>3259</th>\n",
       "      <td>10865</td>\n",
       "      <td>NaN</td>\n",
       "      <td>NaN</td>\n",
       "      <td>Storm in RI worse than last hurricane. My city...</td>\n",
       "      <td>storm ri wors last hurrican citi amp other har...</td>\n",
       "      <td>[storm, ri, wors, last, hurrican, citi, amp, o...</td>\n",
       "    </tr>\n",
       "    <tr>\n",
       "      <th>3260</th>\n",
       "      <td>10868</td>\n",
       "      <td>NaN</td>\n",
       "      <td>NaN</td>\n",
       "      <td>Green Line derailment in Chicago http://t.co/U...</td>\n",
       "      <td>green line derail chicago</td>\n",
       "      <td>[green, line, derail, chicago]</td>\n",
       "    </tr>\n",
       "    <tr>\n",
       "      <th>3261</th>\n",
       "      <td>10874</td>\n",
       "      <td>NaN</td>\n",
       "      <td>NaN</td>\n",
       "      <td>MEG issues Hazardous Weather Outlook (HWO) htt...</td>\n",
       "      <td>meg issu hazard weather outlook hwo</td>\n",
       "      <td>[meg, issu, hazard, weather, outlook, hwo]</td>\n",
       "    </tr>\n",
       "    <tr>\n",
       "      <th>3262</th>\n",
       "      <td>10875</td>\n",
       "      <td>NaN</td>\n",
       "      <td>NaN</td>\n",
       "      <td>#CityofCalgary has activated its Municipal Eme...</td>\n",
       "      <td>cityofcalgari activ municip emerg plan yycstorm</td>\n",
       "      <td>[cityofcalgari, activ, municip, emerg, plan, y...</td>\n",
       "    </tr>\n",
       "  </tbody>\n",
       "</table>\n",
       "<p>3263 rows × 6 columns</p>\n",
       "</div>"
      ],
      "text/plain": [
       "         id keyword location  \\\n",
       "0         0     NaN      NaN   \n",
       "1         2     NaN      NaN   \n",
       "2         3     NaN      NaN   \n",
       "3         9     NaN      NaN   \n",
       "4        11     NaN      NaN   \n",
       "...     ...     ...      ...   \n",
       "3258  10861     NaN      NaN   \n",
       "3259  10865     NaN      NaN   \n",
       "3260  10868     NaN      NaN   \n",
       "3261  10874     NaN      NaN   \n",
       "3262  10875     NaN      NaN   \n",
       "\n",
       "                                                   text  \\\n",
       "0                    Just happened a terrible car crash   \n",
       "1     Heard about #earthquake is different cities, s...   \n",
       "2     there is a forest fire at spot pond, geese are...   \n",
       "3              Apocalypse lighting. #Spokane #wildfires   \n",
       "4         Typhoon Soudelor kills 28 in China and Taiwan   \n",
       "...                                                 ...   \n",
       "3258  EARTHQUAKE SAFETY LOS ANGELES ÛÒ SAFETY FASTE...   \n",
       "3259  Storm in RI worse than last hurricane. My city...   \n",
       "3260  Green Line derailment in Chicago http://t.co/U...   \n",
       "3261  MEG issues Hazardous Weather Outlook (HWO) htt...   \n",
       "3262  #CityofCalgary has activated its Municipal Eme...   \n",
       "\n",
       "                                             textpronto  \\\n",
       "0                              happen terribl car crash   \n",
       "1          hear earthquak differ citi stay safe everyon   \n",
       "2     forest fire spot pond gees flee across street ...   \n",
       "3                        apocalyps light spokan wildfir   \n",
       "4                    typhoon soudelor kill china taiwan   \n",
       "...                                                 ...   \n",
       "3258       earthquak safeti lo angel safeti fasten xrwn   \n",
       "3259  storm ri wors last hurrican citi amp other har...   \n",
       "3260                          green line derail chicago   \n",
       "3261                meg issu hazard weather outlook hwo   \n",
       "3262    cityofcalgari activ municip emerg plan yycstorm   \n",
       "\n",
       "                                                 tokens  \n",
       "0                         [happen, terribl, car, crash]  \n",
       "1     [hear, earthquak, differ, citi, stay, safe, ev...  \n",
       "2     [forest, fire, spot, pond, gees, flee, across,...  \n",
       "3                   [apocalyps, light, spokan, wildfir]  \n",
       "4              [typhoon, soudelor, kill, china, taiwan]  \n",
       "...                                                 ...  \n",
       "3258  [earthquak, safeti, lo, angel, safeti, fasten,...  \n",
       "3259  [storm, ri, wors, last, hurrican, citi, amp, o...  \n",
       "3260                     [green, line, derail, chicago]  \n",
       "3261         [meg, issu, hazard, weather, outlook, hwo]  \n",
       "3262  [cityofcalgari, activ, municip, emerg, plan, y...  \n",
       "\n",
       "[3263 rows x 6 columns]"
      ]
     },
     "execution_count": 40,
     "metadata": {},
     "output_type": "execute_result"
    }
   ],
   "source": [
    "df_test['textpronto'] = df_test['text'].apply(clean_review)\n",
    "\n",
    "df_test[\"tokens\"] = df_test[\"textpronto\"].apply(tokenizer.tokenize)\n",
    "\n",
    "df_test"
   ]
  },
  {
   "cell_type": "markdown",
   "id": "11796b44",
   "metadata": {
    "papermill": {
     "duration": 0.022731,
     "end_time": "2022-06-13T13:25:07.461934",
     "exception": false,
     "start_time": "2022-06-13T13:25:07.439203",
     "status": "completed"
    },
    "tags": []
   },
   "source": [
    "Excluindo as colunas location e keyword"
   ]
  },
  {
   "cell_type": "code",
   "execution_count": 41,
   "id": "6878053a",
   "metadata": {
    "execution": {
     "iopub.execute_input": "2022-06-13T13:25:07.510293Z",
     "iopub.status.busy": "2022-06-13T13:25:07.509423Z",
     "iopub.status.idle": "2022-06-13T13:25:07.516225Z",
     "shell.execute_reply": "2022-06-13T13:25:07.515315Z"
    },
    "papermill": {
     "duration": 0.032893,
     "end_time": "2022-06-13T13:25:07.518117",
     "exception": false,
     "start_time": "2022-06-13T13:25:07.485224",
     "status": "completed"
    },
    "tags": []
   },
   "outputs": [],
   "source": [
    "df_test = df_test.drop(columns=[ 'location',\n",
    "                   'keyword'])"
   ]
  },
  {
   "cell_type": "markdown",
   "id": "f231384a",
   "metadata": {
    "papermill": {
     "duration": 0.022617,
     "end_time": "2022-06-13T13:25:07.563760",
     "exception": false,
     "start_time": "2022-06-13T13:25:07.541143",
     "status": "completed"
    },
    "tags": []
   },
   "source": [
    "Dividindo em x e y"
   ]
  },
  {
   "cell_type": "code",
   "execution_count": 42,
   "id": "9b5d48e3",
   "metadata": {
    "execution": {
     "iopub.execute_input": "2022-06-13T13:25:07.611911Z",
     "iopub.status.busy": "2022-06-13T13:25:07.611116Z",
     "iopub.status.idle": "2022-06-13T13:25:07.617128Z",
     "shell.execute_reply": "2022-06-13T13:25:07.616530Z"
    },
    "papermill": {
     "duration": 0.032365,
     "end_time": "2022-06-13T13:25:07.619026",
     "exception": false,
     "start_time": "2022-06-13T13:25:07.586661",
     "status": "completed"
    },
    "tags": []
   },
   "outputs": [],
   "source": [
    "x = df_test['textpronto']\n",
    "y = df_test.drop('textpronto', axis = 1)"
   ]
  },
  {
   "cell_type": "code",
   "execution_count": 43,
   "id": "5feea210",
   "metadata": {
    "execution": {
     "iopub.execute_input": "2022-06-13T13:25:07.666804Z",
     "iopub.status.busy": "2022-06-13T13:25:07.666110Z",
     "iopub.status.idle": "2022-06-13T13:25:07.716920Z",
     "shell.execute_reply": "2022-06-13T13:25:07.716221Z"
    },
    "papermill": {
     "duration": 0.07734,
     "end_time": "2022-06-13T13:25:07.719351",
     "exception": false,
     "start_time": "2022-06-13T13:25:07.642011",
     "status": "completed"
    },
    "tags": []
   },
   "outputs": [],
   "source": [
    "X_tfidf = tfidf_vectorizer.transform(x)"
   ]
  },
  {
   "cell_type": "code",
   "execution_count": 44,
   "id": "6613170c",
   "metadata": {
    "execution": {
     "iopub.execute_input": "2022-06-13T13:25:07.767784Z",
     "iopub.status.busy": "2022-06-13T13:25:07.767092Z",
     "iopub.status.idle": "2022-06-13T13:25:07.774370Z",
     "shell.execute_reply": "2022-06-13T13:25:07.773666Z"
    },
    "papermill": {
     "duration": 0.033438,
     "end_time": "2022-06-13T13:25:07.776191",
     "exception": false,
     "start_time": "2022-06-13T13:25:07.742753",
     "status": "completed"
    },
    "tags": []
   },
   "outputs": [
    {
     "data": {
      "text/plain": [
       "array([1, 0, 1, 1, 1, 1, 0, 0, 0, 0, 0, 0, 0, 0, 0, 1, 0, 1, 0, 0, 0, 0,\n",
       "       0, 1, 0, 0, 0, 0, 0, 1, 0, 0, 1, 0, 1, 0, 1, 0, 0, 1, 0, 1, 0, 1,\n",
       "       0, 0, 0, 0, 0, 0, 0, 0, 1, 0, 0, 0, 0, 0, 0, 0, 1, 0, 1, 1, 1, 1,\n",
       "       0, 1, 1, 1, 1, 0, 1, 1, 1, 1, 0, 0, 0, 1, 1, 0, 0, 1, 1, 1, 0, 0,\n",
       "       1, 1])"
      ]
     },
     "execution_count": 44,
     "metadata": {},
     "output_type": "execute_result"
    }
   ],
   "source": [
    "preds = nb_tfidf.predict(X_tfidf)\n",
    "preds[:90]"
   ]
  },
  {
   "cell_type": "code",
   "execution_count": 45,
   "id": "aaef0de9",
   "metadata": {
    "execution": {
     "iopub.execute_input": "2022-06-13T13:25:07.824289Z",
     "iopub.status.busy": "2022-06-13T13:25:07.823607Z",
     "iopub.status.idle": "2022-06-13T13:25:07.845959Z",
     "shell.execute_reply": "2022-06-13T13:25:07.844925Z"
    },
    "papermill": {
     "duration": 0.04878,
     "end_time": "2022-06-13T13:25:07.848079",
     "exception": false,
     "start_time": "2022-06-13T13:25:07.799299",
     "status": "completed"
    },
    "tags": []
   },
   "outputs": [
    {
     "data": {
      "text/html": [
       "<div>\n",
       "<style scoped>\n",
       "    .dataframe tbody tr th:only-of-type {\n",
       "        vertical-align: middle;\n",
       "    }\n",
       "\n",
       "    .dataframe tbody tr th {\n",
       "        vertical-align: top;\n",
       "    }\n",
       "\n",
       "    .dataframe thead th {\n",
       "        text-align: right;\n",
       "    }\n",
       "</style>\n",
       "<table border=\"1\" class=\"dataframe\">\n",
       "  <thead>\n",
       "    <tr style=\"text-align: right;\">\n",
       "      <th></th>\n",
       "      <th>id</th>\n",
       "      <th>target</th>\n",
       "    </tr>\n",
       "  </thead>\n",
       "  <tbody>\n",
       "    <tr>\n",
       "      <th>0</th>\n",
       "      <td>0</td>\n",
       "      <td>1</td>\n",
       "    </tr>\n",
       "    <tr>\n",
       "      <th>1</th>\n",
       "      <td>2</td>\n",
       "      <td>0</td>\n",
       "    </tr>\n",
       "    <tr>\n",
       "      <th>2</th>\n",
       "      <td>3</td>\n",
       "      <td>1</td>\n",
       "    </tr>\n",
       "    <tr>\n",
       "      <th>3</th>\n",
       "      <td>9</td>\n",
       "      <td>1</td>\n",
       "    </tr>\n",
       "    <tr>\n",
       "      <th>4</th>\n",
       "      <td>11</td>\n",
       "      <td>1</td>\n",
       "    </tr>\n",
       "    <tr>\n",
       "      <th>...</th>\n",
       "      <td>...</td>\n",
       "      <td>...</td>\n",
       "    </tr>\n",
       "    <tr>\n",
       "      <th>85</th>\n",
       "      <td>292</td>\n",
       "      <td>1</td>\n",
       "    </tr>\n",
       "    <tr>\n",
       "      <th>86</th>\n",
       "      <td>295</td>\n",
       "      <td>0</td>\n",
       "    </tr>\n",
       "    <tr>\n",
       "      <th>87</th>\n",
       "      <td>300</td>\n",
       "      <td>0</td>\n",
       "    </tr>\n",
       "    <tr>\n",
       "      <th>88</th>\n",
       "      <td>304</td>\n",
       "      <td>1</td>\n",
       "    </tr>\n",
       "    <tr>\n",
       "      <th>89</th>\n",
       "      <td>305</td>\n",
       "      <td>1</td>\n",
       "    </tr>\n",
       "  </tbody>\n",
       "</table>\n",
       "<p>90 rows × 2 columns</p>\n",
       "</div>"
      ],
      "text/plain": [
       "     id  target\n",
       "0     0       1\n",
       "1     2       0\n",
       "2     3       1\n",
       "3     9       1\n",
       "4    11       1\n",
       "..  ...     ...\n",
       "85  292       1\n",
       "86  295       0\n",
       "87  300       0\n",
       "88  304       1\n",
       "89  305       1\n",
       "\n",
       "[90 rows x 2 columns]"
      ]
     },
     "execution_count": 45,
     "metadata": {},
     "output_type": "execute_result"
    }
   ],
   "source": [
    "subm =pd.DataFrame({'id':df_test['id'].to_list(),'target':preds})\n",
    "subm.to_csv('submission.csv',index=False)\n",
    "\n",
    "subm[:90]"
   ]
  }
 ],
 "metadata": {
  "kernelspec": {
   "display_name": "Python 3",
   "language": "python",
   "name": "python3"
  },
  "language_info": {
   "codemirror_mode": {
    "name": "ipython",
    "version": 3
   },
   "file_extension": ".py",
   "mimetype": "text/x-python",
   "name": "python",
   "nbconvert_exporter": "python",
   "pygments_lexer": "ipython3",
   "version": "3.7.12"
  },
  "papermill": {
   "default_parameters": {},
   "duration": 35.272994,
   "end_time": "2022-06-13T13:25:10.494549",
   "environment_variables": {},
   "exception": null,
   "input_path": "__notebook__.ipynb",
   "output_path": "__notebook__.ipynb",
   "parameters": {},
   "start_time": "2022-06-13T13:24:35.221555",
   "version": "2.3.4"
  }
 },
 "nbformat": 4,
 "nbformat_minor": 5
}
